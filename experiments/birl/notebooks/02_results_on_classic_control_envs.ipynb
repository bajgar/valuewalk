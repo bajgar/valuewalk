{
 "cells": [
  {
   "cell_type": "code",
   "id": "initial_id",
   "metadata": {
    "collapsed": true,
    "ExecuteTime": {
     "end_time": "2024-06-25T09:13:29.790589Z",
     "start_time": "2024-06-25T09:13:25.185494Z"
    }
   },
   "source": [
    "import glob\n",
    "import re\n",
    "from collections import defaultdict\n",
    "\n",
    "import gymnasium as gym\n",
    "import matplotlib.pyplot as plt\n",
    "import numpy as np\n",
    "# import seaborn as sns\n",
    "import torch\n",
    "from tqdm import tqdm\n",
    "\n",
    "from analysis.result_loading import load_and_combine_vw_models\n",
    "from configuration.configurable_factory import resolve_configurable_factories\n",
    "from envs.gym_make import get_cartpole_env_config, get_acrobot_env_config, get_lunar_lander_env_config\n",
    "from experiments.paths import RESULTS_DIR\n",
    "from experiments.utils.load_avril_demos import load_avril_demonstrations\n",
    "# from experiments.birl.presets.safety_gym_presets import get_safegym_pt_goal_l1_config"
   ],
   "outputs": [
    {
     "name": "stderr",
     "output_type": "stream",
     "text": [
      "/home/ob/venv/irl-torch/lib/python3.10/site-packages/ray/data/__init__.py:4: DeprecationWarning: pkg_resources is deprecated as an API. See https://setuptools.pypa.io/en/latest/pkg_resources.html\n",
      "  from pkg_resources._vendor.packaging.version import parse as parse_version\n",
      "/home/ob/dev/irl-torch/irl_algorithms/demonstrations_config.py:34: PydanticDeprecatedSince20: Pydantic V1 style `@validator` validators are deprecated. You should migrate to Pydantic V2 style `@field_validator` validators, see the migration guide for more details. Deprecated in Pydantic V2.0 to be removed in V3.0. See Pydantic V2 Migration Guide at https://errors.pydantic.dev/2.5/migration/\n",
      "  @pydantic.validator(\"total_samples\")\n",
      "/home/ob/venv/irl-torch/lib/python3.10/site-packages/pydantic/_internal/_config.py:271: PydanticDeprecatedSince20: Support for class-based `config` is deprecated, use ConfigDict instead. Deprecated in Pydantic V2.0 to be removed in V3.0. See Pydantic V2 Migration Guide at https://errors.pydantic.dev/2.5/migration/\n",
      "  warnings.warn(DEPRECATION_MESSAGE, DeprecationWarning)\n"
     ]
    }
   ],
   "execution_count": 1
  },
  {
   "metadata": {
    "ExecuteTime": {
     "end_time": "2024-06-25T09:13:29.793916Z",
     "start_time": "2024-06-25T09:13:29.791609Z"
    }
   },
   "cell_type": "code",
   "source": [
    "# Models were evaluated with the following numbers of expert trajectories\n",
    "traj_nums = [1,3,7,10,15]"
   ],
   "id": "e4df70ab43debabd",
   "outputs": [],
   "execution_count": 2
  },
  {
   "metadata": {},
   "cell_type": "markdown",
   "source": [
    "## 0. Functions\n",
    "Let's define a few functions that we'll use for model evaluation and result plotting.\n",
    "\n",
    "The following function tests a reward model (mainly consisting of a MCMC sample of parameters of the approximate Q-function) on an environment, and returns the rewards obtained by the model:"
   ],
   "id": "24ce4ef6f605e388"
  },
  {
   "metadata": {
    "ExecuteTime": {
     "end_time": "2024-06-25T15:36:27.388637Z",
     "start_time": "2024-06-25T15:36:27.384834Z"
    }
   },
   "cell_type": "code",
   "source": [
    "def gym_test(reward_model, env_name, num_actions, test_evals=300, aggregation_fn=lambda x: torch.median(x, dim=-1)[0]):\n",
    "    results = []\n",
    "    env = gym.make(env_name)\n",
    "    for t in tqdm(range(test_evals), desc=\"Testing\"):\n",
    "        observation, info = env.reset()\n",
    "        done = truncated = False\n",
    "        rewards = []\n",
    "        while not (done or truncated):\n",
    "            logit = aggregation_fn(reward_model.q_samples(torch.from_numpy(observation).float().unsqueeze(0), torch.eye(num_actions, dtype=torch.float)))\n",
    "            # logit = torch.randn_like(logit)\n",
    "            action = torch.argmax(logit, dim=1)\n",
    "            observation, reward, done, truncated, info = env.step(int(action))\n",
    "            rewards.append(reward)\n",
    "\n",
    "        results.append(sum(rewards))\n",
    "    env.close()\n",
    "    mean_res = sum(results) / test_evals\n",
    "    print(f\"Mean Reward: {mean_res}\")\n",
    "    \n",
    "    plt.hist(results, bins=10)\n",
    "\n",
    "    return results"
   ],
   "id": "31c85908038fd2f4",
   "outputs": [],
   "execution_count": 85
  },
  {
   "metadata": {},
   "cell_type": "markdown",
   "source": "The following function tests a random policy on an environment, and returns the rewards obtained by the policy:",
   "id": "711b84b2b0116f1e"
  },
  {
   "metadata": {
    "ExecuteTime": {
     "end_time": "2024-06-25T09:44:47.465168Z",
     "start_time": "2024-06-25T09:44:47.461853Z"
    }
   },
   "cell_type": "code",
   "source": [
    "def gym_test_random_policy(env_name, test_evals=1000):\n",
    "    results = []\n",
    "    env = gym.make(env_name)\n",
    "    for t in tqdm(range(test_evals), desc=\"Testing\"):\n",
    "        observation, info = env.reset()\n",
    "        done = truncated = False\n",
    "        rewards = []\n",
    "        while not (done or truncated):\n",
    "            # logit = torch.randn_like(logit)\n",
    "            action = np.random.randint(0, env_config.a_dim)\n",
    "            observation, reward, done, truncated, info = env.step(int(action))\n",
    "            rewards.append(reward)\n",
    "\n",
    "        results.append(sum(rewards))\n",
    "    env.close()\n",
    "    mean_res = sum(results) / test_evals\n",
    "    print(f\"Mean Reward: {mean_res}\")\n",
    "    \n",
    "    plt.hist(results, bins=10)\n",
    "\n",
    "    return results"
   ],
   "id": "bf42fc7e9737c5d8",
   "outputs": [],
   "execution_count": 28
  },
  {
   "metadata": {},
   "cell_type": "markdown",
   "source": "## 1. Cartpole results",
   "id": "390adb337baae15"
  },
  {
   "metadata": {
    "ExecuteTime": {
     "end_time": "2024-06-25T15:30:05.589057Z",
     "start_time": "2024-06-25T15:30:05.586661Z"
    }
   },
   "cell_type": "code",
   "source": [
    "beta = 3.\n",
    "env_config = get_cartpole_env_config()"
   ],
   "id": "c3fe3a28cefe818a",
   "outputs": [],
   "execution_count": 76
  },
  {
   "metadata": {
    "ExecuteTime": {
     "end_time": "2024-06-25T16:35:53.380855Z",
     "start_time": "2024-06-25T16:35:53.370604Z"
    }
   },
   "cell_type": "code",
   "source": [
    "# list files in the result folder:\n",
    "all_results = [file_name for file_name in glob.glob(str(RESULTS_DIR / \"birl/06b_vw_cartpole*_paper_*.pt\")) \n",
    "               if \"_10s_\" not in file_name and \n",
    "               \"info\" not in file_name and \n",
    "               \".checkpoint.\" not in file_name and \n",
    "               \"evaluation\" not in file_name]\n",
    "all_results"
   ],
   "id": "99a5da8ce2dc151d",
   "outputs": [
    {
     "data": {
      "text/plain": [
       "['/home/ob/results/irl-torch/birl/06b_vw_cartpole_loop_10t_hl8_split4_paper_240614-135537.pt',\n",
       " '/home/ob/results/irl-torch/birl/06b_vw_cartpole_loop_3t_hl8_split1_paper_240611-162605.pt',\n",
       " '/home/ob/results/irl-torch/birl/06b_vw_cartpole_loop_15t_hl8_split0_paper_240614-132149.pt',\n",
       " '/home/ob/results/irl-torch/birl/06b_vw_cartpole_loop_1t_hl8_split2_paper_240611-114556.pt',\n",
       " '/home/ob/results/irl-torch/birl/06b_vw_cartpole_loop_1t_hl8_split3_paper_240611-124038.pt',\n",
       " '/home/ob/results/irl-torch/birl/06b_vw_cartpole_loop_7t_hl8_split3_paper_240613-030637.pt',\n",
       " '/home/ob/results/irl-torch/birl/06b_vw_cartpole_loop_3t_hl8_split4_paper_240611-154433.pt',\n",
       " '/home/ob/results/irl-torch/birl/06b_vw_cartpole_loop_3t_hl8_split3_paper_240611-200418.pt',\n",
       " '/home/ob/results/irl-torch/birl/06b_vw_cartpole_loop_10t_hl8_split0_paper_240616-202655.pt',\n",
       " '/home/ob/results/irl-torch/birl/06b_vw_cartpole_loop_10t_hl8_split1_paper_240615-042109.pt',\n",
       " '/home/ob/results/irl-torch/birl/06b_vw_cartpole_loop_10t_hl8_split2_paper_240618-025135.pt',\n",
       " '/home/ob/results/irl-torch/birl/06b_vw_cartpole_loop_15t_hl8_split2_paper_240616-151422.pt',\n",
       " '/home/ob/results/irl-torch/birl/06b_vw_cartpole_loop_7t_hl8_split1_paper_240613-174638.pt',\n",
       " '/home/ob/results/irl-torch/birl/06b_vw_cartpole_loop_15t_hl8_split2_paper_240617-135029.pt',\n",
       " '/home/ob/results/irl-torch/birl/06b_vw_cartpole_loop_7t_hl8_split3_paper_240614-144412.pt',\n",
       " '/home/ob/results/irl-torch/birl/06b_vw_cartpole_loop_1t_hl8_split4_paper_240611-122932.pt',\n",
       " '/home/ob/results/irl-torch/birl/06b_vw_cartpole_loop_10t_hl8_split2_paper_240615-052409.pt',\n",
       " '/home/ob/results/irl-torch/birl/06b_vw_cartpole_loop_10t_hl8_split3_paper_240616-054826.pt',\n",
       " '/home/ob/results/irl-torch/birl/06b_vw_cartpole_loop_3t_hl8_split1_paper_240611-224351.pt',\n",
       " '/home/ob/results/irl-torch/birl/06b_vw_cartpole_loop_10t_hl8_split4_paper_240617-083915.pt',\n",
       " '/home/ob/results/irl-torch/birl/06b_vw_cartpole_loop_1t_hl8_split2_paper_240611-131059.pt',\n",
       " '/home/ob/results/irl-torch/birl/06b_vw_cartpole_loop_1t_hl8_split4_paper_240611-005634.pt',\n",
       " '/home/ob/results/irl-torch/birl/06b_vw_cartpole_loop_15t_hl8_split3_paper_240617-114328.pt',\n",
       " '/home/ob/results/irl-torch/birl/06b_vw_cartpole_loop_7t_hl8_split3_paper_240612-085914.pt',\n",
       " '/home/ob/results/irl-torch/birl/06b_vw_cartpole_loop_1t_hl8_split4_paper_240611-094559.pt',\n",
       " '/home/ob/results/irl-torch/birl/06b_vw_cartpole_loop_7t_hl8_split0_paper_240612-064904.pt',\n",
       " '/home/ob/results/irl-torch/birl/06b_vw_cartpole_loop_10t_hl8_split3_paper_240614-205159.pt',\n",
       " '/home/ob/results/irl-torch/birl/06b_vw_cartpole_loop_3t_hl8_split1_paper_240611-191848.pt',\n",
       " '/home/ob/results/irl-torch/birl/06b_vw_cartpole_loop_1t_hl8_split1_paper_240611-144124.pt',\n",
       " '/home/ob/results/irl-torch/birl/06b_vw_cartpole_loop_7t_hl8_split1_paper_240612-232248.pt',\n",
       " '/home/ob/results/irl-torch/birl/06b_vw_cartpole_loop_1t_hl8_split0_paper_240611-134042.pt',\n",
       " '/home/ob/results/irl-torch/birl/06b_vw_cartpole_loop_3t_hl8_split3_paper_240611-235518.pt',\n",
       " '/home/ob/results/irl-torch/birl/06b_vw_cartpole_loop_3t_hl8_split0_paper_240611-175529.pt',\n",
       " '/home/ob/results/irl-torch/birl/06b_vw_cartpole_loop_15t_hl8_split4_paper_240617-182944.pt',\n",
       " '/home/ob/results/irl-torch/birl/06b_vw_cartpole_loop_1t_hl8_split0_paper_240611-094610.pt',\n",
       " '/home/ob/results/irl-torch/birl/06b_vw_cartpole_loop_1t_hl8_split0_paper_240611-114211.pt',\n",
       " '/home/ob/results/irl-torch/birl/06b_vw_cartpole_loop_7t_hl8_split2_paper_240614-083407.pt',\n",
       " '/home/ob/results/irl-torch/birl/06b_vw_cartpole_loop_1t_hl8_split0_paper_240611-005523.pt',\n",
       " '/home/ob/results/irl-torch/birl/06b_vw_cartpole_loop_1t_hl8_split1_paper_240611-125508.pt',\n",
       " '/home/ob/results/irl-torch/birl/06b_vw_cartpole_loop_1t_hl8_split1_paper_240611-114027.pt',\n",
       " '/home/ob/results/irl-torch/birl/06b_vw_cartpole_loop_3t_hl8_split0_paper_240612-023312.pt',\n",
       " '/home/ob/results/irl-torch/birl/06b_vw_cartpole_loop_3t_hl8_split4_paper_240611-230826.pt',\n",
       " '/home/ob/results/irl-torch/birl/06b_vw_cartpole_loop_7t_hl8_split2_paper_240612-044348.pt',\n",
       " '/home/ob/results/irl-torch/birl/06b_vw_cartpole_loop_10t_hl8_split3_paper_240617-163900.pt',\n",
       " '/home/ob/results/irl-torch/birl/06b_vw_cartpole_loop_10t_hl8_split0_paper_240614-140947.pt',\n",
       " '/home/ob/results/irl-torch/birl/06b_vw_cartpole_loop_1t_hl8_split1_paper_240611-094607.pt',\n",
       " '/home/ob/results/irl-torch/birl/06b_vw_cartpole_loop_3t_hl8_split3_paper_240612-040244.pt',\n",
       " '/home/ob/results/irl-torch/birl/06b_vw_cartpole_loop_10t_hl8_split2_paper_240616-164828.pt',\n",
       " '/home/ob/results/irl-torch/birl/06b_vw_cartpole_loop_1t_hl8_split2_paper_240611-094605.pt',\n",
       " '/home/ob/results/irl-torch/birl/06b_vw_cartpole_loop_10t_hl8_split4_paper_240615-232226.pt',\n",
       " '/home/ob/results/irl-torch/birl/06b_vw_cartpole_loop_1t_hl8_split2_paper_240611-005609.pt',\n",
       " '/home/ob/results/irl-torch/birl/06b_vw_cartpole_loop_7t_hl8_split0_paper_240612-140604.pt',\n",
       " '/home/ob/results/irl-torch/birl/06b_vw_cartpole_loop_7t_hl8_split4_paper_240612-021219.pt',\n",
       " '/home/ob/results/irl-torch/birl/06b_vw_cartpole_loop_10t_hl8_split1_paper_240616-145930.pt',\n",
       " '/home/ob/results/irl-torch/birl/06b_vw_cartpole_loop_7t_hl8_split1_paper_240612-062512.pt',\n",
       " '/home/ob/results/irl-torch/birl/06b_vw_cartpole_loop_15t_hl8_split3_paper_240616-123828.pt',\n",
       " '/home/ob/results/irl-torch/birl/06b_vw_cartpole_loop_7t_hl8_split4_paper_240613-194103.pt',\n",
       " '/home/ob/results/irl-torch/birl/06b_vw_cartpole_loop_1t_hl8_split2_paper_240611-123250.pt',\n",
       " '/home/ob/results/irl-torch/birl/06b_vw_cartpole_loop_7t_hl8_split2_paper_240612-203739.pt',\n",
       " '/home/ob/results/irl-torch/birl/06b_vw_cartpole_loop_1t_hl8_split4_paper_240611-111844.pt',\n",
       " '/home/ob/results/irl-torch/birl/06b_vw_cartpole_loop_7t_hl8_split1_paper_240614-075558.pt',\n",
       " '/home/ob/results/irl-torch/birl/06b_vw_cartpole_loop_3t_hl8_split2_paper_240611-150352.pt',\n",
       " '/home/ob/results/irl-torch/birl/06b_vw_cartpole_loop_7t_hl8_split3_paper_240613-201009.pt',\n",
       " '/home/ob/results/irl-torch/birl/06b_vw_cartpole_loop_3t_hl8_split0_paper_240611-213028.pt',\n",
       " '/home/ob/results/irl-torch/birl/06b_vw_cartpole_loop_7t_hl8_split4_paper_240612-153439.pt',\n",
       " '/home/ob/results/irl-torch/birl/06b_vw_cartpole_loop_7t_hl8_split2_paper_240613-143311.pt',\n",
       " '/home/ob/results/irl-torch/birl/06b_vw_cartpole_loop_7t_hl8_split0_paper_240614-005523.pt',\n",
       " '/home/ob/results/irl-torch/birl/06b_vw_cartpole_loop_1t_hl8_split3_paper_240611-094602.pt',\n",
       " '/home/ob/results/irl-torch/birl/06b_vw_cartpole_loop_1t_hl8_split3_paper_240611-112956.pt',\n",
       " '/home/ob/results/irl-torch/birl/06b_vw_cartpole_loop_3t_hl8_split2_paper_240611-203832.pt',\n",
       " '/home/ob/results/irl-torch/birl/06b_vw_cartpole_loop_3t_hl8_split4_paper_240611-145234.pt',\n",
       " '/home/ob/results/irl-torch/birl/06b_vw_cartpole_loop_10t_hl8_split0_paper_240615-200546.pt',\n",
       " '/home/ob/results/irl-torch/birl/06b_vw_cartpole_loop_1t_hl8_split1_paper_240611-005557.pt',\n",
       " '/home/ob/results/irl-torch/birl/06b_vw_cartpole_loop_15t_hl8_split1_paper_240617-012902.pt',\n",
       " '/home/ob/results/irl-torch/birl/06b_vw_cartpole_loop_1t_hl8_split3_paper_240611-142457.pt',\n",
       " '/home/ob/results/irl-torch/birl/06b_vw_cartpole_loop_3t_hl8_split1_paper_240612-014304.pt',\n",
       " '/home/ob/results/irl-torch/birl/06b_vw_cartpole_loop_7t_hl8_split0_paper_240613-070838.pt',\n",
       " '/home/ob/results/irl-torch/birl/06b_vw_cartpole_loop_15t_hl8_split0_paper_240616-101527.pt',\n",
       " '/home/ob/results/irl-torch/birl/06b_vw_cartpole_loop_3t_hl8_split0_paper_240611-223641.pt',\n",
       " '/home/ob/results/irl-torch/birl/06b_vw_cartpole_loop_15t_hl8_split1_paper_240616-233911.pt',\n",
       " '/home/ob/results/irl-torch/birl/06b_vw_cartpole_loop_1t_hl8_split4_paper_240611-130537.pt',\n",
       " '/home/ob/results/irl-torch/birl/06b_vw_cartpole_loop_1t_hl8_split0_paper_240611-154419.pt',\n",
       " '/home/ob/results/irl-torch/birl/06b_vw_cartpole_loop_3t_hl8_split2_paper_240612-002034.pt',\n",
       " '/home/ob/results/irl-torch/birl/06b_vw_cartpole_loop_3t_hl8_split2_paper_240611-183654.pt',\n",
       " '/home/ob/results/irl-torch/birl/06b_vw_cartpole_loop_1t_hl8_split3_paper_240611-005619.pt',\n",
       " '/home/ob/results/irl-torch/birl/06b_vw_cartpole_loop_3t_hl8_split4_paper_240611-191022.pt',\n",
       " '/home/ob/results/irl-torch/birl/06b_vw_cartpole_loop_7t_hl8_split4_paper_240613-085123.pt',\n",
       " '/home/ob/results/irl-torch/birl/06b_vw_cartpole_loop_3t_hl8_split3_paper_240611-162330.pt']"
      ]
     },
     "execution_count": 108,
     "metadata": {},
     "output_type": "execute_result"
    }
   ],
   "execution_count": 108
  },
  {
   "metadata": {
    "ExecuteTime": {
     "end_time": "2024-06-25T16:36:08.526475Z",
     "start_time": "2024-06-25T16:36:08.237204Z"
    }
   },
   "cell_type": "code",
   "source": [
    "random_policy_rewards = gym_test_random_policy(env_config.env_name)\n",
    "np.mean(random_policy_rewards)"
   ],
   "id": "a62d467ca030e054",
   "outputs": [
    {
     "name": "stderr",
     "output_type": "stream",
     "text": [
      "Testing: 100%|██████████| 1000/1000 [00:00<00:00, 6339.12it/s]"
     ]
    },
    {
     "name": "stdout",
     "output_type": "stream",
     "text": [
      "Mean Reward: 23.005\n"
     ]
    },
    {
     "name": "stderr",
     "output_type": "stream",
     "text": [
      "\n"
     ]
    },
    {
     "data": {
      "text/plain": [
       "23.005"
      ]
     },
     "execution_count": 109,
     "metadata": {},
     "output_type": "execute_result"
    },
    {
     "data": {
      "text/plain": [
       "<Figure size 640x480 with 1 Axes>"
      ],
      "image/png": "[encoded data removed]"
     },
     "metadata": {},
     "output_type": "display_data"
    }
   ],
   "execution_count": 109
  },
  {
   "metadata": {
    "ExecuteTime": {
     "end_time": "2024-06-25T16:36:08.534473Z",
     "start_time": "2024-06-25T16:36:08.527369Z"
    }
   },
   "cell_type": "code",
   "source": [
    "# Separate files by number of trajectories and split\n",
    "result_files = defaultdict(lambda: defaultdict(list))\n",
    "vw_models = defaultdict(lambda: defaultdict(list))\n",
    "\n",
    "for file_name in all_results:\n",
    "    res = re.search(r\"_(\\d+)t_hl8_split(\\d)_\", file_name)\n",
    "    if res is None:\n",
    "        continue\n",
    "    n_trajectories, split = res.groups()\n",
    "    result_files[int(n_trajectories)][int(split)].append(file_name)\n",
    "result_files"
   ],
   "id": "c22259b032e09e33",
   "outputs": [
    {
     "data": {
      "text/plain": [
       "defaultdict(<function __main__.<lambda>()>,\n",
       "            {10: defaultdict(list,\n",
       "                         {4: ['/home/ob/results/irl-torch/birl/06b_vw_cartpole_loop_10t_hl8_split4_paper_240614-135537.pt',\n",
       "                           '/home/ob/results/irl-torch/birl/06b_vw_cartpole_loop_10t_hl8_split4_paper_240617-083915.pt',\n",
       "                           '/home/ob/results/irl-torch/birl/06b_vw_cartpole_loop_10t_hl8_split4_paper_240615-232226.pt'],\n",
       "                          0: ['/home/ob/results/irl-torch/birl/06b_vw_cartpole_loop_10t_hl8_split0_paper_240616-202655.pt',\n",
       "                           '/home/ob/results/irl-torch/birl/06b_vw_cartpole_loop_10t_hl8_split0_paper_240614-140947.pt',\n",
       "                           '/home/ob/results/irl-torch/birl/06b_vw_cartpole_loop_10t_hl8_split0_paper_240615-200546.pt'],\n",
       "                          1: ['/home/ob/results/irl-torch/birl/06b_vw_cartpole_loop_10t_hl8_split1_paper_240615-042109.pt',\n",
       "                           '/home/ob/results/irl-torch/birl/06b_vw_cartpole_loop_10t_hl8_split1_paper_240616-145930.pt'],\n",
       "                          2: ['/home/ob/results/irl-torch/birl/06b_vw_cartpole_loop_10t_hl8_split2_paper_240618-025135.pt',\n",
       "                           '/home/ob/results/irl-torch/birl/06b_vw_cartpole_loop_10t_hl8_split2_paper_240615-052409.pt',\n",
       "                           '/home/ob/results/irl-torch/birl/06b_vw_cartpole_loop_10t_hl8_split2_paper_240616-164828.pt'],\n",
       "                          3: ['/home/ob/results/irl-torch/birl/06b_vw_cartpole_loop_10t_hl8_split3_paper_240616-054826.pt',\n",
       "                           '/home/ob/results/irl-torch/birl/06b_vw_cartpole_loop_10t_hl8_split3_paper_240614-205159.pt',\n",
       "                           '/home/ob/results/irl-torch/birl/06b_vw_cartpole_loop_10t_hl8_split3_paper_240617-163900.pt']}),\n",
       "             3: defaultdict(list,\n",
       "                         {1: ['/home/ob/results/irl-torch/birl/06b_vw_cartpole_loop_3t_hl8_split1_paper_240611-162605.pt',\n",
       "                           '/home/ob/results/irl-torch/birl/06b_vw_cartpole_loop_3t_hl8_split1_paper_240611-224351.pt',\n",
       "                           '/home/ob/results/irl-torch/birl/06b_vw_cartpole_loop_3t_hl8_split1_paper_240611-191848.pt',\n",
       "                           '/home/ob/results/irl-torch/birl/06b_vw_cartpole_loop_3t_hl8_split1_paper_240612-014304.pt'],\n",
       "                          4: ['/home/ob/results/irl-torch/birl/06b_vw_cartpole_loop_3t_hl8_split4_paper_240611-154433.pt',\n",
       "                           '/home/ob/results/irl-torch/birl/06b_vw_cartpole_loop_3t_hl8_split4_paper_240611-230826.pt',\n",
       "                           '/home/ob/results/irl-torch/birl/06b_vw_cartpole_loop_3t_hl8_split4_paper_240611-145234.pt',\n",
       "                           '/home/ob/results/irl-torch/birl/06b_vw_cartpole_loop_3t_hl8_split4_paper_240611-191022.pt'],\n",
       "                          3: ['/home/ob/results/irl-torch/birl/06b_vw_cartpole_loop_3t_hl8_split3_paper_240611-200418.pt',\n",
       "                           '/home/ob/results/irl-torch/birl/06b_vw_cartpole_loop_3t_hl8_split3_paper_240611-235518.pt',\n",
       "                           '/home/ob/results/irl-torch/birl/06b_vw_cartpole_loop_3t_hl8_split3_paper_240612-040244.pt',\n",
       "                           '/home/ob/results/irl-torch/birl/06b_vw_cartpole_loop_3t_hl8_split3_paper_240611-162330.pt'],\n",
       "                          0: ['/home/ob/results/irl-torch/birl/06b_vw_cartpole_loop_3t_hl8_split0_paper_240611-175529.pt',\n",
       "                           '/home/ob/results/irl-torch/birl/06b_vw_cartpole_loop_3t_hl8_split0_paper_240612-023312.pt',\n",
       "                           '/home/ob/results/irl-torch/birl/06b_vw_cartpole_loop_3t_hl8_split0_paper_240611-213028.pt',\n",
       "                           '/home/ob/results/irl-torch/birl/06b_vw_cartpole_loop_3t_hl8_split0_paper_240611-223641.pt'],\n",
       "                          2: ['/home/ob/results/irl-torch/birl/06b_vw_cartpole_loop_3t_hl8_split2_paper_240611-150352.pt',\n",
       "                           '/home/ob/results/irl-torch/birl/06b_vw_cartpole_loop_3t_hl8_split2_paper_240611-203832.pt',\n",
       "                           '/home/ob/results/irl-torch/birl/06b_vw_cartpole_loop_3t_hl8_split2_paper_240612-002034.pt',\n",
       "                           '/home/ob/results/irl-torch/birl/06b_vw_cartpole_loop_3t_hl8_split2_paper_240611-183654.pt']}),\n",
       "             15: defaultdict(list,\n",
       "                         {0: ['/home/ob/results/irl-torch/birl/06b_vw_cartpole_loop_15t_hl8_split0_paper_240614-132149.pt',\n",
       "                           '/home/ob/results/irl-torch/birl/06b_vw_cartpole_loop_15t_hl8_split0_paper_240616-101527.pt'],\n",
       "                          2: ['/home/ob/results/irl-torch/birl/06b_vw_cartpole_loop_15t_hl8_split2_paper_240616-151422.pt',\n",
       "                           '/home/ob/results/irl-torch/birl/06b_vw_cartpole_loop_15t_hl8_split2_paper_240617-135029.pt'],\n",
       "                          3: ['/home/ob/results/irl-torch/birl/06b_vw_cartpole_loop_15t_hl8_split3_paper_240617-114328.pt',\n",
       "                           '/home/ob/results/irl-torch/birl/06b_vw_cartpole_loop_15t_hl8_split3_paper_240616-123828.pt'],\n",
       "                          4: ['/home/ob/results/irl-torch/birl/06b_vw_cartpole_loop_15t_hl8_split4_paper_240617-182944.pt'],\n",
       "                          1: ['/home/ob/results/irl-torch/birl/06b_vw_cartpole_loop_15t_hl8_split1_paper_240617-012902.pt',\n",
       "                           '/home/ob/results/irl-torch/birl/06b_vw_cartpole_loop_15t_hl8_split1_paper_240616-233911.pt']}),\n",
       "             1: defaultdict(list,\n",
       "                         {2: ['/home/ob/results/irl-torch/birl/06b_vw_cartpole_loop_1t_hl8_split2_paper_240611-114556.pt',\n",
       "                           '/home/ob/results/irl-torch/birl/06b_vw_cartpole_loop_1t_hl8_split2_paper_240611-131059.pt',\n",
       "                           '/home/ob/results/irl-torch/birl/06b_vw_cartpole_loop_1t_hl8_split2_paper_240611-094605.pt',\n",
       "                           '/home/ob/results/irl-torch/birl/06b_vw_cartpole_loop_1t_hl8_split2_paper_240611-005609.pt',\n",
       "                           '/home/ob/results/irl-torch/birl/06b_vw_cartpole_loop_1t_hl8_split2_paper_240611-123250.pt'],\n",
       "                          3: ['/home/ob/results/irl-torch/birl/06b_vw_cartpole_loop_1t_hl8_split3_paper_240611-124038.pt',\n",
       "                           '/home/ob/results/irl-torch/birl/06b_vw_cartpole_loop_1t_hl8_split3_paper_240611-094602.pt',\n",
       "                           '/home/ob/results/irl-torch/birl/06b_vw_cartpole_loop_1t_hl8_split3_paper_240611-112956.pt',\n",
       "                           '/home/ob/results/irl-torch/birl/06b_vw_cartpole_loop_1t_hl8_split3_paper_240611-142457.pt',\n",
       "                           '/home/ob/results/irl-torch/birl/06b_vw_cartpole_loop_1t_hl8_split3_paper_240611-005619.pt'],\n",
       "                          4: ['/home/ob/results/irl-torch/birl/06b_vw_cartpole_loop_1t_hl8_split4_paper_240611-122932.pt',\n",
       "                           '/home/ob/results/irl-torch/birl/06b_vw_cartpole_loop_1t_hl8_split4_paper_240611-005634.pt',\n",
       "                           '/home/ob/results/irl-torch/birl/06b_vw_cartpole_loop_1t_hl8_split4_paper_240611-094559.pt',\n",
       "                           '/home/ob/results/irl-torch/birl/06b_vw_cartpole_loop_1t_hl8_split4_paper_240611-111844.pt',\n",
       "                           '/home/ob/results/irl-torch/birl/06b_vw_cartpole_loop_1t_hl8_split4_paper_240611-130537.pt'],\n",
       "                          1: ['/home/ob/results/irl-torch/birl/06b_vw_cartpole_loop_1t_hl8_split1_paper_240611-144124.pt',\n",
       "                           '/home/ob/results/irl-torch/birl/06b_vw_cartpole_loop_1t_hl8_split1_paper_240611-125508.pt',\n",
       "                           '/home/ob/results/irl-torch/birl/06b_vw_cartpole_loop_1t_hl8_split1_paper_240611-114027.pt',\n",
       "                           '/home/ob/results/irl-torch/birl/06b_vw_cartpole_loop_1t_hl8_split1_paper_240611-094607.pt',\n",
       "                           '/home/ob/results/irl-torch/birl/06b_vw_cartpole_loop_1t_hl8_split1_paper_240611-005557.pt'],\n",
       "                          0: ['/home/ob/results/irl-torch/birl/06b_vw_cartpole_loop_1t_hl8_split0_paper_240611-134042.pt',\n",
       "                           '/home/ob/results/irl-torch/birl/06b_vw_cartpole_loop_1t_hl8_split0_paper_240611-094610.pt',\n",
       "                           '/home/ob/results/irl-torch/birl/06b_vw_cartpole_loop_1t_hl8_split0_paper_240611-114211.pt',\n",
       "                           '/home/ob/results/irl-torch/birl/06b_vw_cartpole_loop_1t_hl8_split0_paper_240611-005523.pt',\n",
       "                           '/home/ob/results/irl-torch/birl/06b_vw_cartpole_loop_1t_hl8_split0_paper_240611-154419.pt']}),\n",
       "             7: defaultdict(list,\n",
       "                         {3: ['/home/ob/results/irl-torch/birl/06b_vw_cartpole_loop_7t_hl8_split3_paper_240613-030637.pt',\n",
       "                           '/home/ob/results/irl-torch/birl/06b_vw_cartpole_loop_7t_hl8_split3_paper_240614-144412.pt',\n",
       "                           '/home/ob/results/irl-torch/birl/06b_vw_cartpole_loop_7t_hl8_split3_paper_240612-085914.pt',\n",
       "                           '/home/ob/results/irl-torch/birl/06b_vw_cartpole_loop_7t_hl8_split3_paper_240613-201009.pt'],\n",
       "                          1: ['/home/ob/results/irl-torch/birl/06b_vw_cartpole_loop_7t_hl8_split1_paper_240613-174638.pt',\n",
       "                           '/home/ob/results/irl-torch/birl/06b_vw_cartpole_loop_7t_hl8_split1_paper_240612-232248.pt',\n",
       "                           '/home/ob/results/irl-torch/birl/06b_vw_cartpole_loop_7t_hl8_split1_paper_240612-062512.pt',\n",
       "                           '/home/ob/results/irl-torch/birl/06b_vw_cartpole_loop_7t_hl8_split1_paper_240614-075558.pt'],\n",
       "                          0: ['/home/ob/results/irl-torch/birl/06b_vw_cartpole_loop_7t_hl8_split0_paper_240612-064904.pt',\n",
       "                           '/home/ob/results/irl-torch/birl/06b_vw_cartpole_loop_7t_hl8_split0_paper_240612-140604.pt',\n",
       "                           '/home/ob/results/irl-torch/birl/06b_vw_cartpole_loop_7t_hl8_split0_paper_240614-005523.pt',\n",
       "                           '/home/ob/results/irl-torch/birl/06b_vw_cartpole_loop_7t_hl8_split0_paper_240613-070838.pt'],\n",
       "                          2: ['/home/ob/results/irl-torch/birl/06b_vw_cartpole_loop_7t_hl8_split2_paper_240614-083407.pt',\n",
       "                           '/home/ob/results/irl-torch/birl/06b_vw_cartpole_loop_7t_hl8_split2_paper_240612-044348.pt',\n",
       "                           '/home/ob/results/irl-torch/birl/06b_vw_cartpole_loop_7t_hl8_split2_paper_240612-203739.pt',\n",
       "                           '/home/ob/results/irl-torch/birl/06b_vw_cartpole_loop_7t_hl8_split2_paper_240613-143311.pt'],\n",
       "                          4: ['/home/ob/results/irl-torch/birl/06b_vw_cartpole_loop_7t_hl8_split4_paper_240612-021219.pt',\n",
       "                           '/home/ob/results/irl-torch/birl/06b_vw_cartpole_loop_7t_hl8_split4_paper_240613-194103.pt',\n",
       "                           '/home/ob/results/irl-torch/birl/06b_vw_cartpole_loop_7t_hl8_split4_paper_240612-153439.pt',\n",
       "                           '/home/ob/results/irl-torch/birl/06b_vw_cartpole_loop_7t_hl8_split4_paper_240613-085123.pt']})})"
      ]
     },
     "execution_count": 110,
     "metadata": {},
     "output_type": "execute_result"
    }
   ],
   "execution_count": 110
  },
  {
   "metadata": {},
   "cell_type": "markdown",
   "source": [
    "### Evaluate merged models\n",
    "The MCMC sampling was done over multiple parallel chain. Load the different chains for each number of expert trajectories and each split and merge them into a single model. This model is then evaluated on the environment."
   ],
   "id": "5c453a70a0c7b286"
  },
  {
   "metadata": {
    "ExecuteTime": {
     "end_time": "2024-06-25T16:59:10.250252Z",
     "start_time": "2024-06-25T16:36:08.536068Z"
    }
   },
   "cell_type": "code",
   "source": [
    "test_rewards = defaultdict(lambda: dict())\n",
    "\n",
    "for n_trajectories, split_files in result_files.items():\n",
    "    for split, files in split_files.items():\n",
    "            reward_model = load_and_combine_vw_models(files, default_hiddens=[8], inputs=6)\n",
    "            print(f\"{n_trajectories} trajectories, split {split}: Loaded a model with params of shape {reward_model.q_param_samples['theta_q'].shape} from {len(files)} files.\")\n",
    "            test_results = gym_test(reward_model, env_name=env_config.env_name, num_actions=2)\n",
    "            test_rewards[n_trajectories][split] = test_results"
   ],
   "id": "73c062ce231e9e69",
   "outputs": [
    {
     "name": "stdout",
     "output_type": "stream",
     "text": [
      "10 trajectories, split 4: Loaded a model with params of shape torch.Size([2143, 65]) from 3 files.\n"
     ]
    },
    {
     "name": "stderr",
     "output_type": "stream",
     "text": [
      "Testing: 100%|██████████| 300/300 [01:00<00:00,  4.99it/s]\n"
     ]
    },
    {
     "name": "stdout",
     "output_type": "stream",
     "text": [
      "Mean Reward: 500.0\n",
      "10 trajectories, split 0: Loaded a model with params of shape torch.Size([2143, 65]) from 3 files.\n"
     ]
    },
    {
     "name": "stderr",
     "output_type": "stream",
     "text": [
      "Testing: 100%|██████████| 300/300 [00:57<00:00,  5.21it/s]\n"
     ]
    },
    {
     "name": "stdout",
     "output_type": "stream",
     "text": [
      "Mean Reward: 500.0\n",
      "10 trajectories, split 1: Loaded a model with params of shape torch.Size([2000, 65]) from 2 files.\n"
     ]
    },
    {
     "name": "stderr",
     "output_type": "stream",
     "text": [
      "Testing: 100%|██████████| 300/300 [01:00<00:00,  4.93it/s]\n"
     ]
    },
    {
     "name": "stdout",
     "output_type": "stream",
     "text": [
      "Mean Reward: 500.0\n",
      "10 trajectories, split 2: Loaded a model with params of shape torch.Size([2143, 65]) from 3 files.\n"
     ]
    },
    {
     "name": "stderr",
     "output_type": "stream",
     "text": [
      "Testing: 100%|██████████| 300/300 [00:55<00:00,  5.41it/s]\n"
     ]
    },
    {
     "name": "stdout",
     "output_type": "stream",
     "text": [
      "Mean Reward: 500.0\n",
      "10 trajectories, split 3: Loaded a model with params of shape torch.Size([2143, 65]) from 3 files.\n"
     ]
    },
    {
     "name": "stderr",
     "output_type": "stream",
     "text": [
      "Testing: 100%|██████████| 300/300 [00:53<00:00,  5.56it/s]\n"
     ]
    },
    {
     "name": "stdout",
     "output_type": "stream",
     "text": [
      "Mean Reward: 500.0\n",
      "3 trajectories, split 1: Loaded a model with params of shape torch.Size([2000, 65]) from 4 files.\n"
     ]
    },
    {
     "name": "stderr",
     "output_type": "stream",
     "text": [
      "Testing: 100%|██████████| 300/300 [01:04<00:00,  4.63it/s]\n"
     ]
    },
    {
     "name": "stdout",
     "output_type": "stream",
     "text": [
      "Mean Reward: 500.0\n",
      "3 trajectories, split 4: Loaded a model with params of shape torch.Size([2000, 65]) from 4 files.\n"
     ]
    },
    {
     "name": "stderr",
     "output_type": "stream",
     "text": [
      "Testing: 100%|██████████| 300/300 [00:57<00:00,  5.19it/s]\n"
     ]
    },
    {
     "name": "stdout",
     "output_type": "stream",
     "text": [
      "Mean Reward: 497.15\n",
      "3 trajectories, split 3: Loaded a model with params of shape torch.Size([2000, 65]) from 4 files.\n"
     ]
    },
    {
     "name": "stderr",
     "output_type": "stream",
     "text": [
      "Testing: 100%|██████████| 300/300 [01:03<00:00,  4.76it/s]\n"
     ]
    },
    {
     "name": "stdout",
     "output_type": "stream",
     "text": [
      "Mean Reward: 497.27666666666664\n",
      "3 trajectories, split 0: Loaded a model with params of shape torch.Size([2000, 65]) from 4 files.\n"
     ]
    },
    {
     "name": "stderr",
     "output_type": "stream",
     "text": [
      "Testing: 100%|██████████| 300/300 [01:01<00:00,  4.87it/s]\n"
     ]
    },
    {
     "name": "stdout",
     "output_type": "stream",
     "text": [
      "Mean Reward: 500.0\n",
      "3 trajectories, split 2: Loaded a model with params of shape torch.Size([2000, 65]) from 4 files.\n"
     ]
    },
    {
     "name": "stderr",
     "output_type": "stream",
     "text": [
      "Testing: 100%|██████████| 300/300 [00:56<00:00,  5.30it/s]\n"
     ]
    },
    {
     "name": "stdout",
     "output_type": "stream",
     "text": [
      "Mean Reward: 468.5933333333333\n",
      "15 trajectories, split 0: Loaded a model with params of shape torch.Size([2000, 65]) from 2 files.\n"
     ]
    },
    {
     "name": "stderr",
     "output_type": "stream",
     "text": [
      "Testing: 100%|██████████| 300/300 [00:57<00:00,  5.19it/s]\n"
     ]
    },
    {
     "name": "stdout",
     "output_type": "stream",
     "text": [
      "Mean Reward: 500.0\n",
      "15 trajectories, split 2: Loaded a model with params of shape torch.Size([2000, 65]) from 2 files.\n"
     ]
    },
    {
     "name": "stderr",
     "output_type": "stream",
     "text": [
      "Testing: 100%|██████████| 300/300 [00:56<00:00,  5.34it/s]\n"
     ]
    },
    {
     "name": "stdout",
     "output_type": "stream",
     "text": [
      "Mean Reward: 474.7866666666667\n",
      "15 trajectories, split 3: Loaded a model with params of shape torch.Size([2000, 65]) from 2 files.\n"
     ]
    },
    {
     "name": "stderr",
     "output_type": "stream",
     "text": [
      "Testing: 100%|██████████| 300/300 [00:59<00:00,  5.01it/s]\n"
     ]
    },
    {
     "name": "stdout",
     "output_type": "stream",
     "text": [
      "Mean Reward: 500.0\n",
      "15 trajectories, split 4: Loaded a model with params of shape torch.Size([2500, 65]) from 1 files.\n"
     ]
    },
    {
     "name": "stderr",
     "output_type": "stream",
     "text": [
      "Testing: 100%|██████████| 300/300 [00:58<00:00,  5.10it/s]\n"
     ]
    },
    {
     "name": "stdout",
     "output_type": "stream",
     "text": [
      "Mean Reward: 500.0\n",
      "15 trajectories, split 1: Loaded a model with params of shape torch.Size([2000, 65]) from 2 files.\n"
     ]
    },
    {
     "name": "stderr",
     "output_type": "stream",
     "text": [
      "Testing: 100%|██████████| 300/300 [00:56<00:00,  5.30it/s]\n"
     ]
    },
    {
     "name": "stdout",
     "output_type": "stream",
     "text": [
      "Mean Reward: 500.0\n",
      "1 trajectories, split 2: Loaded a model with params of shape torch.Size([2084, 65]) from 5 files.\n"
     ]
    },
    {
     "name": "stderr",
     "output_type": "stream",
     "text": [
      "Testing: 100%|██████████| 300/300 [00:57<00:00,  5.18it/s]\n"
     ]
    },
    {
     "name": "stdout",
     "output_type": "stream",
     "text": [
      "Mean Reward: 500.0\n",
      "1 trajectories, split 3: Loaded a model with params of shape torch.Size([2084, 65]) from 5 files.\n"
     ]
    },
    {
     "name": "stderr",
     "output_type": "stream",
     "text": [
      "Testing: 100%|██████████| 300/300 [00:54<00:00,  5.50it/s]\n"
     ]
    },
    {
     "name": "stdout",
     "output_type": "stream",
     "text": [
      "Mean Reward: 498.85333333333335\n",
      "1 trajectories, split 4: Loaded a model with params of shape torch.Size([2084, 65]) from 5 files.\n"
     ]
    },
    {
     "name": "stderr",
     "output_type": "stream",
     "text": [
      "Testing: 100%|██████████| 300/300 [00:38<00:00,  7.85it/s]\n"
     ]
    },
    {
     "name": "stdout",
     "output_type": "stream",
     "text": [
      "Mean Reward: 352.3666666666667\n",
      "1 trajectories, split 1: Loaded a model with params of shape torch.Size([2084, 65]) from 5 files.\n"
     ]
    },
    {
     "name": "stderr",
     "output_type": "stream",
     "text": [
      "Testing: 100%|██████████| 300/300 [00:53<00:00,  5.62it/s]\n"
     ]
    },
    {
     "name": "stdout",
     "output_type": "stream",
     "text": [
      "Mean Reward: 500.0\n",
      "1 trajectories, split 0: Loaded a model with params of shape torch.Size([2084, 65]) from 5 files.\n"
     ]
    },
    {
     "name": "stderr",
     "output_type": "stream",
     "text": [
      "Testing: 100%|██████████| 300/300 [00:53<00:00,  5.57it/s]\n"
     ]
    },
    {
     "name": "stdout",
     "output_type": "stream",
     "text": [
      "Mean Reward: 484.43\n",
      "7 trajectories, split 3: Loaded a model with params of shape torch.Size([2000, 65]) from 4 files.\n"
     ]
    },
    {
     "name": "stderr",
     "output_type": "stream",
     "text": [
      "Testing: 100%|██████████| 300/300 [01:01<00:00,  4.87it/s]\n"
     ]
    },
    {
     "name": "stdout",
     "output_type": "stream",
     "text": [
      "Mean Reward: 500.0\n",
      "7 trajectories, split 1: Loaded a model with params of shape torch.Size([2000, 65]) from 4 files.\n"
     ]
    },
    {
     "name": "stderr",
     "output_type": "stream",
     "text": [
      "Testing: 100%|██████████| 300/300 [01:00<00:00,  4.98it/s]\n"
     ]
    },
    {
     "name": "stdout",
     "output_type": "stream",
     "text": [
      "Mean Reward: 500.0\n",
      "7 trajectories, split 0: Loaded a model with params of shape torch.Size([2000, 65]) from 4 files.\n"
     ]
    },
    {
     "name": "stderr",
     "output_type": "stream",
     "text": [
      "Testing: 100%|██████████| 300/300 [00:40<00:00,  7.39it/s]\n"
     ]
    },
    {
     "name": "stdout",
     "output_type": "stream",
     "text": [
      "Mean Reward: 500.0\n",
      "7 trajectories, split 2: Loaded a model with params of shape torch.Size([2000, 65]) from 4 files.\n"
     ]
    },
    {
     "name": "stderr",
     "output_type": "stream",
     "text": [
      "Testing: 100%|██████████| 300/300 [00:39<00:00,  7.51it/s]\n"
     ]
    },
    {
     "name": "stdout",
     "output_type": "stream",
     "text": [
      "Mean Reward: 500.0\n",
      "7 trajectories, split 4: Loaded a model with params of shape torch.Size([2000, 65]) from 4 files.\n"
     ]
    },
    {
     "name": "stderr",
     "output_type": "stream",
     "text": [
      "Testing: 100%|██████████| 300/300 [00:39<00:00,  7.68it/s]\n"
     ]
    },
    {
     "name": "stdout",
     "output_type": "stream",
     "text": [
      "Mean Reward: 500.0\n"
     ]
    },
    {
     "data": {
      "text/plain": [
       "<Figure size 640x480 with 1 Axes>"
      ],
      "image/png": "[encoded data removed]"
     },
     "metadata": {},
     "output_type": "display_data"
    }
   ],
   "execution_count": 111
  },
  {
   "metadata": {
    "ExecuteTime": {
     "end_time": "2024-06-25T16:59:10.255112Z",
     "start_time": "2024-06-25T16:59:10.251111Z"
    }
   },
   "cell_type": "code",
   "source": [
    "split_mean_rewards = {n_trajs: {split: np.mean(rewards) for split, rewards in split_dict.items()} for n_trajs, split_dict in test_rewards.items()}\n",
    "split_mean_rewards"
   ],
   "id": "1bef1999d58297f",
   "outputs": [
    {
     "data": {
      "text/plain": [
       "{10: {4: 500.0, 0: 500.0, 1: 500.0, 2: 500.0, 3: 500.0},\n",
       " 3: {1: 500.0,\n",
       "  4: 497.15,\n",
       "  3: 497.27666666666664,\n",
       "  0: 500.0,\n",
       "  2: 468.5933333333333},\n",
       " 15: {0: 500.0, 2: 474.7866666666667, 3: 500.0, 4: 500.0, 1: 500.0},\n",
       " 1: {2: 500.0,\n",
       "  3: 498.85333333333335,\n",
       "  4: 352.3666666666667,\n",
       "  1: 500.0,\n",
       "  0: 484.43},\n",
       " 7: {3: 500.0, 1: 500.0, 0: 500.0, 2: 500.0, 4: 500.0}}"
      ]
     },
     "execution_count": 112,
     "metadata": {},
     "output_type": "execute_result"
    }
   ],
   "execution_count": 112
  },
  {
   "metadata": {
    "ExecuteTime": {
     "end_time": "2024-06-25T16:59:10.273369Z",
     "start_time": "2024-06-25T16:59:10.255787Z"
    }
   },
   "cell_type": "code",
   "source": "{n_trajs: np.mean(list(split_files.values())) for n_trajs, split_files in split_mean_rewards.items()}",
   "id": "80a119a9f312e8e2",
   "outputs": [
    {
     "data": {
      "text/plain": [
       "{10: 500.0, 3: 492.604, 15: 494.9573333333334, 1: 467.13, 7: 500.0}"
      ]
     },
     "execution_count": 113,
     "metadata": {},
     "output_type": "execute_result"
    }
   ],
   "execution_count": 113
  },
  {
   "metadata": {},
   "cell_type": "markdown",
   "source": "### Plot the results",
   "id": "633a6fa02b21095a"
  },
  {
   "metadata": {},
   "cell_type": "code",
   "outputs": [],
   "execution_count": null,
   "source": "",
   "id": "de922639aa01f183"
  },
  {
   "metadata": {
    "ExecuteTime": {
     "end_time": "2024-06-25T16:59:10.283807Z",
     "start_time": "2024-06-25T16:59:10.274567Z"
    }
   },
   "cell_type": "code",
   "source": [
    "vw_means = np.array([np.mean(list(split_mean_rewards[t].values())) for t in traj_nums])\n",
    "vw_means"
   ],
   "id": "abb827460bfa03e0",
   "outputs": [
    {
     "data": {
      "text/plain": [
       "array([467.13      , 492.604     , 500.        , 500.        ,\n",
       "       494.95733333])"
      ]
     },
     "execution_count": 114,
     "metadata": {},
     "output_type": "execute_result"
    }
   ],
   "execution_count": 114
  },
  {
   "metadata": {
    "ExecuteTime": {
     "end_time": "2024-06-25T16:59:10.294361Z",
     "start_time": "2024-06-25T16:59:10.284671Z"
    }
   },
   "cell_type": "code",
   "source": [
    "vw_stds = np.array([np.std(np.concatenate(list(test_rewards[t].values()))) for t in traj_nums])\n",
    "vw_stds"
   ],
   "id": "60acbb1d5cdcbeef",
   "outputs": [
    {
     "data": {
      "text/plain": [
       "array([84.19300703, 47.64355693,  0.        ,  0.        , 47.11128152])"
      ]
     },
     "execution_count": 115,
     "metadata": {},
     "output_type": "execute_result"
    }
   ],
   "execution_count": 115
  },
  {
   "metadata": {
    "ExecuteTime": {
     "end_time": "2024-06-25T16:59:10.303214Z",
     "start_time": "2024-06-25T16:59:10.295425Z"
    }
   },
   "cell_type": "code",
   "source": [
    "vw_lb = vw_means - vw_stds\n",
    "vw_ub = vw_means + vw_stds"
   ],
   "id": "72cbd09e23f0ef2a",
   "outputs": [],
   "execution_count": 116
  },
  {
   "metadata": {},
   "cell_type": "markdown",
   "source": "The following results were taken from the AVRIL paper - the main baseline we're comparing against:",
   "id": "f15508657131405e"
  },
  {
   "metadata": {
    "ExecuteTime": {
     "end_time": "2024-06-25T16:59:10.312448Z",
     "start_time": "2024-06-25T16:59:10.304238Z"
    }
   },
   "cell_type": "code",
   "source": [
    "def conv(val: float):\n",
    "    return 500. - val\n",
    "\n",
    "avril_rewards = [conv(val) for val in [118, 65, 75, 62, 1]]\n",
    "avril_ubs = [conv(val) for val in [92, 37, 48, 34, 0]]\n",
    "avril_lbs = [mean-(ub-mean) for mean, ub in zip(avril_rewards, avril_ubs)]\n",
    "\n",
    "\n",
    "edm_means = [conv(val) for val in [275., 48., 9., 0., 0.]]\n",
    "edm_ubs = [conv(val) for val in [139., 5., 0., 0., 0.]]\n",
    "edm_lbs = [mean-(ub-mean) for mean, ub in zip(edm_means, edm_ubs)]\n",
    "\n",
    "\n",
    "bc_means = [conv(val) for val in [325., 189., 88., 34., 1.]]\n",
    "bc_ubs = [conv(val) for val in [212., 75., 12., 0., 0.]]\n",
    "bc_lbs = [mean-(ub-mean) for mean, ub in zip(bc_means, bc_ubs)]\n",
    "\n",
    "expert_performance = 500."
   ],
   "id": "53d9f0d0d828f2d6",
   "outputs": [],
   "execution_count": 117
  },
  {
   "metadata": {
    "ExecuteTime": {
     "end_time": "2024-06-25T16:59:10.324499Z",
     "start_time": "2024-06-25T16:59:10.313375Z"
    }
   },
   "cell_type": "code",
   "source": "traj_nums = [1,3,7,10,15]",
   "id": "acac47d8b274bc1c",
   "outputs": [],
   "execution_count": 118
  },
  {
   "metadata": {
    "ExecuteTime": {
     "end_time": "2024-06-25T16:59:10.480996Z",
     "start_time": "2024-06-25T16:59:10.325330Z"
    }
   },
   "cell_type": "code",
   "source": [
    "plt.figure(figsize=(3.5, 4))\n",
    "\n",
    "\n",
    "plt.plot(traj_nums, vw_means, label=\"ValueWalk (ours)\", marker=\"o\")\n",
    "\n",
    "plt.plot(traj_nums, avril_rewards, label=\"AVRIL\", marker=\"o\")\n",
    "# \n",
    "plt.plot(traj_nums, edm_means, label=\"EDM\", marker=\"o\")\n",
    "plt.plot(traj_nums, bc_means, label=\"BC\", marker=\"o\")\n",
    "\n",
    "# plt.plot(traj_nums, avril_means2, label=\"AVRIL2\", marker=\"o\")\n",
    "\n",
    "\n",
    "plt.plot(traj_nums, [np.mean(random_policy_rewards)]*len(traj_nums), label=\"Random policy\", linestyle=\"--\")\n",
    "plt.plot(traj_nums, [expert_performance]*len(traj_nums), label=\"Expert\", linestyle=\"--\")\n",
    "\n",
    "plt.fill_between(traj_nums, vw_lb, vw_ub, alpha=0.3)\n",
    "plt.fill_between(traj_nums, avril_lbs, avril_ubs, alpha=0.3)\n",
    "# \n",
    "plt.fill_between(traj_nums, edm_lbs, edm_ubs, alpha=0.3)\n",
    "plt.fill_between(traj_nums, bc_lbs, bc_ubs, alpha=0.3)\n",
    "\n",
    "plt.xticks(traj_nums)\n",
    "# plt.xlim(0,15.5)\n",
    "# set y limits from 0 to 505\n",
    "plt.ylim(0, 505)\n",
    "\n",
    "# set x and y axis labels\n",
    "plt.xlabel(\"Number of demonstration trajectories\")\n",
    "plt.ylabel(\"Mean reward\")\n",
    "# Set plot title\n",
    "plt.title(env_config.env_name)\n",
    "plt.legend()\n",
    "\n",
    "# Place legend in the bottom right corner\n",
    "plt.legend(loc=\"lower right\")\n",
    "\n",
    "# Save figure into a pdf\n",
    "plt.savefig(\"/home/ob/results/irl-torch/birl/carpole_num_trajs_new.pdf\")"
   ],
   "id": "8cb15d8d75c4cf25",
   "outputs": [
    {
     "data": {
      "text/plain": [
       "<Figure size 350x400 with 1 Axes>"
      ],
      "image/png": "[encoded data removed]"
     },
     "metadata": {},
     "output_type": "display_data"
    }
   ],
   "execution_count": 119
  },
  {
   "metadata": {},
   "cell_type": "markdown",
   "source": "### Posterior predictive check",
   "id": "190750b583854c65"
  },
  {
   "metadata": {
    "ExecuteTime": {
     "end_time": "2024-06-25T16:59:11.246198Z",
     "start_time": "2024-06-25T16:59:10.481969Z"
    }
   },
   "cell_type": "code",
   "source": [
    "D_test = load_avril_demonstrations(env_config.env_name, split=\"test\", to_onehot=True)\n",
    "\n",
    "plot_actions = torch.eye(2, dtype=torch.float)\n",
    "plot_states = D_test.states_tensor"
   ],
   "id": "55934df3a9b98081",
   "outputs": [
    {
     "name": "stdout",
     "output_type": "stream",
     "text": [
      "Loaded 100 demonstrations\n"
     ]
    }
   ],
   "execution_count": 120
  },
  {
   "metadata": {
    "ExecuteTime": {
     "end_time": "2024-06-25T16:59:15.108205Z",
     "start_time": "2024-06-25T16:59:11.247245Z"
    }
   },
   "cell_type": "code",
   "source": [
    "model_name = \"avril\"\n",
    "\n",
    "avril_logprobs = {}\n",
    "avril_entropy = {}\n",
    "avril_top_action_logprobs = {}\n",
    "\n",
    "for num_trajs in [1, 3, 7, 10, 15]:\n",
    "    avril_model_files = glob.glob(str(RESULTS_DIR / f\"birl/06a_avril_cartpole_loop_{num_trajs}t_hl64_64*\"))\n",
    "\n",
    "    avril_model_files = [f for f in avril_model_files if \"info\" not in f]\n",
    "    \n",
    "    logprobs = []\n",
    "    entropies = []\n",
    "    top_action_logprobs = []\n",
    "    \n",
    "    for f in avril_model_files:\n",
    "        model = torch.load(f)\n",
    "        avril_action_logprobs = model.boltzmann_action_probs(D_test.states_tensor.float(), plot_actions, beta, discrete_actions=True, return_logprobs=True).detach()\n",
    "        entropy = -torch.sum(avril_action_logprobs * torch.exp(avril_action_logprobs), dim=-1)\n",
    "        top_action_logprobs.append(float(torch.max(avril_action_logprobs, dim=-1)[0].mean().item()))\n",
    "\n",
    "        avril_action_logprobs = avril_action_logprobs.gather(1, torch.argmax(D_test.actions_tensor, dim=-1).unsqueeze(-1)).squeeze(-1)\n",
    "        \n",
    "        print(f\"{num_trajs}t mean logprob : {avril_action_logprobs.mean()}, entropy: {entropy.mean()}\")\n",
    "        entropies.append(float(entropy.mean().item()))\n",
    "        \n",
    "        \n",
    "        logprobs.append(float(avril_action_logprobs.mean().item()))\n",
    "        # print(f\"{model_name} mean log action density: {torch.log(avril_action_logprobs).mean()}\")\n",
    "    avril_logprobs[num_trajs] = logprobs\n",
    "    avril_entropy[num_trajs] = entropies\n",
    "    avril_top_action_logprobs[num_trajs] = top_action_logprobs\n"
   ],
   "id": "d3a668857fd6657a",
   "outputs": [
    {
     "name": "stdout",
     "output_type": "stream",
     "text": [
      "1t mean logprob : -0.53916335105896, entropy: 0.64836186170578\n",
      "1t mean logprob : -0.44278380274772644, entropy: 0.5361682176589966\n",
      "1t mean logprob : -0.43208906054496765, entropy: 0.4865154027938843\n",
      "1t mean logprob : -0.4453389048576355, entropy: 0.5384467840194702\n",
      "1t mean logprob : -0.4948669672012329, entropy: 0.6094639301300049\n",
      "1t mean logprob : -0.4481073319911957, entropy: 0.5427426099777222\n",
      "1t mean logprob : -0.44045546650886536, entropy: 0.519004225730896\n",
      "1t mean logprob : -0.4184293746948242, entropy: 0.4340631365776062\n",
      "1t mean logprob : -0.4256950318813324, entropy: 0.4959735870361328\n",
      "1t mean logprob : -0.45538562536239624, entropy: 0.5361989736557007\n",
      "1t mean logprob : -0.48224595189094543, entropy: 0.595459520816803\n",
      "1t mean logprob : -0.43421077728271484, entropy: 0.4493676424026489\n",
      "1t mean logprob : -0.43712118268013, entropy: 0.5173812508583069\n",
      "1t mean logprob : -0.45893052220344543, entropy: 0.5258427858352661\n",
      "1t mean logprob : -0.4928373098373413, entropy: 0.6080200672149658\n",
      "3t mean logprob : -0.4952417314052582, entropy: 0.6152832508087158\n",
      "3t mean logprob : -0.49672040343284607, entropy: 0.6149347424507141\n",
      "3t mean logprob : -0.45296457409858704, entropy: 0.5576039552688599\n",
      "3t mean logprob : -0.4359503984451294, entropy: 0.5231448411941528\n",
      "3t mean logprob : -0.45171454548835754, entropy: 0.5565932393074036\n",
      "3t mean logprob : -0.45655444264411926, entropy: 0.5666166543960571\n",
      "3t mean logprob : -0.43383273482322693, entropy: 0.5246724486351013\n",
      "3t mean logprob : -0.5070332884788513, entropy: 0.6272533535957336\n",
      "3t mean logprob : -0.48229414224624634, entropy: 0.6021690368652344\n",
      "3t mean logprob : -0.4589546024799347, entropy: 0.56972736120224\n",
      "3t mean logprob : -0.42810866236686707, entropy: 0.4936104714870453\n",
      "3t mean logprob : -0.44718000292778015, entropy: 0.5512483716011047\n",
      "3t mean logprob : -0.450617253780365, entropy: 0.5478121042251587\n",
      "3t mean logprob : -0.5033188462257385, entropy: 0.6227977275848389\n",
      "3t mean logprob : -0.4682460129261017, entropy: 0.5824054479598999\n",
      "7t mean logprob : -0.45377030968666077, entropy: 0.5627543926239014\n",
      "7t mean logprob : -0.5294641256332397, entropy: 0.6453694701194763\n",
      "7t mean logprob : -0.459702730178833, entropy: 0.572563648223877\n",
      "7t mean logprob : -0.5282751321792603, entropy: 0.6429633498191833\n",
      "7t mean logprob : -0.4847456216812134, entropy: 0.5936516523361206\n",
      "7t mean logprob : -0.44272664189338684, entropy: 0.5415163040161133\n",
      "7t mean logprob : -0.5162927508354187, entropy: 0.6340195536613464\n",
      "7t mean logprob : -0.4351053833961487, entropy: 0.5265899896621704\n",
      "7t mean logprob : -0.4630601108074188, entropy: 0.5785393118858337\n",
      "7t mean logprob : -0.4374702274799347, entropy: 0.5300263166427612\n",
      "7t mean logprob : -0.555765688419342, entropy: 0.6617932915687561\n",
      "7t mean logprob : -0.4512336850166321, entropy: 0.5592954158782959\n",
      "7t mean logprob : -0.4445037841796875, entropy: 0.5371524095535278\n",
      "7t mean logprob : -0.46413472294807434, entropy: 0.5771905183792114\n",
      "7t mean logprob : -0.43637406826019287, entropy: 0.53105229139328\n",
      "10t mean logprob : -0.45770594477653503, entropy: 0.5696119666099548\n",
      "10t mean logprob : -0.4638047516345978, entropy: 0.5805639624595642\n",
      "10t mean logprob : -0.503653347492218, entropy: 0.6208630204200745\n",
      "10t mean logprob : -0.5258552432060242, entropy: 0.6425818204879761\n",
      "10t mean logprob : -0.4634757339954376, entropy: 0.5796787738800049\n",
      "10t mean logprob : -0.4410707354545593, entropy: 0.5403867363929749\n",
      "10t mean logprob : -0.44323140382766724, entropy: 0.543732762336731\n",
      "10t mean logprob : -0.4619256258010864, entropy: 0.5762900710105896\n",
      "10t mean logprob : -0.4555550515651703, entropy: 0.5659933686256409\n",
      "10t mean logprob : -0.5094811916351318, entropy: 0.6249004006385803\n",
      "10t mean logprob : -0.5194135904312134, entropy: 0.636995792388916\n",
      "10t mean logprob : -0.4484778940677643, entropy: 0.5516039133071899\n",
      "10t mean logprob : -0.45517101883888245, entropy: 0.5653916597366333\n",
      "10t mean logprob : -0.43601465225219727, entropy: 0.5288798213005066\n",
      "10t mean logprob : -0.5323181748390198, entropy: 0.6453890800476074\n",
      "15t mean logprob : -0.45283859968185425, entropy: 0.5636443495750427\n",
      "15t mean logprob : -0.5232537388801575, entropy: 0.6412879824638367\n",
      "15t mean logprob : -0.45653867721557617, entropy: 0.5664116144180298\n",
      "15t mean logprob : -0.46956172585487366, entropy: 0.5886668562889099\n",
      "15t mean logprob : -0.4640823006629944, entropy: 0.5797721743583679\n",
      "15t mean logprob : -0.5120692849159241, entropy: 0.6295214891433716\n",
      "15t mean logprob : -0.45338812470436096, entropy: 0.5625452399253845\n",
      "15t mean logprob : -0.5082871913909912, entropy: 0.6278789639472961\n",
      "15t mean logprob : -0.4506930410861969, entropy: 0.5587258338928223\n",
      "15t mean logprob : -0.44410327076911926, entropy: 0.5440992712974548\n",
      "15t mean logprob : -0.4611383080482483, entropy: 0.5753886103630066\n",
      "15t mean logprob : -0.4389972388744354, entropy: 0.5361933708190918\n",
      "15t mean logprob : -0.44279932975769043, entropy: 0.5429728627204895\n",
      "15t mean logprob : -0.48579227924346924, entropy: 0.6043088436126709\n",
      "15t mean logprob : -0.5170661211013794, entropy: 0.6349561214447021\n"
     ]
    }
   ],
   "execution_count": 121
  },
  {
   "metadata": {
    "ExecuteTime": {
     "end_time": "2024-06-25T16:59:15.112333Z",
     "start_time": "2024-06-25T16:59:15.109926Z"
    }
   },
   "cell_type": "code",
   "source": [
    "# Calculate and print mean per num_trajs\n",
    "for num_trajs, logprobs in avril_logprobs.items():\n",
    "    print(f\"{num_trajs}t mean logprob : {np.mean(logprobs)}, entropy: {np.mean(avril_entropy[num_trajs])}\")"
   ],
   "id": "a6c71bcebdc0e071",
   "outputs": [
    {
     "name": "stdout",
     "output_type": "stream",
     "text": [
      "1t mean logprob : -0.45651071071624755, entropy: 0.5362006664276123\n",
      "3t mean logprob : -0.46458210945129397, entropy: 0.5703915337721507\n",
      "7t mean logprob : -0.47350833217302957, entropy: 0.5796318610509237\n",
      "10t mean logprob : -0.474476957321167, entropy: 0.5848575433095297\n",
      "15t mean logprob : -0.4720406154791514, entropy: 0.5837582389513651\n"
     ]
    }
   ],
   "execution_count": 122
  },
  {
   "metadata": {
    "ExecuteTime": {
     "end_time": "2024-06-25T16:59:15.152414Z",
     "start_time": "2024-06-25T16:59:15.112928Z"
    }
   },
   "cell_type": "code",
   "source": [
    "action_ints = torch.argmax(D_test.actions_tensor, dim=-1)\n",
    "traj_nums = [1, 3, 7, 10, 15]"
   ],
   "id": "c7ba4446a2a9d64c",
   "outputs": [],
   "execution_count": 123
  },
  {
   "metadata": {
    "ExecuteTime": {
     "end_time": "2024-06-25T16:59:15.155113Z",
     "start_time": "2024-06-25T16:59:15.153558Z"
    }
   },
   "cell_type": "code",
   "source": "",
   "id": "dd4de8e2db399add",
   "outputs": [],
   "execution_count": 123
  },
  {
   "metadata": {
    "ExecuteTime": {
     "end_time": "2024-06-25T17:04:06.868776Z",
     "start_time": "2024-06-25T16:59:15.155808Z"
    }
   },
   "cell_type": "code",
   "source": [
    "beta = 3.\n",
    "vw_action_log_probs = {num_trajs: [] for num_trajs in traj_nums}\n",
    "vw_entropies = {num_trajs: [] for num_trajs in traj_nums}\n",
    "\n",
    "model_name = \"ValueWalk\"\n",
    "\n",
    "for n_trajectories, split_files in result_files.items():\n",
    "    for split, files in split_files.items():\n",
    "        model = load_and_combine_vw_models(files, default_hiddens=[8], inputs=6)\n",
    "        print(f\"{n_trajectories} trajectories, split {split}: Loaded a model with params of shape {reward_model.q_param_samples['theta_q'].shape} from {len(files)} files.\")\n",
    "        \n",
    "        subset_logprobs = []\n",
    "        subset_entropies = []\n",
    "        for i in range(10):\n",
    "            D_test_small = D_test[(10*i):(10*(i+1))]\n",
    "            action_ints = torch.argmax(D_test_small.actions_tensor, dim=-1)\n",
    "            action_logprobs_ba = model.boltzmann_action_probs(D_test_small.states_tensor.float(), plot_actions, beta, return_logprobs=True).detach()\n",
    "            entropy = -torch.sum(action_logprobs_ba * torch.exp(action_logprobs_ba), dim=-1)\n",
    "            action_logprobs_ba = action_logprobs_ba.gather(1, action_ints.unsqueeze(-1)).squeeze(-1)\n",
    "            mean_log_prob = torch.mean(action_logprobs_ba)\n",
    "            \n",
    "                    \n",
    "            subset_logprobs.append(mean_log_prob)\n",
    "            subset_entropies.append(torch.mean(entropy).item())\n",
    "            \n",
    "        vw_action_log_probs[n_trajectories].append(np.mean(subset_logprobs))\n",
    "        vw_entropies[n_trajectories].append(np.mean(subset_entropies))\n",
    "        print(f\"{model_name} mean log density   : {mean_log_prob}, entropy: {torch.mean(entropy)}\")\n"
   ],
   "id": "873bffee98fdd724",
   "outputs": [
    {
     "name": "stdout",
     "output_type": "stream",
     "text": [
      "10 trajectories, split 4: Loaded a model with params of shape torch.Size([2000, 65]) from 3 files.\n",
      "ValueWalk mean log density   : -0.4026474952697754, entropy: 0.4166322648525238\n",
      "10 trajectories, split 0: Loaded a model with params of shape torch.Size([2000, 65]) from 3 files.\n",
      "ValueWalk mean log density   : -0.4033409059047699, entropy: 0.4178905189037323\n",
      "10 trajectories, split 1: Loaded a model with params of shape torch.Size([2000, 65]) from 2 files.\n",
      "ValueWalk mean log density   : -0.40289753675460815, entropy: 0.4252794086933136\n",
      "10 trajectories, split 2: Loaded a model with params of shape torch.Size([2000, 65]) from 3 files.\n",
      "ValueWalk mean log density   : -0.40318992733955383, entropy: 0.41803818941116333\n",
      "10 trajectories, split 3: Loaded a model with params of shape torch.Size([2000, 65]) from 3 files.\n",
      "ValueWalk mean log density   : -0.40445008873939514, entropy: 0.40351244807243347\n",
      "3 trajectories, split 1: Loaded a model with params of shape torch.Size([2000, 65]) from 4 files.\n",
      "ValueWalk mean log density   : -0.4063222408294678, entropy: 0.44068974256515503\n",
      "3 trajectories, split 4: Loaded a model with params of shape torch.Size([2000, 65]) from 4 files.\n",
      "ValueWalk mean log density   : -0.41109731793403625, entropy: 0.4558165967464447\n",
      "3 trajectories, split 3: Loaded a model with params of shape torch.Size([2000, 65]) from 4 files.\n",
      "ValueWalk mean log density   : -0.40955662727355957, entropy: 0.41913843154907227\n",
      "3 trajectories, split 0: Loaded a model with params of shape torch.Size([2000, 65]) from 4 files.\n",
      "ValueWalk mean log density   : -0.40515246987342834, entropy: 0.42936474084854126\n",
      "3 trajectories, split 2: Loaded a model with params of shape torch.Size([2000, 65]) from 4 files.\n",
      "ValueWalk mean log density   : -0.40666642785072327, entropy: 0.4362684190273285\n",
      "15 trajectories, split 0: Loaded a model with params of shape torch.Size([2000, 65]) from 2 files.\n",
      "ValueWalk mean log density   : -0.40311986207962036, entropy: 0.4171088933944702\n",
      "15 trajectories, split 2: Loaded a model with params of shape torch.Size([2000, 65]) from 2 files.\n",
      "ValueWalk mean log density   : -0.40275731682777405, entropy: 0.41793668270111084\n",
      "15 trajectories, split 3: Loaded a model with params of shape torch.Size([2000, 65]) from 2 files.\n",
      "ValueWalk mean log density   : -0.40467724204063416, entropy: 0.4036619961261749\n",
      "15 trajectories, split 4: Loaded a model with params of shape torch.Size([2000, 65]) from 1 files.\n",
      "ValueWalk mean log density   : -0.4029634892940521, entropy: 0.41155532002449036\n",
      "15 trajectories, split 1: Loaded a model with params of shape torch.Size([2000, 65]) from 2 files.\n",
      "ValueWalk mean log density   : -0.40289756655693054, entropy: 0.4252794086933136\n",
      "1 trajectories, split 2: Loaded a model with params of shape torch.Size([2000, 65]) from 5 files.\n",
      "ValueWalk mean log density   : -0.41459283232688904, entropy: 0.46318289637565613\n",
      "1 trajectories, split 3: Loaded a model with params of shape torch.Size([2000, 65]) from 5 files.\n",
      "ValueWalk mean log density   : -0.41174620389938354, entropy: 0.4318130314350128\n",
      "1 trajectories, split 4: Loaded a model with params of shape torch.Size([2000, 65]) from 5 files.\n",
      "ValueWalk mean log density   : -0.4210362434387207, entropy: 0.48209312558174133\n",
      "1 trajectories, split 1: Loaded a model with params of shape torch.Size([2000, 65]) from 5 files.\n",
      "ValueWalk mean log density   : -0.41787901520729065, entropy: 0.4772939085960388\n",
      "1 trajectories, split 0: Loaded a model with params of shape torch.Size([2000, 65]) from 5 files.\n",
      "ValueWalk mean log density   : -0.41117969155311584, entropy: 0.44955962896347046\n",
      "7 trajectories, split 3: Loaded a model with params of shape torch.Size([2000, 65]) from 4 files.\n",
      "ValueWalk mean log density   : -0.4057101011276245, entropy: 0.4044163227081299\n",
      "7 trajectories, split 1: Loaded a model with params of shape torch.Size([2000, 65]) from 4 files.\n",
      "ValueWalk mean log density   : -0.40222668647766113, entropy: 0.4224120080471039\n",
      "7 trajectories, split 0: Loaded a model with params of shape torch.Size([2000, 65]) from 4 files.\n",
      "ValueWalk mean log density   : -0.4051441550254822, entropy: 0.4243168830871582\n",
      "7 trajectories, split 2: Loaded a model with params of shape torch.Size([2000, 65]) from 4 files.\n",
      "ValueWalk mean log density   : -0.4023718535900116, entropy: 0.42139726877212524\n",
      "7 trajectories, split 4: Loaded a model with params of shape torch.Size([2000, 65]) from 4 files.\n",
      "ValueWalk mean log density   : -0.4037199318408966, entropy: 0.4194953143596649\n"
     ]
    }
   ],
   "execution_count": 124
  },
  {
   "metadata": {
    "ExecuteTime": {
     "end_time": "2024-06-25T17:04:06.871380Z",
     "start_time": "2024-06-25T17:04:06.869828Z"
    }
   },
   "cell_type": "code",
   "source": "",
   "id": "237bba0c74587c51",
   "outputs": [],
   "execution_count": 124
  },
  {
   "metadata": {
    "ExecuteTime": {
     "end_time": "2024-06-25T17:04:06.968915Z",
     "start_time": "2024-06-25T17:04:06.871888Z"
    }
   },
   "cell_type": "code",
   "source": [
    "traj_nums = [1,3,7,10,15]\n",
    "\n",
    "vw_mean_logprobs = {num_trajs: np.mean(logprobs) for num_trajs, logprobs in vw_action_log_probs.items()}\n",
    "avril_mean_logprobs = {num_trajs: np.mean(logprobs) for num_trajs, logprobs in avril_logprobs.items()}\n",
    "\n",
    "vw_mean_entropies = [np.mean(entropies) for num_trajs, entropies in vw_entropies.items()]\n",
    "avril_mean_entropies = [np.mean(entropies) for num_trajs, entropies in avril_entropy.items()]\n",
    "\n",
    "plt.plot(traj_nums, vw_mean_entropies)\n",
    "plt.plot(traj_nums, avril_mean_entropies)"
   ],
   "id": "6c7921b7cd139de",
   "outputs": [
    {
     "data": {
      "text/plain": [
       "[<matplotlib.lines.Line2D at 0x7e8353da7550>]"
      ]
     },
     "execution_count": 125,
     "metadata": {},
     "output_type": "execute_result"
    },
    {
     "data": {
      "text/plain": [
       "<Figure size 640x480 with 1 Axes>"
      ],
      "image/png": "[encoded data removed]"
     },
     "metadata": {},
     "output_type": "display_data"
    }
   ],
   "execution_count": 125
  },
  {
   "metadata": {
    "ExecuteTime": {
     "end_time": "2024-06-25T17:04:07.307864Z",
     "start_time": "2024-06-25T17:04:07.128198Z"
    }
   },
   "cell_type": "code",
   "source": [
    "import scipy\n",
    "\n",
    "traj_nums = [1,3,7,10,15]\n",
    "\n",
    "# For both, calculate and plot also the 90% confidence interval\n",
    "# Calculate 90% confidence interval on the mean of the ValueWalk models. Here, we're iterating only over the number of trajectories, and not over the 10 runs. We can use standard scipy bootstrap for this.\n",
    "vw_means = []\n",
    "vw_lb = []\n",
    "vw_ub = []\n",
    "vw_entropy_means = []\n",
    "vw_entropy_lb = []\n",
    "vw_entropy_ub = []\n",
    "for num_trajs in traj_nums:\n",
    "    res = scipy.stats.bootstrap((vw_action_log_probs[num_trajs],), statistic=np.mean, confidence_level=0.90)\n",
    "    vw_means.append(np.mean(vw_action_log_probs[num_trajs]))\n",
    "    vw_lb.append(res.confidence_interval[0])\n",
    "    vw_ub.append(res.confidence_interval[1])\n",
    "    \n",
    "    res = scipy.stats.bootstrap((vw_entropies[num_trajs],), statistic=np.mean, confidence_level=0.90)\n",
    "    vw_entropy_means.append(np.mean(vw_entropies[num_trajs]))\n",
    "    vw_entropy_lb.append(res.confidence_interval[0])\n",
    "    vw_entropy_ub.append(res.confidence_interval[1])\n",
    "\n",
    "# Calculate the 90% confidence interval for AVRIL\n",
    "avril_means = []\n",
    "avril_lb = []\n",
    "avril_ub = []\n",
    "avril_entropy_means = []\n",
    "avril_entropy_lb = []\n",
    "avril_entropy_ub = []\n",
    "for num_trajs in traj_nums:\n",
    "    res = scipy.stats.bootstrap((avril_logprobs[num_trajs],), statistic=np.mean, confidence_level=0.90)\n",
    "    avril_means.append(np.mean(avril_logprobs[num_trajs]))\n",
    "    avril_lb.append(res.confidence_interval[0])\n",
    "    avril_ub.append(res.confidence_interval[1])\n",
    "    \n",
    "    res = scipy.stats.bootstrap((avril_entropy[num_trajs],), statistic=np.mean, confidence_level=0.90)\n",
    "    avril_entropy_means.append(np.mean(avril_entropy[num_trajs]))\n",
    "    avril_entropy_lb.append(res.confidence_interval[0])\n",
    "    avril_entropy_ub.append(res.confidence_interval[1])\n",
    "    \n",
    "# Plot the means and confidence intervals\n",
    "plt.plot(traj_nums, vw_means, label=\"ValueWalk\")\n",
    "plt.fill_between(traj_nums, vw_lb, vw_ub, alpha=0.3)\n",
    "\n",
    "plt.plot(list(avril_logprobs.keys()), avril_means, label=\"AVRIL\")\n",
    "plt.fill_between(list(avril_logprobs.keys()), avril_lb, avril_ub, alpha=0.3)\n",
    "\n",
    "plt.legend()\n",
    "plt.xlabel(\"Number of demonstration trajectories\")\n",
    "plt.ylabel(\"Mean action log probability\")\n",
    "plt.title(env_config.env_name)\n",
    "\n",
    "plt.savefig(\"/home/ob/results/irl-torch/birl/cartpole_action_logprobs_new.pdf\")"
   ],
   "id": "8b2d93a58519d45a",
   "outputs": [
    {
     "data": {
      "text/plain": [
       "<Figure size 640x480 with 1 Axes>"
      ],
      "image/png": "[encoded data removed]"
     },
     "metadata": {},
     "output_type": "display_data"
    }
   ],
   "execution_count": 127
  },
  {
   "metadata": {
    "ExecuteTime": {
     "end_time": "2024-06-25T17:04:07.391055Z",
     "start_time": "2024-06-25T17:04:07.308728Z"
    }
   },
   "cell_type": "code",
   "source": [
    "vw_mean_logprobs = {num_trajs: np.mean(logprobs) for num_trajs, logprobs in vw_action_log_probs.items()}\n",
    "avril_mean_logprobs = {num_trajs: np.mean(logprobs) for num_trajs, logprobs in avril_logprobs.items()}\n",
    "\n",
    "vw_mean_entropies = [np.mean(entropies) for num_trajs, entropies in vw_entropies.items()]\n",
    "avril_mean_entropies = [np.mean(entropies) for num_trajs, entropies in avril_entropy.items()]\n",
    "plt.plot(traj_nums, vw_mean_entropies)\n",
    "plt.plot(traj_nums, avril_mean_entropies)"
   ],
   "id": "906f695a163dfd4a",
   "outputs": [
    {
     "data": {
      "text/plain": [
       "[<matplotlib.lines.Line2D at 0x7e833af308e0>]"
      ]
     },
     "execution_count": 128,
     "metadata": {},
     "output_type": "execute_result"
    },
    {
     "data": {
      "text/plain": [
       "<Figure size 640x480 with 1 Axes>"
      ],
      "image/png": "[encoded data removed]"
     },
     "metadata": {},
     "output_type": "display_data"
    }
   ],
   "execution_count": 128
  },
  {
   "metadata": {
    "ExecuteTime": {
     "end_time": "2024-06-25T17:04:07.560812Z",
     "start_time": "2024-06-25T17:04:07.391971Z"
    }
   },
   "cell_type": "code",
   "source": [
    "import scipy\n",
    "\n",
    "traj_nums = [1,3,7,10,15]\n",
    "\n",
    "# For both, calculate and plot also the 90% confidence interval\n",
    "# Calculate 90% confidence interval on the mean of the ValueWalk models. Here, we're iterating only over the number of trajectories, and not over the 10 runs. We can use standard scipy bootstrap for this.\n",
    "vw_means = []\n",
    "vw_lb = []\n",
    "vw_ub = []\n",
    "vw_entropy_means = []\n",
    "vw_entropy_lb = []\n",
    "vw_entropy_ub = []\n",
    "for num_trajs in traj_nums:\n",
    "    res = scipy.stats.bootstrap((vw_action_log_probs[num_trajs],), statistic=np.mean, confidence_level=0.90)\n",
    "    vw_means.append(np.mean(vw_action_log_probs[num_trajs]))\n",
    "    vw_lb.append(res.confidence_interval[0])\n",
    "    vw_ub.append(res.confidence_interval[1])\n",
    "    \n",
    "    res = scipy.stats.bootstrap((vw_entropies[num_trajs],), statistic=np.mean, confidence_level=0.90)\n",
    "    vw_entropy_means.append(np.mean(vw_entropies[num_trajs]))\n",
    "    vw_entropy_lb.append(res.confidence_interval[0])\n",
    "    vw_entropy_ub.append(res.confidence_interval[1])\n",
    "\n",
    "\n",
    "# Calculate the 90% confidence interval for AVRIL\n",
    "avril_means = []\n",
    "avril_lb = []\n",
    "avril_ub = []\n",
    "avril_entropy_means = []\n",
    "avril_entropy_lb = []\n",
    "avril_entropy_ub = []\n",
    "for num_trajs in traj_nums:\n",
    "    res = scipy.stats.bootstrap((avril_logprobs[num_trajs],), statistic=np.mean, confidence_level=0.90)\n",
    "    avril_means.append(np.mean(avril_logprobs[num_trajs]))\n",
    "    avril_lb.append(res.confidence_interval[0])\n",
    "    avril_ub.append(res.confidence_interval[1])\n",
    "    \n",
    "    res = scipy.stats.bootstrap((avril_entropy[num_trajs],), statistic=np.mean, confidence_level=0.90)\n",
    "    avril_entropy_means.append(np.mean(avril_entropy[num_trajs]))\n",
    "    avril_entropy_lb.append(res.confidence_interval[0])\n",
    "    avril_entropy_ub.append(res.confidence_interval[1])\n",
    "    \n",
    "# Plot the means and confidence intervals\n",
    "plt.plot(traj_nums, vw_means, label=\"ValueWalk\")\n",
    "plt.fill_between(traj_nums, vw_lb, vw_ub, alpha=0.3)\n",
    "\n",
    "plt.plot(list(avril_logprobs.keys()), avril_means, label=\"AVRIL\")\n",
    "plt.fill_between(list(avril_logprobs.keys()), avril_lb, avril_ub, alpha=0.3)\n",
    "\n",
    "plt.legend()\n",
    "plt.xlabel(\"Number of demonstration trajectories\")\n",
    "plt.ylabel(\"Mean action log probability\")\n",
    "plt.title(env_config.env_name)\n",
    "\n",
    "plt.savefig(\"/home/ob/results/irl-torch/birl/cartpole_action_logprobs_new.pdf\")"
   ],
   "id": "f0b3346e58d9d031",
   "outputs": [
    {
     "data": {
      "text/plain": [
       "<Figure size 640x480 with 1 Axes>"
      ],
      "image/png": "[encoded data removed]"
     },
     "metadata": {},
     "output_type": "display_data"
    }
   ],
   "execution_count": 129
  },
  {
   "metadata": {
    "ExecuteTime": {
     "end_time": "2024-06-25T17:11:45.172415Z",
     "start_time": "2024-06-25T17:11:44.978996Z"
    }
   },
   "cell_type": "code",
   "source": [
    "traj_nums = [1, 3, 7, 10, 15]\n",
    "# Assuming vw_means, vw_lb, vw_ub, avril_means, avril_lb, avril_ub, \n",
    "# vw_entropy_means, vw_entropy_lb, vw_entropy_ub, avril_entropy_means, avril_entropy_lb, avril_entropy_ub\n",
    "# are already calculated as in your code snippet\n",
    "\n",
    "# Create figure and primary axis\n",
    "fig, ax1 = plt.subplots(figsize=(4, 4))\n",
    "\n",
    "# Plot the means and confidence intervals for action log probabilities on primary axis\n",
    "ax1.plot(traj_nums, vw_means, label=\"ValueWalk logprobs\")\n",
    "ax1.fill_between(traj_nums, vw_lb, vw_ub, alpha=0.3)\n",
    "ax1.plot(traj_nums, avril_means, label=\"AVRIL logprobs\")\n",
    "ax1.fill_between(traj_nums, avril_lb, avril_ub, alpha=0.3)\n",
    "ax1.set_xlabel(\"Number of demonstration trajectories\")\n",
    "ax1.set_ylabel(\"Mean action log probability\")\n",
    "\n",
    "# Create a secondary axis for entropy values\n",
    "ax2 = ax1.twinx()\n",
    "ax2.plot(traj_nums, vw_entropy_means, label=\"ValueWalk entropy\", color=\"C0\", linestyle=\":\")\n",
    "ax2.fill_between(traj_nums, vw_entropy_lb, vw_entropy_ub, alpha=0.1)\n",
    "ax2.plot(traj_nums, avril_entropy_means, label=\"AVRIL entropy\", color=\"C1\", linestyle=\":\")\n",
    "ax2.fill_between(traj_nums, avril_entropy_lb, avril_entropy_ub, alpha=0.1)\n",
    "ax2.set_ylabel(\"Action entropy\")\n",
    "ax2.set_ylim(0.40, 0.6)\n",
    "\n",
    "# Adding legends\n",
    "lines, labels = ax1.get_legend_handles_labels()\n",
    "lines2, labels2 = ax2.get_legend_handles_labels()\n",
    "ax1.legend(lines + lines2, labels + labels2, loc='center right')\n",
    "\n",
    "# Set x ticks to the number of demonstration trajectories\n",
    "ax1.set_xticks(traj_nums)\n",
    "\n",
    "plt.title(env_config.env_name) # Replace with your env_config.env_name variable as needed\n",
    "\n",
    "# Save the plot\n",
    "plt.savefig(\"/home/ob/results/irl-torch/birl/cartpole_action_logprobs_and_entropy_new.pdf\")\n",
    "\n",
    "plt.show()"
   ],
   "id": "7d53ee91dc97724f",
   "outputs": [
    {
     "data": {
      "text/plain": [
       "<Figure size 400x400 with 2 Axes>"
      ],
      "image/png": "[encoded data removed]"
     },
     "metadata": {},
     "output_type": "display_data"
    }
   ],
   "execution_count": 135
  },
  {
   "metadata": {},
   "cell_type": "markdown",
   "source": "## 2. Acrobot results",
   "id": "b63f315425c58e1c"
  },
  {
   "metadata": {
    "ExecuteTime": {
     "end_time": "2024-06-25T17:12:16.284136Z",
     "start_time": "2024-06-25T17:12:16.280803Z"
    }
   },
   "cell_type": "code",
   "source": [
    "beta = 3.\n",
    "env_config = get_acrobot_env_config()\n",
    "resolve_configurable_factories(env_config)\n",
    "env = env_config.env_factory()"
   ],
   "id": "4ab0a15add441f36",
   "outputs": [],
   "execution_count": 136
  },
  {
   "metadata": {
    "ExecuteTime": {
     "end_time": "2024-06-25T17:12:26.806545Z",
     "start_time": "2024-06-25T17:12:26.798468Z"
    }
   },
   "cell_type": "code",
   "source": [
    "all_results = [file_name for file_name in glob.glob(str(RESULTS_DIR / \"birl/06b3_vw_acrobot*_paper_*.pt\")) \n",
    "               if \"_10s_\" not in file_name and \n",
    "               \"info\" not in file_name and\n",
    "               \".checkpoint.\" not in file_name and \n",
    "               \"evaluation\" not in file_name]\n",
    "all_results"
   ],
   "id": "a59f73033edf6f05",
   "outputs": [
    {
     "data": {
      "text/plain": [
       "['/home/ob/results/irl-torch/birl/06b3_vw_acrobot_15t_hl16_split1_paper_240612-103934.pt',\n",
       " '/home/ob/results/irl-torch/birl/06b3_vw_acrobot_15t_hl16_split0_paper_240612-225547.pt',\n",
       " '/home/ob/results/irl-torch/birl/06b3_vw_acrobot_15t_hl16_split4_paper_240612-200954.pt',\n",
       " '/home/ob/results/irl-torch/birl/06b3_vw_acrobot_1t_hl16_split2_paper_240611-021341.pt',\n",
       " '/home/ob/results/irl-torch/birl/06b3_vw_acrobot_15t_hl16_split3_paper_240612-161307.pt',\n",
       " '/home/ob/results/irl-torch/birl/06b3_vw_acrobot_15t_hl16_split2_paper_240613-003626.pt',\n",
       " '/home/ob/results/irl-torch/birl/06b3_vw_acrobot_7t_hl16_split2_paper_240611-221350.pt',\n",
       " '/home/ob/results/irl-torch/birl/06b3_vw_acrobot_3t_hl16_split1_paper_240611-142752.pt',\n",
       " '/home/ob/results/irl-torch/birl/06b3_vw_acrobot_10t_hl16_split3_paper_240612-033239.pt',\n",
       " '/home/ob/results/irl-torch/birl/06b3_vw_acrobot_10t_hl16_split3_paper_240612-085649.pt',\n",
       " '/home/ob/results/irl-torch/birl/06b3_vw_acrobot_3t_hl16_split3_paper_240611-141952.pt',\n",
       " '/home/ob/results/irl-torch/birl/06b3_vw_acrobot_3t_hl16_split1_paper_240611-105829.pt',\n",
       " '/home/ob/results/irl-torch/birl/06b3_vw_acrobot_10t_hl16_split1_paper_240612-080020.pt',\n",
       " '/home/ob/results/irl-torch/birl/06b3_vw_acrobot_7t_hl16_split1_paper_240611-203442.pt',\n",
       " '/home/ob/results/irl-torch/birl/06b3_vw_acrobot_3t_hl16_split0_paper_240611-085101.pt',\n",
       " '/home/ob/results/irl-torch/birl/06b3_vw_acrobot_15t_hl16_split4_paper_240613-001711.pt',\n",
       " '/home/ob/results/irl-torch/birl/06b3_vw_acrobot_10t_hl16_split0_paper_240612-100927.pt',\n",
       " '/home/ob/results/irl-torch/birl/06b3_vw_acrobot_15t_hl16_split1_paper_240612-173022.pt',\n",
       " '/home/ob/results/irl-torch/birl/06b3_vw_acrobot_15t_hl16_split1_paper_240612-212747.pt',\n",
       " '/home/ob/results/irl-torch/birl/06b3_vw_acrobot_10t_hl16_split1_paper_240612-033504.pt',\n",
       " '/home/ob/results/irl-torch/birl/06b3_vw_acrobot_10t_hl16_split3_paper_240612-004554.pt',\n",
       " '/home/ob/results/irl-torch/birl/06b3_vw_acrobot_1t_hl16_split3_paper_240611-071922.pt',\n",
       " '/home/ob/results/irl-torch/birl/06b3_vw_acrobot_3t_hl16_split1_paper_240611-090632.pt',\n",
       " '/home/ob/results/irl-torch/birl/06b3_vw_acrobot_1t_hl16_split2_paper_240611-050403.pt',\n",
       " '/home/ob/results/irl-torch/birl/06b3_vw_acrobot_1t_hl16_split1_paper_240611-040831.pt',\n",
       " '/home/ob/results/irl-torch/birl/06b3_vw_acrobot_3t_hl16_split3_paper_240611-105143.pt',\n",
       " '/home/ob/results/irl-torch/birl/06b3_vw_acrobot_3t_hl16_split2_paper_240611-132938.pt',\n",
       " '/home/ob/results/irl-torch/birl/06b3_vw_acrobot_3t_hl16_split3_paper_240611-124302.pt',\n",
       " '/home/ob/results/irl-torch/birl/06b3_vw_acrobot_3t_hl16_split0_paper_240611-141328.pt',\n",
       " '/home/ob/results/irl-torch/birl/06b3_vw_acrobot_1t_hl16_split4_paper_240611-033301.pt',\n",
       " '/home/ob/results/irl-torch/birl/06b3_vw_acrobot_15t_hl16_split0_paper_240612-130934.pt',\n",
       " '/home/ob/results/irl-torch/birl/06b3_vw_acrobot_10t_hl16_split2_paper_240612-085633.pt',\n",
       " '/home/ob/results/irl-torch/birl/06b3_vw_acrobot_7t_hl16_split4_paper_240611-222320.pt',\n",
       " '/home/ob/results/irl-torch/birl/06b3_vw_acrobot_7t_hl16_split4_paper_240611-200526.pt',\n",
       " '/home/ob/results/irl-torch/birl/06b3_vw_acrobot_10t_hl16_split0_paper_240612-013621.pt',\n",
       " '/home/ob/results/irl-torch/birl/06b3_vw_acrobot_7t_hl16_split1_paper_240611-162127.pt',\n",
       " '/home/ob/results/irl-torch/birl/06b3_vw_acrobot_10t_hl16_split4_paper_240612-003606.pt',\n",
       " '/home/ob/results/irl-torch/birl/06b3_vw_acrobot_1t_hl16_split0_paper_240611-022120.pt',\n",
       " '/home/ob/results/irl-torch/birl/06b3_vw_acrobot_3t_hl16_split4_paper_240611-081756.pt',\n",
       " '/home/ob/results/irl-torch/birl/06b3_vw_acrobot_1t_hl16_split4_paper_240611-051402.pt',\n",
       " '/home/ob/results/irl-torch/birl/06b3_vw_acrobot_10t_hl16_split4_paper_240612-032129.pt',\n",
       " '/home/ob/results/irl-torch/birl/06b3_vw_acrobot_15t_hl16_split2_paper_240612-201300.pt',\n",
       " '/home/ob/results/irl-torch/birl/06b3_vw_acrobot_15t_hl16_split2_paper_240612-115007.pt',\n",
       " '/home/ob/results/irl-torch/birl/06b3_vw_acrobot_7t_hl16_split3_paper_240611-223752.pt',\n",
       " '/home/ob/results/irl-torch/birl/06b3_vw_acrobot_7t_hl16_split0_paper_240611-182900.pt',\n",
       " '/home/ob/results/irl-torch/birl/06b3_vw_acrobot_7t_hl16_split3_paper_240611-181036.pt',\n",
       " '/home/ob/results/irl-torch/birl/06b3_vw_acrobot_1t_hl16_split0_paper_240611-071158.pt',\n",
       " '/home/ob/results/irl-torch/birl/06b3_vw_acrobot_10t_hl16_split2_paper_240612-032113.pt',\n",
       " '/home/ob/results/irl-torch/birl/06b3_vw_acrobot_3t_hl16_split2_paper_240611-101640.pt',\n",
       " '/home/ob/results/irl-torch/birl/06b3_vw_acrobot_1t_hl16_split4_paper_240611-065339.pt',\n",
       " '/home/ob/results/irl-torch/birl/06b3_vw_acrobot_1t_hl16_split3_paper_240611-022326.pt',\n",
       " '/home/ob/results/irl-torch/birl/06b3_vw_acrobot_3t_hl16_split2_paper_240611-083104.pt',\n",
       " '/home/ob/results/irl-torch/birl/06b3_vw_acrobot_1t_hl16_split0_paper_240611-053052.pt',\n",
       " '/home/ob/results/irl-torch/birl/06b3_vw_acrobot_7t_hl16_split0_paper_240611-204742.pt',\n",
       " '/home/ob/results/irl-torch/birl/06b3_vw_acrobot_7t_hl16_split4_paper_240611-174936.pt',\n",
       " '/home/ob/results/irl-torch/birl/06b3_vw_acrobot_7t_hl16_split3_paper_240611-202746.pt',\n",
       " '/home/ob/results/irl-torch/birl/06b3_vw_acrobot_7t_hl16_split4_paper_240611-153541.pt',\n",
       " '/home/ob/results/irl-torch/birl/06b3_vw_acrobot_10t_hl16_split1_paper_240612-005835.pt',\n",
       " '/home/ob/results/irl-torch/birl/06b3_vw_acrobot_3t_hl16_split4_paper_240611-115848.pt',\n",
       " '/home/ob/results/irl-torch/birl/06b3_vw_acrobot_7t_hl16_split0_paper_240611-155807.pt',\n",
       " '/home/ob/results/irl-torch/birl/06b3_vw_acrobot_10t_hl16_split2_paper_240612-003157.pt',\n",
       " '/home/ob/results/irl-torch/birl/06b3_vw_acrobot_10t_hl16_split3_paper_240612-060413.pt',\n",
       " '/home/ob/results/irl-torch/birl/06b3_vw_acrobot_3t_hl16_split4_paper_240611-100758.pt',\n",
       " '/home/ob/results/irl-torch/birl/06b3_vw_acrobot_7t_hl16_split2_paper_240611-152142.pt',\n",
       " '/home/ob/results/irl-torch/birl/06b3_vw_acrobot_15t_hl16_split4_paper_240612-160259.pt',\n",
       " '/home/ob/results/irl-torch/birl/06b3_vw_acrobot_7t_hl16_split1_paper_240611-224910.pt',\n",
       " '/home/ob/results/irl-torch/birl/06b3_vw_acrobot_15t_hl16_split4_paper_240612-114911.pt',\n",
       " '/home/ob/results/irl-torch/birl/06b3_vw_acrobot_7t_hl16_split1_paper_240611-181835.pt',\n",
       " '/home/ob/results/irl-torch/birl/06b3_vw_acrobot_1t_hl16_split0_paper_240611-035800.pt',\n",
       " '/home/ob/results/irl-torch/birl/06b3_vw_acrobot_3t_hl16_split3_paper_240611-090020.pt',\n",
       " '/home/ob/results/irl-torch/birl/06b3_vw_acrobot_7t_hl16_split2_paper_240611-195908.pt',\n",
       " '/home/ob/results/irl-torch/birl/06b3_vw_acrobot_3t_hl16_split2_paper_240611-115746.pt',\n",
       " '/home/ob/results/irl-torch/birl/06b3_vw_acrobot_1t_hl16_split2_paper_240611-032545.pt',\n",
       " '/home/ob/results/irl-torch/birl/06b3_vw_acrobot_10t_hl16_split0_paper_240612-071001.pt',\n",
       " '/home/ob/results/irl-torch/birl/06b3_vw_acrobot_15t_hl16_split3_paper_240613-003951.pt',\n",
       " '/home/ob/results/irl-torch/birl/06b3_vw_acrobot_15t_hl16_split2_paper_240612-153944.pt',\n",
       " '/home/ob/results/irl-torch/birl/06b3_vw_acrobot_1t_hl16_split2_paper_240611-064720.pt',\n",
       " '/home/ob/results/irl-torch/birl/06b3_vw_acrobot_10t_hl16_split2_paper_240612-061016.pt',\n",
       " '/home/ob/results/irl-torch/birl/06b3_vw_acrobot_15t_hl16_split1_paper_240612-143007.pt',\n",
       " '/home/ob/results/irl-torch/birl/06b3_vw_acrobot_15t_hl16_split3_paper_240612-204302.pt',\n",
       " '/home/ob/results/irl-torch/birl/06b3_vw_acrobot_10t_hl16_split4_paper_240612-085736.pt',\n",
       " '/home/ob/results/irl-torch/birl/06b3_vw_acrobot_1t_hl16_split1_paper_240611-072945.pt',\n",
       " '/home/ob/results/irl-torch/birl/06b3_vw_acrobot_15t_hl16_split3_paper_240612-114754.pt',\n",
       " '/home/ob/results/irl-torch/birl/06b3_vw_acrobot_3t_hl16_split0_paper_240611-103733.pt',\n",
       " '/home/ob/results/irl-torch/birl/06b3_vw_acrobot_10t_hl16_split4_paper_240612-060954.pt',\n",
       " '/home/ob/results/irl-torch/birl/06b3_vw_acrobot_10t_hl16_split1_paper_240612-062029.pt',\n",
       " '/home/ob/results/irl-torch/birl/06b3_vw_acrobot_10t_hl16_split0_paper_240612-042027.pt',\n",
       " '/home/ob/results/irl-torch/birl/06b3_vw_acrobot_3t_hl16_split1_paper_240611-123621.pt',\n",
       " '/home/ob/results/irl-torch/birl/06b3_vw_acrobot_15t_hl16_split0_paper_240613-031433.pt',\n",
       " '/home/ob/results/irl-torch/birl/06b3_vw_acrobot_1t_hl16_split4_paper_240611-020125.pt',\n",
       " '/home/ob/results/irl-torch/birl/06b3_vw_acrobot_1t_hl16_split1_paper_240611-054713.pt',\n",
       " '/home/ob/results/irl-torch/birl/06b3_vw_acrobot_15t_hl16_split0_paper_240612-181727.pt',\n",
       " '/home/ob/results/irl-torch/birl/06b3_vw_acrobot_3t_hl16_split0_paper_240611-122619.pt',\n",
       " '/home/ob/results/irl-torch/birl/06b3_vw_acrobot_7t_hl16_split3_paper_240611-155622.pt',\n",
       " '/home/ob/results/irl-torch/birl/06b3_vw_acrobot_7t_hl16_split2_paper_240611-173926.pt',\n",
       " '/home/ob/results/irl-torch/birl/06b3_vw_acrobot_1t_hl16_split3_paper_240611-053810.pt',\n",
       " '/home/ob/results/irl-torch/birl/06b3_vw_acrobot_7t_hl16_split0_paper_240611-230546.pt',\n",
       " '/home/ob/results/irl-torch/birl/06b3_vw_acrobot_1t_hl16_split3_paper_240611-040240.pt',\n",
       " '/home/ob/results/irl-torch/birl/06b3_vw_acrobot_3t_hl16_split4_paper_240611-134340.pt',\n",
       " '/home/ob/results/irl-torch/birl/06b3_vw_acrobot_1t_hl16_split1_paper_240611-022531.pt']"
      ]
     },
     "execution_count": 137,
     "metadata": {},
     "output_type": "execute_result"
    }
   ],
   "execution_count": 137
  },
  {
   "metadata": {
    "ExecuteTime": {
     "end_time": "2024-06-25T17:12:47.345457Z",
     "start_time": "2024-06-25T17:12:26.807550Z"
    }
   },
   "cell_type": "code",
   "source": [
    "\n",
    "random_policy_rewards = gym_test_random_policy(env_config.env_name)\n",
    "np.mean(random_policy_rewards)"
   ],
   "id": "70e7f8c5a0e3b01a",
   "outputs": [
    {
     "name": "stderr",
     "output_type": "stream",
     "text": [
      "Testing: 100%|██████████| 1000/1000 [00:20<00:00, 48.89it/s]"
     ]
    },
    {
     "name": "stdout",
     "output_type": "stream",
     "text": [
      "Mean Reward: -498.396\n"
     ]
    },
    {
     "name": "stderr",
     "output_type": "stream",
     "text": [
      "\n"
     ]
    },
    {
     "data": {
      "text/plain": [
       "-498.396"
      ]
     },
     "execution_count": 138,
     "metadata": {},
     "output_type": "execute_result"
    },
    {
     "data": {
      "text/plain": [
       "<Figure size 640x480 with 1 Axes>"
      ],
      "image/png": "[encoded data removed]"
     },
     "metadata": {},
     "output_type": "display_data"
    }
   ],
   "execution_count": 138
  },
  {
   "metadata": {},
   "cell_type": "markdown",
   "source": "### Evaluate merged models",
   "id": "3bbf7106ac33c1b7"
  },
  {
   "metadata": {
    "ExecuteTime": {
     "end_time": "2024-06-25T17:12:47.352186Z",
     "start_time": "2024-06-25T17:12:47.346815Z"
    }
   },
   "cell_type": "code",
   "source": [
    "# Separate files by number of trajectories and split\n",
    "result_files = defaultdict(lambda: defaultdict(list))\n",
    "vw_models = defaultdict(lambda: defaultdict(list))\n",
    "\n",
    "for file_name in all_results:\n",
    "    res = re.search(r\"_(\\d+)t_hl16_split(\\d)_\", file_name)\n",
    "    if res is None:\n",
    "        continue\n",
    "    n_trajectories, split = res.groups()\n",
    "    result_files[int(n_trajectories)][int(split)].append(file_name)\n",
    "result_files"
   ],
   "id": "303e84d1072aff2d",
   "outputs": [
    {
     "data": {
      "text/plain": [
       "defaultdict(<function __main__.<lambda>()>,\n",
       "            {15: defaultdict(list,\n",
       "                         {1: ['/home/ob/results/irl-torch/birl/06b3_vw_acrobot_15t_hl16_split1_paper_240612-103934.pt',\n",
       "                           '/home/ob/results/irl-torch/birl/06b3_vw_acrobot_15t_hl16_split1_paper_240612-173022.pt',\n",
       "                           '/home/ob/results/irl-torch/birl/06b3_vw_acrobot_15t_hl16_split1_paper_240612-212747.pt',\n",
       "                           '/home/ob/results/irl-torch/birl/06b3_vw_acrobot_15t_hl16_split1_paper_240612-143007.pt'],\n",
       "                          0: ['/home/ob/results/irl-torch/birl/06b3_vw_acrobot_15t_hl16_split0_paper_240612-225547.pt',\n",
       "                           '/home/ob/results/irl-torch/birl/06b3_vw_acrobot_15t_hl16_split0_paper_240612-130934.pt',\n",
       "                           '/home/ob/results/irl-torch/birl/06b3_vw_acrobot_15t_hl16_split0_paper_240613-031433.pt',\n",
       "                           '/home/ob/results/irl-torch/birl/06b3_vw_acrobot_15t_hl16_split0_paper_240612-181727.pt'],\n",
       "                          4: ['/home/ob/results/irl-torch/birl/06b3_vw_acrobot_15t_hl16_split4_paper_240612-200954.pt',\n",
       "                           '/home/ob/results/irl-torch/birl/06b3_vw_acrobot_15t_hl16_split4_paper_240613-001711.pt',\n",
       "                           '/home/ob/results/irl-torch/birl/06b3_vw_acrobot_15t_hl16_split4_paper_240612-160259.pt',\n",
       "                           '/home/ob/results/irl-torch/birl/06b3_vw_acrobot_15t_hl16_split4_paper_240612-114911.pt'],\n",
       "                          3: ['/home/ob/results/irl-torch/birl/06b3_vw_acrobot_15t_hl16_split3_paper_240612-161307.pt',\n",
       "                           '/home/ob/results/irl-torch/birl/06b3_vw_acrobot_15t_hl16_split3_paper_240613-003951.pt',\n",
       "                           '/home/ob/results/irl-torch/birl/06b3_vw_acrobot_15t_hl16_split3_paper_240612-204302.pt',\n",
       "                           '/home/ob/results/irl-torch/birl/06b3_vw_acrobot_15t_hl16_split3_paper_240612-114754.pt'],\n",
       "                          2: ['/home/ob/results/irl-torch/birl/06b3_vw_acrobot_15t_hl16_split2_paper_240613-003626.pt',\n",
       "                           '/home/ob/results/irl-torch/birl/06b3_vw_acrobot_15t_hl16_split2_paper_240612-201300.pt',\n",
       "                           '/home/ob/results/irl-torch/birl/06b3_vw_acrobot_15t_hl16_split2_paper_240612-115007.pt',\n",
       "                           '/home/ob/results/irl-torch/birl/06b3_vw_acrobot_15t_hl16_split2_paper_240612-153944.pt']}),\n",
       "             1: defaultdict(list,\n",
       "                         {2: ['/home/ob/results/irl-torch/birl/06b3_vw_acrobot_1t_hl16_split2_paper_240611-021341.pt',\n",
       "                           '/home/ob/results/irl-torch/birl/06b3_vw_acrobot_1t_hl16_split2_paper_240611-050403.pt',\n",
       "                           '/home/ob/results/irl-torch/birl/06b3_vw_acrobot_1t_hl16_split2_paper_240611-032545.pt',\n",
       "                           '/home/ob/results/irl-torch/birl/06b3_vw_acrobot_1t_hl16_split2_paper_240611-064720.pt'],\n",
       "                          3: ['/home/ob/results/irl-torch/birl/06b3_vw_acrobot_1t_hl16_split3_paper_240611-071922.pt',\n",
       "                           '/home/ob/results/irl-torch/birl/06b3_vw_acrobot_1t_hl16_split3_paper_240611-022326.pt',\n",
       "                           '/home/ob/results/irl-torch/birl/06b3_vw_acrobot_1t_hl16_split3_paper_240611-053810.pt',\n",
       "                           '/home/ob/results/irl-torch/birl/06b3_vw_acrobot_1t_hl16_split3_paper_240611-040240.pt'],\n",
       "                          1: ['/home/ob/results/irl-torch/birl/06b3_vw_acrobot_1t_hl16_split1_paper_240611-040831.pt',\n",
       "                           '/home/ob/results/irl-torch/birl/06b3_vw_acrobot_1t_hl16_split1_paper_240611-072945.pt',\n",
       "                           '/home/ob/results/irl-torch/birl/06b3_vw_acrobot_1t_hl16_split1_paper_240611-054713.pt',\n",
       "                           '/home/ob/results/irl-torch/birl/06b3_vw_acrobot_1t_hl16_split1_paper_240611-022531.pt'],\n",
       "                          4: ['/home/ob/results/irl-torch/birl/06b3_vw_acrobot_1t_hl16_split4_paper_240611-033301.pt',\n",
       "                           '/home/ob/results/irl-torch/birl/06b3_vw_acrobot_1t_hl16_split4_paper_240611-051402.pt',\n",
       "                           '/home/ob/results/irl-torch/birl/06b3_vw_acrobot_1t_hl16_split4_paper_240611-065339.pt',\n",
       "                           '/home/ob/results/irl-torch/birl/06b3_vw_acrobot_1t_hl16_split4_paper_240611-020125.pt'],\n",
       "                          0: ['/home/ob/results/irl-torch/birl/06b3_vw_acrobot_1t_hl16_split0_paper_240611-022120.pt',\n",
       "                           '/home/ob/results/irl-torch/birl/06b3_vw_acrobot_1t_hl16_split0_paper_240611-071158.pt',\n",
       "                           '/home/ob/results/irl-torch/birl/06b3_vw_acrobot_1t_hl16_split0_paper_240611-053052.pt',\n",
       "                           '/home/ob/results/irl-torch/birl/06b3_vw_acrobot_1t_hl16_split0_paper_240611-035800.pt']}),\n",
       "             7: defaultdict(list,\n",
       "                         {2: ['/home/ob/results/irl-torch/birl/06b3_vw_acrobot_7t_hl16_split2_paper_240611-221350.pt',\n",
       "                           '/home/ob/results/irl-torch/birl/06b3_vw_acrobot_7t_hl16_split2_paper_240611-152142.pt',\n",
       "                           '/home/ob/results/irl-torch/birl/06b3_vw_acrobot_7t_hl16_split2_paper_240611-195908.pt',\n",
       "                           '/home/ob/results/irl-torch/birl/06b3_vw_acrobot_7t_hl16_split2_paper_240611-173926.pt'],\n",
       "                          1: ['/home/ob/results/irl-torch/birl/06b3_vw_acrobot_7t_hl16_split1_paper_240611-203442.pt',\n",
       "                           '/home/ob/results/irl-torch/birl/06b3_vw_acrobot_7t_hl16_split1_paper_240611-162127.pt',\n",
       "                           '/home/ob/results/irl-torch/birl/06b3_vw_acrobot_7t_hl16_split1_paper_240611-224910.pt',\n",
       "                           '/home/ob/results/irl-torch/birl/06b3_vw_acrobot_7t_hl16_split1_paper_240611-181835.pt'],\n",
       "                          4: ['/home/ob/results/irl-torch/birl/06b3_vw_acrobot_7t_hl16_split4_paper_240611-222320.pt',\n",
       "                           '/home/ob/results/irl-torch/birl/06b3_vw_acrobot_7t_hl16_split4_paper_240611-200526.pt',\n",
       "                           '/home/ob/results/irl-torch/birl/06b3_vw_acrobot_7t_hl16_split4_paper_240611-174936.pt',\n",
       "                           '/home/ob/results/irl-torch/birl/06b3_vw_acrobot_7t_hl16_split4_paper_240611-153541.pt'],\n",
       "                          3: ['/home/ob/results/irl-torch/birl/06b3_vw_acrobot_7t_hl16_split3_paper_240611-223752.pt',\n",
       "                           '/home/ob/results/irl-torch/birl/06b3_vw_acrobot_7t_hl16_split3_paper_240611-181036.pt',\n",
       "                           '/home/ob/results/irl-torch/birl/06b3_vw_acrobot_7t_hl16_split3_paper_240611-202746.pt',\n",
       "                           '/home/ob/results/irl-torch/birl/06b3_vw_acrobot_7t_hl16_split3_paper_240611-155622.pt'],\n",
       "                          0: ['/home/ob/results/irl-torch/birl/06b3_vw_acrobot_7t_hl16_split0_paper_240611-182900.pt',\n",
       "                           '/home/ob/results/irl-torch/birl/06b3_vw_acrobot_7t_hl16_split0_paper_240611-204742.pt',\n",
       "                           '/home/ob/results/irl-torch/birl/06b3_vw_acrobot_7t_hl16_split0_paper_240611-155807.pt',\n",
       "                           '/home/ob/results/irl-torch/birl/06b3_vw_acrobot_7t_hl16_split0_paper_240611-230546.pt']}),\n",
       "             3: defaultdict(list,\n",
       "                         {1: ['/home/ob/results/irl-torch/birl/06b3_vw_acrobot_3t_hl16_split1_paper_240611-142752.pt',\n",
       "                           '/home/ob/results/irl-torch/birl/06b3_vw_acrobot_3t_hl16_split1_paper_240611-105829.pt',\n",
       "                           '/home/ob/results/irl-torch/birl/06b3_vw_acrobot_3t_hl16_split1_paper_240611-090632.pt',\n",
       "                           '/home/ob/results/irl-torch/birl/06b3_vw_acrobot_3t_hl16_split1_paper_240611-123621.pt'],\n",
       "                          3: ['/home/ob/results/irl-torch/birl/06b3_vw_acrobot_3t_hl16_split3_paper_240611-141952.pt',\n",
       "                           '/home/ob/results/irl-torch/birl/06b3_vw_acrobot_3t_hl16_split3_paper_240611-105143.pt',\n",
       "                           '/home/ob/results/irl-torch/birl/06b3_vw_acrobot_3t_hl16_split3_paper_240611-124302.pt',\n",
       "                           '/home/ob/results/irl-torch/birl/06b3_vw_acrobot_3t_hl16_split3_paper_240611-090020.pt'],\n",
       "                          0: ['/home/ob/results/irl-torch/birl/06b3_vw_acrobot_3t_hl16_split0_paper_240611-085101.pt',\n",
       "                           '/home/ob/results/irl-torch/birl/06b3_vw_acrobot_3t_hl16_split0_paper_240611-141328.pt',\n",
       "                           '/home/ob/results/irl-torch/birl/06b3_vw_acrobot_3t_hl16_split0_paper_240611-103733.pt',\n",
       "                           '/home/ob/results/irl-torch/birl/06b3_vw_acrobot_3t_hl16_split0_paper_240611-122619.pt'],\n",
       "                          2: ['/home/ob/results/irl-torch/birl/06b3_vw_acrobot_3t_hl16_split2_paper_240611-132938.pt',\n",
       "                           '/home/ob/results/irl-torch/birl/06b3_vw_acrobot_3t_hl16_split2_paper_240611-101640.pt',\n",
       "                           '/home/ob/results/irl-torch/birl/06b3_vw_acrobot_3t_hl16_split2_paper_240611-083104.pt',\n",
       "                           '/home/ob/results/irl-torch/birl/06b3_vw_acrobot_3t_hl16_split2_paper_240611-115746.pt'],\n",
       "                          4: ['/home/ob/results/irl-torch/birl/06b3_vw_acrobot_3t_hl16_split4_paper_240611-081756.pt',\n",
       "                           '/home/ob/results/irl-torch/birl/06b3_vw_acrobot_3t_hl16_split4_paper_240611-115848.pt',\n",
       "                           '/home/ob/results/irl-torch/birl/06b3_vw_acrobot_3t_hl16_split4_paper_240611-100758.pt',\n",
       "                           '/home/ob/results/irl-torch/birl/06b3_vw_acrobot_3t_hl16_split4_paper_240611-134340.pt']}),\n",
       "             10: defaultdict(list,\n",
       "                         {3: ['/home/ob/results/irl-torch/birl/06b3_vw_acrobot_10t_hl16_split3_paper_240612-033239.pt',\n",
       "                           '/home/ob/results/irl-torch/birl/06b3_vw_acrobot_10t_hl16_split3_paper_240612-085649.pt',\n",
       "                           '/home/ob/results/irl-torch/birl/06b3_vw_acrobot_10t_hl16_split3_paper_240612-004554.pt',\n",
       "                           '/home/ob/results/irl-torch/birl/06b3_vw_acrobot_10t_hl16_split3_paper_240612-060413.pt'],\n",
       "                          1: ['/home/ob/results/irl-torch/birl/06b3_vw_acrobot_10t_hl16_split1_paper_240612-080020.pt',\n",
       "                           '/home/ob/results/irl-torch/birl/06b3_vw_acrobot_10t_hl16_split1_paper_240612-033504.pt',\n",
       "                           '/home/ob/results/irl-torch/birl/06b3_vw_acrobot_10t_hl16_split1_paper_240612-005835.pt',\n",
       "                           '/home/ob/results/irl-torch/birl/06b3_vw_acrobot_10t_hl16_split1_paper_240612-062029.pt'],\n",
       "                          0: ['/home/ob/results/irl-torch/birl/06b3_vw_acrobot_10t_hl16_split0_paper_240612-100927.pt',\n",
       "                           '/home/ob/results/irl-torch/birl/06b3_vw_acrobot_10t_hl16_split0_paper_240612-013621.pt',\n",
       "                           '/home/ob/results/irl-torch/birl/06b3_vw_acrobot_10t_hl16_split0_paper_240612-071001.pt',\n",
       "                           '/home/ob/results/irl-torch/birl/06b3_vw_acrobot_10t_hl16_split0_paper_240612-042027.pt'],\n",
       "                          2: ['/home/ob/results/irl-torch/birl/06b3_vw_acrobot_10t_hl16_split2_paper_240612-085633.pt',\n",
       "                           '/home/ob/results/irl-torch/birl/06b3_vw_acrobot_10t_hl16_split2_paper_240612-032113.pt',\n",
       "                           '/home/ob/results/irl-torch/birl/06b3_vw_acrobot_10t_hl16_split2_paper_240612-003157.pt',\n",
       "                           '/home/ob/results/irl-torch/birl/06b3_vw_acrobot_10t_hl16_split2_paper_240612-061016.pt'],\n",
       "                          4: ['/home/ob/results/irl-torch/birl/06b3_vw_acrobot_10t_hl16_split4_paper_240612-003606.pt',\n",
       "                           '/home/ob/results/irl-torch/birl/06b3_vw_acrobot_10t_hl16_split4_paper_240612-032129.pt',\n",
       "                           '/home/ob/results/irl-torch/birl/06b3_vw_acrobot_10t_hl16_split4_paper_240612-085736.pt',\n",
       "                           '/home/ob/results/irl-torch/birl/06b3_vw_acrobot_10t_hl16_split4_paper_240612-060954.pt']})})"
      ]
     },
     "execution_count": 139,
     "metadata": {},
     "output_type": "execute_result"
    }
   ],
   "execution_count": 139
  },
  {
   "metadata": {
    "ExecuteTime": {
     "end_time": "2024-06-25T17:16:56.972491Z",
     "start_time": "2024-06-25T17:12:47.352936Z"
    }
   },
   "cell_type": "code",
   "source": [
    "test_rewards = defaultdict(lambda: dict())\n",
    "\n",
    "for n_trajectories, split_files in result_files.items():\n",
    "    for split, files in split_files.items():\n",
    "            reward_model = load_and_combine_vw_models(files, default_hiddens=[16], inputs=9)\n",
    "            print(f\"{n_trajectories} trajectories, split {split}: Loaded a model with params of shape {reward_model.q_param_samples['theta_q'].shape} from {len(files)} files.\")\n",
    "            test_results = gym_test(reward_model, env_name=env_config.env_name, num_actions=3)\n",
    "            test_rewards[n_trajectories][split] = test_results"
   ],
   "id": "b388da0487ab0f7c",
   "outputs": [
    {
     "name": "stdout",
     "output_type": "stream",
     "text": [
      "15 trajectories, split 1: Loaded a model with params of shape torch.Size([2000, 177]) from 4 files.\n"
     ]
    },
    {
     "name": "stderr",
     "output_type": "stream",
     "text": [
      "Testing: 100%|██████████| 300/300 [00:09<00:00, 30.06it/s]\n"
     ]
    },
    {
     "name": "stdout",
     "output_type": "stream",
     "text": [
      "Mean Reward: -87.02666666666667\n",
      "15 trajectories, split 0: Loaded a model with params of shape torch.Size([2000, 177]) from 4 files.\n"
     ]
    },
    {
     "name": "stderr",
     "output_type": "stream",
     "text": [
      "Testing: 100%|██████████| 300/300 [00:11<00:00, 26.35it/s]\n"
     ]
    },
    {
     "name": "stdout",
     "output_type": "stream",
     "text": [
      "Mean Reward: -82.46\n",
      "15 trajectories, split 4: Loaded a model with params of shape torch.Size([2000, 177]) from 4 files.\n"
     ]
    },
    {
     "name": "stderr",
     "output_type": "stream",
     "text": [
      "Testing: 100%|██████████| 300/300 [00:09<00:00, 30.26it/s]\n"
     ]
    },
    {
     "name": "stdout",
     "output_type": "stream",
     "text": [
      "Mean Reward: -83.88\n",
      "15 trajectories, split 3: Loaded a model with params of shape torch.Size([2000, 177]) from 4 files.\n"
     ]
    },
    {
     "name": "stderr",
     "output_type": "stream",
     "text": [
      "Testing: 100%|██████████| 300/300 [00:10<00:00, 29.85it/s]\n"
     ]
    },
    {
     "name": "stdout",
     "output_type": "stream",
     "text": [
      "Mean Reward: -87.26\n",
      "15 trajectories, split 2: Loaded a model with params of shape torch.Size([2000, 177]) from 4 files.\n"
     ]
    },
    {
     "name": "stderr",
     "output_type": "stream",
     "text": [
      "Testing: 100%|██████████| 300/300 [00:09<00:00, 31.86it/s]\n"
     ]
    },
    {
     "name": "stdout",
     "output_type": "stream",
     "text": [
      "Mean Reward: -86.07666666666667\n",
      "1 trajectories, split 2: Loaded a model with params of shape torch.Size([2000, 177]) from 4 files.\n"
     ]
    },
    {
     "name": "stderr",
     "output_type": "stream",
     "text": [
      "Testing: 100%|██████████| 300/300 [00:12<00:00, 24.75it/s]\n"
     ]
    },
    {
     "name": "stdout",
     "output_type": "stream",
     "text": [
      "Mean Reward: -93.78666666666666\n",
      "1 trajectories, split 3: Loaded a model with params of shape torch.Size([2000, 177]) from 4 files.\n"
     ]
    },
    {
     "name": "stderr",
     "output_type": "stream",
     "text": [
      "Testing: 100%|██████████| 300/300 [00:10<00:00, 29.16it/s]\n"
     ]
    },
    {
     "name": "stdout",
     "output_type": "stream",
     "text": [
      "Mean Reward: -89.46\n",
      "1 trajectories, split 1: Loaded a model with params of shape torch.Size([2000, 177]) from 4 files.\n"
     ]
    },
    {
     "name": "stderr",
     "output_type": "stream",
     "text": [
      "Testing: 100%|██████████| 300/300 [00:09<00:00, 30.34it/s]\n"
     ]
    },
    {
     "name": "stdout",
     "output_type": "stream",
     "text": [
      "Mean Reward: -85.36333333333333\n",
      "1 trajectories, split 4: Loaded a model with params of shape torch.Size([2000, 177]) from 4 files.\n"
     ]
    },
    {
     "name": "stderr",
     "output_type": "stream",
     "text": [
      "Testing: 100%|██████████| 300/300 [00:09<00:00, 31.89it/s]\n"
     ]
    },
    {
     "name": "stdout",
     "output_type": "stream",
     "text": [
      "Mean Reward: -84.21\n",
      "1 trajectories, split 0: Loaded a model with params of shape torch.Size([2000, 177]) from 4 files.\n"
     ]
    },
    {
     "name": "stderr",
     "output_type": "stream",
     "text": [
      "Testing: 100%|██████████| 300/300 [00:10<00:00, 28.86it/s]\n"
     ]
    },
    {
     "name": "stdout",
     "output_type": "stream",
     "text": [
      "Mean Reward: -91.4\n",
      "7 trajectories, split 2: Loaded a model with params of shape torch.Size([2000, 177]) from 4 files.\n"
     ]
    },
    {
     "name": "stderr",
     "output_type": "stream",
     "text": [
      "Testing: 100%|██████████| 300/300 [00:10<00:00, 28.39it/s]\n"
     ]
    },
    {
     "name": "stdout",
     "output_type": "stream",
     "text": [
      "Mean Reward: -87.44333333333333\n",
      "7 trajectories, split 1: Loaded a model with params of shape torch.Size([2000, 177]) from 4 files.\n"
     ]
    },
    {
     "name": "stderr",
     "output_type": "stream",
     "text": [
      "Testing: 100%|██████████| 300/300 [00:09<00:00, 32.10it/s]\n"
     ]
    },
    {
     "name": "stdout",
     "output_type": "stream",
     "text": [
      "Mean Reward: -85.8\n",
      "7 trajectories, split 4: Loaded a model with params of shape torch.Size([2000, 177]) from 4 files.\n"
     ]
    },
    {
     "name": "stderr",
     "output_type": "stream",
     "text": [
      "Testing: 100%|██████████| 300/300 [00:09<00:00, 30.47it/s]\n"
     ]
    },
    {
     "name": "stdout",
     "output_type": "stream",
     "text": [
      "Mean Reward: -84.11333333333333\n",
      "7 trajectories, split 3: Loaded a model with params of shape torch.Size([2000, 177]) from 4 files.\n"
     ]
    },
    {
     "name": "stderr",
     "output_type": "stream",
     "text": [
      "Testing: 100%|██████████| 300/300 [00:10<00:00, 29.72it/s]\n"
     ]
    },
    {
     "name": "stdout",
     "output_type": "stream",
     "text": [
      "Mean Reward: -89.96666666666667\n",
      "7 trajectories, split 0: Loaded a model with params of shape torch.Size([2000, 177]) from 4 files.\n"
     ]
    },
    {
     "name": "stderr",
     "output_type": "stream",
     "text": [
      "Testing: 100%|██████████| 300/300 [00:09<00:00, 30.74it/s]\n"
     ]
    },
    {
     "name": "stdout",
     "output_type": "stream",
     "text": [
      "Mean Reward: -86.08333333333333\n",
      "3 trajectories, split 1: Loaded a model with params of shape torch.Size([2000, 177]) from 4 files.\n"
     ]
    },
    {
     "name": "stderr",
     "output_type": "stream",
     "text": [
      "Testing: 100%|██████████| 300/300 [00:08<00:00, 33.38it/s]\n"
     ]
    },
    {
     "name": "stdout",
     "output_type": "stream",
     "text": [
      "Mean Reward: -83.11\n",
      "3 trajectories, split 3: Loaded a model with params of shape torch.Size([2000, 177]) from 4 files.\n"
     ]
    },
    {
     "name": "stderr",
     "output_type": "stream",
     "text": [
      "Testing: 100%|██████████| 300/300 [00:09<00:00, 31.30it/s]\n"
     ]
    },
    {
     "name": "stdout",
     "output_type": "stream",
     "text": [
      "Mean Reward: -86.40333333333334\n",
      "3 trajectories, split 0: Loaded a model with params of shape torch.Size([2000, 177]) from 4 files.\n"
     ]
    },
    {
     "name": "stderr",
     "output_type": "stream",
     "text": [
      "Testing: 100%|██████████| 300/300 [00:09<00:00, 31.99it/s]\n"
     ]
    },
    {
     "name": "stdout",
     "output_type": "stream",
     "text": [
      "Mean Reward: -83.42333333333333\n",
      "3 trajectories, split 2: Loaded a model with params of shape torch.Size([2000, 177]) from 4 files.\n"
     ]
    },
    {
     "name": "stderr",
     "output_type": "stream",
     "text": [
      "Testing: 100%|██████████| 300/300 [00:10<00:00, 29.81it/s]\n"
     ]
    },
    {
     "name": "stdout",
     "output_type": "stream",
     "text": [
      "Mean Reward: -90.01666666666667\n",
      "3 trajectories, split 4: Loaded a model with params of shape torch.Size([2000, 177]) from 4 files.\n"
     ]
    },
    {
     "name": "stderr",
     "output_type": "stream",
     "text": [
      "Testing: 100%|██████████| 300/300 [00:09<00:00, 31.17it/s]\n"
     ]
    },
    {
     "name": "stdout",
     "output_type": "stream",
     "text": [
      "Mean Reward: -87.56\n",
      "10 trajectories, split 3: Loaded a model with params of shape torch.Size([2000, 177]) from 4 files.\n"
     ]
    },
    {
     "name": "stderr",
     "output_type": "stream",
     "text": [
      "Testing: 100%|██████████| 300/300 [00:09<00:00, 32.13it/s]\n"
     ]
    },
    {
     "name": "stdout",
     "output_type": "stream",
     "text": [
      "Mean Reward: -82.53\n",
      "10 trajectories, split 1: Loaded a model with params of shape torch.Size([2000, 177]) from 4 files.\n"
     ]
    },
    {
     "name": "stderr",
     "output_type": "stream",
     "text": [
      "Testing: 100%|██████████| 300/300 [00:09<00:00, 30.09it/s]\n"
     ]
    },
    {
     "name": "stdout",
     "output_type": "stream",
     "text": [
      "Mean Reward: -87.20333333333333\n",
      "10 trajectories, split 0: Loaded a model with params of shape torch.Size([2000, 177]) from 4 files.\n"
     ]
    },
    {
     "name": "stderr",
     "output_type": "stream",
     "text": [
      "Testing: 100%|██████████| 300/300 [00:09<00:00, 31.48it/s]\n"
     ]
    },
    {
     "name": "stdout",
     "output_type": "stream",
     "text": [
      "Mean Reward: -83.63333333333334\n",
      "10 trajectories, split 2: Loaded a model with params of shape torch.Size([2000, 177]) from 4 files.\n"
     ]
    },
    {
     "name": "stderr",
     "output_type": "stream",
     "text": [
      "Testing: 100%|██████████| 300/300 [00:09<00:00, 31.14it/s]\n"
     ]
    },
    {
     "name": "stdout",
     "output_type": "stream",
     "text": [
      "Mean Reward: -87.74\n",
      "10 trajectories, split 4: Loaded a model with params of shape torch.Size([2000, 177]) from 4 files.\n"
     ]
    },
    {
     "name": "stderr",
     "output_type": "stream",
     "text": [
      "Testing: 100%|██████████| 300/300 [00:09<00:00, 30.08it/s]\n"
     ]
    },
    {
     "name": "stdout",
     "output_type": "stream",
     "text": [
      "Mean Reward: -84.12\n"
     ]
    },
    {
     "data": {
      "text/plain": [
       "<Figure size 640x480 with 1 Axes>"
      ],
      "image/png": "[encoded data removed]"
     },
     "metadata": {},
     "output_type": "display_data"
    }
   ],
   "execution_count": 140
  },
  {
   "metadata": {
    "ExecuteTime": {
     "end_time": "2024-06-25T17:17:08.938116Z",
     "start_time": "2024-06-25T17:17:08.934581Z"
    }
   },
   "cell_type": "code",
   "source": [
    "split_mean_rewards = {n_trajs: {split: np.mean(rewards) for split, rewards in split_dict.items()} for n_trajs, split_dict in test_rewards.items()}\n",
    "split_mean_rewards"
   ],
   "id": "ab685ff41bf1d842",
   "outputs": [
    {
     "data": {
      "text/plain": [
       "{15: {1: -87.02666666666667,\n",
       "  0: -82.46,\n",
       "  4: -83.88,\n",
       "  3: -87.26,\n",
       "  2: -86.07666666666667},\n",
       " 1: {2: -93.78666666666666,\n",
       "  3: -89.46,\n",
       "  1: -85.36333333333333,\n",
       "  4: -84.21,\n",
       "  0: -91.4},\n",
       " 7: {2: -87.44333333333333,\n",
       "  1: -85.8,\n",
       "  4: -84.11333333333333,\n",
       "  3: -89.96666666666667,\n",
       "  0: -86.08333333333333},\n",
       " 3: {1: -83.11,\n",
       "  3: -86.40333333333334,\n",
       "  0: -83.42333333333333,\n",
       "  2: -90.01666666666667,\n",
       "  4: -87.56},\n",
       " 10: {3: -82.53,\n",
       "  1: -87.20333333333333,\n",
       "  0: -83.63333333333334,\n",
       "  2: -87.74,\n",
       "  4: -84.12}}"
      ]
     },
     "execution_count": 141,
     "metadata": {},
     "output_type": "execute_result"
    }
   ],
   "execution_count": 141
  },
  {
   "metadata": {
    "ExecuteTime": {
     "end_time": "2024-06-25T17:17:08.956704Z",
     "start_time": "2024-06-25T17:17:08.938658Z"
    }
   },
   "cell_type": "code",
   "source": "{n_trajs: np.mean(list(split_files.values())) for n_trajs, split_files in split_mean_rewards.items()}",
   "id": "536175a5e79a3ba3",
   "outputs": [
    {
     "data": {
      "text/plain": [
       "{15: -85.34066666666666,\n",
       " 1: -88.84400000000001,\n",
       " 7: -86.68133333333334,\n",
       " 3: -86.10266666666666,\n",
       " 10: -85.04533333333333}"
      ]
     },
     "execution_count": 142,
     "metadata": {},
     "output_type": "execute_result"
    }
   ],
   "execution_count": 142
  },
  {
   "metadata": {},
   "cell_type": "markdown",
   "source": "### Plot the results",
   "id": "f405869db22d7ee5"
  },
  {
   "metadata": {
    "ExecuteTime": {
     "end_time": "2024-06-25T17:17:32.398181Z",
     "start_time": "2024-06-25T17:17:32.394611Z"
    }
   },
   "cell_type": "code",
   "source": [
    "vw_means = np.array([np.mean(list(split_mean_rewards[t].values())) for t in traj_nums])\n",
    "vw_stds = np.array([np.std(np.concatenate(list(test_rewards[t].values()))) for t in traj_nums])\n",
    "vw_lb = vw_means - vw_stds\n",
    "vw_ub = vw_means + vw_stds"
   ],
   "id": "88f1049ef7a9e108",
   "outputs": [],
   "execution_count": 143
  },
  {
   "metadata": {
    "ExecuteTime": {
     "end_time": "2024-06-25T17:17:42.543296Z",
     "start_time": "2024-06-25T17:17:42.539880Z"
    }
   },
   "cell_type": "code",
   "source": [
    "traj_nums = [1,3,7,10,15]\n",
    "\n",
    "# Baseline results from the AVRIL paper\n",
    "def conv(val: float):\n",
    "    return 0. - val\n",
    "\n",
    "avril_rewards = [-296, -149, -97, -91, -90]\n",
    "avril_ubs = [conv(val) for val in [287, 128, 75, 73, 72]]\n",
    "avril_lbs = [mean-(ub-mean) for mean, ub in zip(avril_rewards, avril_ubs)]\n",
    "\n",
    "\n",
    "edm_means = [conv(val) for val in [122., 86., 85., 85., 85.]]\n",
    "edm_ubs = [conv(val) for val in [94., 86., 85., 85., 85.]]\n",
    "edm_lbs = [mean-(ub-mean) for mean, ub in zip(edm_means, edm_ubs)]\n",
    "\n",
    "\n",
    "bc_means = [conv(val) for val in [157., 93., 92., 90., 85.]]\n",
    "bc_ubs = [conv(val) for val in [94., 93., 92., 90., 85.]]\n",
    "bc_lbs = [mean-(ub-mean) for mean, ub in zip(bc_means, bc_ubs)]\n",
    "\n",
    "expert_performance = -87"
   ],
   "id": "d3fad3d640432195",
   "outputs": [],
   "execution_count": 144
  },
  {
   "metadata": {
    "ExecuteTime": {
     "end_time": "2024-06-25T17:17:42.695114Z",
     "start_time": "2024-06-25T17:17:42.543961Z"
    }
   },
   "cell_type": "code",
   "source": [
    "plt.figure(figsize=(3.5, 4))\n",
    "\n",
    "\n",
    "plt.plot(traj_nums, vw_means, label=\"ValueWalk (ours)\", marker=\"o\")\n",
    "\n",
    "plt.plot(traj_nums, avril_rewards, label=\"AVRIL\", marker=\"o\")\n",
    "# \n",
    "plt.plot(traj_nums, edm_means, label=\"EDM\", marker=\"o\")\n",
    "plt.plot(traj_nums, bc_means, label=\"BC\", marker=\"o\")\n",
    "\n",
    "# plt.plot(traj_nums, avril_means2, label=\"AVRIL2\", marker=\"o\")\n",
    "\n",
    "\n",
    "plt.plot(traj_nums, [np.mean(random_policy_rewards)]*len(traj_nums), label=\"Random policy\", linestyle=\"--\")\n",
    "plt.plot(traj_nums, [expert_performance]*len(traj_nums), label=\"Expert\", linestyle=\"--\")\n",
    "\n",
    "plt.fill_between(traj_nums, vw_lb, vw_ub, alpha=0.3)\n",
    "\n",
    "plt.fill_between(traj_nums, avril_lbs, avril_ubs, alpha=0.3)\n",
    "# \n",
    "plt.fill_between(traj_nums, edm_lbs, edm_ubs, alpha=0.3)\n",
    "plt.fill_between(traj_nums, bc_lbs, bc_ubs, alpha=0.3)\n",
    "\n",
    "\n",
    "plt.ylim(-505, 0)\n",
    "plt.xticks(traj_nums)\n",
    "plt.xlabel(\"Number of demonstration trajectories\")\n",
    "plt.ylabel(\"Mean reward\")\n",
    "plt.title(env_config.env_name)\n",
    "plt.legend()\n",
    "\n",
    "# Place legend in the bottom right corner\n",
    "plt.legend(loc=\"lower right\")\n",
    "\n",
    "# Save figure into a pdf\n",
    "plt.savefig(\"/home/ob/results/irl-torch/birl/acrobot_num_trajs_new.pdf\")\n",
    "plt.show()"
   ],
   "id": "d28eac7ef30e6e27",
   "outputs": [
    {
     "data": {
      "text/plain": [
       "<Figure size 350x400 with 1 Axes>"
      ],
      "image/png": "[encoded data removed]"
     },
     "metadata": {},
     "output_type": "display_data"
    }
   ],
   "execution_count": 145
  },
  {
   "metadata": {},
   "cell_type": "markdown",
   "source": "### Posterior predictive check",
   "id": "60eaacc455788545"
  },
  {
   "metadata": {
    "ExecuteTime": {
     "end_time": "2024-06-25T17:17:42.699380Z",
     "start_time": "2024-06-25T17:17:42.696126Z"
    }
   },
   "cell_type": "code",
   "source": "env_config.env_name",
   "id": "15fbdbb5c30d15eb",
   "outputs": [
    {
     "data": {
      "text/plain": [
       "'Acrobot-v1'"
      ]
     },
     "execution_count": 146,
     "metadata": {},
     "output_type": "execute_result"
    }
   ],
   "execution_count": 146
  },
  {
   "metadata": {
    "ExecuteTime": {
     "end_time": "2024-06-25T17:26:51.129357Z",
     "start_time": "2024-06-25T17:26:50.504973Z"
    }
   },
   "cell_type": "code",
   "source": [
    "D_test = load_avril_demonstrations(env_config.env_name, split=\"test\", to_onehot=True)\n",
    "\n",
    "plot_actions = torch.eye(3, dtype=torch.float)\n",
    "plot_states = D_test.states_tensor\n",
    "model_name = \"avril\"\n",
    "\n",
    "avril_logprobs = {}\n",
    "avril_entropy = {}\n",
    "avril_top_action_logprobs = {}\n",
    "\n",
    "for num_trajs in [1, 3, 7, 10, 15]:\n",
    "    avril_model_files = glob.glob(str(RESULTS_DIR / f\"birl/06a2_avril_acrobot_loop_{num_trajs}t_hl64_64*\"))\n",
    "    avril_model_files = [f for f in avril_model_files if \"info\" not in f]\n",
    "\n",
    "    logprobs = []\n",
    "    entropies = []\n",
    "    top_action_logprobs = []\n",
    "\n",
    "    for f in avril_model_files:\n",
    "        model = torch.load(f)\n",
    "        avril_action_logprobs = model.boltzmann_action_probs(D_test.states_tensor.float(), plot_actions, beta,\n",
    "                                                             discrete_actions=True, return_logprobs=True).detach()\n",
    "        entropy = -torch.sum(avril_action_logprobs * torch.exp(avril_action_logprobs), dim=-1)\n",
    "        top_action_logprobs.append(float(torch.max(avril_action_logprobs, dim=-1)[0].mean().item()))\n",
    "\n",
    "        avril_action_logprobs = avril_action_logprobs.gather(1, torch.argmax(D_test.actions_tensor, dim=-1).unsqueeze(\n",
    "            -1)).squeeze(-1)\n",
    "\n",
    "        print(f\"{num_trajs}t mean logprob : {avril_action_logprobs.mean()}, entropy: {entropy.mean()}\")\n",
    "        entropies.append(float(entropy.mean().item()))\n",
    "\n",
    "        logprobs.append(float(avril_action_logprobs.mean().item()))\n",
    "        # print(f\"{model_name} mean log action density: {torch.log(avril_action_logprobs).mean()}\")\n",
    "    avril_logprobs[num_trajs] = logprobs\n",
    "    avril_entropy[num_trajs] = entropies\n",
    "    avril_top_action_logprobs[num_trajs] = top_action_logprobs\n"
   ],
   "id": "8ece6c00c7d5336a",
   "outputs": [
    {
     "name": "stdout",
     "output_type": "stream",
     "text": [
      "Loaded 100 demonstrations\n",
      "1t mean logprob : -0.6954386830329895, entropy: 0.3031878173351288\n",
      "1t mean logprob : -1.2450839281082153, entropy: 0.2043815553188324\n",
      "1t mean logprob : -1.0170402526855469, entropy: 0.21742302179336548\n",
      "1t mean logprob : -1.0351146459579468, entropy: 0.16814540326595306\n",
      "1t mean logprob : -1.1351523399353027, entropy: 0.20672009885311127\n",
      "1t mean logprob : -1.2928745746612549, entropy: 0.13566173613071442\n",
      "1t mean logprob : -1.1096315383911133, entropy: 0.19399259984493256\n",
      "1t mean logprob : -1.186455249786377, entropy: 0.18733499944210052\n",
      "1t mean logprob : -0.61131352186203, entropy: 0.3194481432437897\n",
      "3t mean logprob : -0.7132991552352905, entropy: 0.24946001172065735\n",
      "3t mean logprob : -0.6320040225982666, entropy: 0.262762188911438\n",
      "3t mean logprob : -0.4723672866821289, entropy: 0.3949211835861206\n",
      "3t mean logprob : -0.7796919941902161, entropy: 0.29523253440856934\n",
      "3t mean logprob : -0.6656675338745117, entropy: 0.26058951020240784\n",
      "7t mean logprob : -0.6572040319442749, entropy: 0.3056400716304779\n",
      "7t mean logprob : -0.4886031746864319, entropy: 0.36634597182273865\n",
      "7t mean logprob : -0.5325032472610474, entropy: 0.3065396249294281\n",
      "7t mean logprob : -0.49668434262275696, entropy: 0.35173505544662476\n",
      "7t mean logprob : -0.6542834043502808, entropy: 0.28217145800590515\n",
      "10t mean logprob : -0.43332743644714355, entropy: 0.3832506537437439\n",
      "10t mean logprob : -0.5878298878669739, entropy: 0.33112359046936035\n",
      "10t mean logprob : -0.43640953302383423, entropy: 0.3873818516731262\n",
      "10t mean logprob : -0.4234313666820526, entropy: 0.3922586739063263\n",
      "10t mean logprob : -0.5724811553955078, entropy: 0.33046630024909973\n",
      "15t mean logprob : -0.4450751543045044, entropy: 0.35203060507774353\n",
      "15t mean logprob : -0.5368268489837646, entropy: 0.4141777753829956\n",
      "15t mean logprob : -0.977088451385498, entropy: 1.0095155239105225\n",
      "15t mean logprob : -0.8049163818359375, entropy: 0.1902908831834793\n",
      "15t mean logprob : -0.553103506565094, entropy: 0.3650946021080017\n",
      "15t mean logprob : -0.46157944202423096, entropy: 0.3787757158279419\n",
      "15t mean logprob : -0.5713675618171692, entropy: 0.3206000030040741\n"
     ]
    }
   ],
   "execution_count": 147
  },
  {
   "metadata": {
    "ExecuteTime": {
     "end_time": "2024-06-25T17:32:03.424875Z",
     "start_time": "2024-06-25T17:30:08.971892Z"
    }
   },
   "cell_type": "code",
   "source": [
    "beta = 3.\n",
    "vw_action_log_probs = {num_trajs: [] for num_trajs in traj_nums}\n",
    "vw_entropies = {num_trajs: [] for num_trajs in traj_nums}\n",
    "\n",
    "model_name = \"ValueWalk\"\n",
    "\n",
    "for n_trajectories, split_files in result_files.items():\n",
    "    for split, files in split_files.items():\n",
    "        model = load_and_combine_vw_models(files, default_hiddens=[16], inputs=9)\n",
    "        print(f\"{n_trajectories} trajectories, split {split}: Loaded a model with params of shape {reward_model.q_param_samples['theta_q'].shape} from {len(files)} files.\")\n",
    "        \n",
    "        subset_logprobs = []\n",
    "        subset_entropies = []\n",
    "        for i in range(10):\n",
    "            D_test_small = D_test[(10*i):(10*(i+1))]\n",
    "            action_ints = torch.argmax(D_test_small.actions_tensor, dim=-1)\n",
    "            action_logprobs_ba = model.boltzmann_action_probs(D_test_small.states_tensor.float(), plot_actions, beta, return_logprobs=True).detach()\n",
    "            entropy = -torch.sum(action_logprobs_ba * torch.exp(action_logprobs_ba), dim=-1)\n",
    "            action_logprobs_ba = action_logprobs_ba.gather(1, action_ints.unsqueeze(-1)).squeeze(-1)\n",
    "            mean_log_prob = torch.mean(action_logprobs_ba)\n",
    "            \n",
    "                    \n",
    "            subset_logprobs.append(mean_log_prob)\n",
    "            subset_entropies.append(torch.mean(entropy).item())\n",
    "            \n",
    "        vw_action_log_probs[n_trajectories].append(np.mean(subset_logprobs))\n",
    "        vw_entropies[n_trajectories].append(np.mean(subset_entropies))\n",
    "        print(f\"{model_name} mean log density   : {mean_log_prob}, entropy: {torch.mean(entropy)}\")\n"
   ],
   "id": "4d705765125dbc64",
   "outputs": [
    {
     "name": "stdout",
     "output_type": "stream",
     "text": [
      "15 trajectories, split 1: Loaded a model with params of shape torch.Size([2000, 177]) from 4 files.\n",
      "ValueWalk mean log density   : -0.24620313942432404, entropy: 0.2563951313495636\n",
      "15 trajectories, split 0: Loaded a model with params of shape torch.Size([2000, 177]) from 4 files.\n",
      "ValueWalk mean log density   : -0.20444020628929138, entropy: 0.294580340385437\n",
      "15 trajectories, split 4: Loaded a model with params of shape torch.Size([2000, 177]) from 4 files.\n",
      "ValueWalk mean log density   : -0.21183228492736816, entropy: 0.27089157700538635\n",
      "15 trajectories, split 3: Loaded a model with params of shape torch.Size([2000, 177]) from 4 files.\n",
      "ValueWalk mean log density   : -0.19607694447040558, entropy: 0.2786175608634949\n",
      "15 trajectories, split 2: Loaded a model with params of shape torch.Size([2000, 177]) from 4 files.\n",
      "ValueWalk mean log density   : -0.2111712098121643, entropy: 0.2823446989059448\n",
      "1 trajectories, split 2: Loaded a model with params of shape torch.Size([2000, 177]) from 4 files.\n",
      "ValueWalk mean log density   : -0.415007084608078, entropy: 0.39466965198516846\n",
      "1 trajectories, split 3: Loaded a model with params of shape torch.Size([2000, 177]) from 4 files.\n",
      "ValueWalk mean log density   : -0.41227054595947266, entropy: 0.44191721081733704\n",
      "1 trajectories, split 1: Loaded a model with params of shape torch.Size([2000, 177]) from 4 files.\n",
      "ValueWalk mean log density   : -0.4269603192806244, entropy: 0.40252885222435\n",
      "1 trajectories, split 4: Loaded a model with params of shape torch.Size([2000, 177]) from 4 files.\n",
      "ValueWalk mean log density   : -0.44432181119918823, entropy: 0.5168730616569519\n",
      "1 trajectories, split 0: Loaded a model with params of shape torch.Size([2000, 177]) from 4 files.\n",
      "ValueWalk mean log density   : -0.4386192262172699, entropy: 0.4642554223537445\n",
      "7 trajectories, split 2: Loaded a model with params of shape torch.Size([2000, 177]) from 4 files.\n",
      "ValueWalk mean log density   : -0.25227606296539307, entropy: 0.30136194825172424\n",
      "7 trajectories, split 1: Loaded a model with params of shape torch.Size([2000, 177]) from 4 files.\n",
      "ValueWalk mean log density   : -0.25070464611053467, entropy: 0.27741920948028564\n",
      "7 trajectories, split 4: Loaded a model with params of shape torch.Size([2000, 177]) from 4 files.\n",
      "ValueWalk mean log density   : -0.2617213726043701, entropy: 0.34768715500831604\n",
      "7 trajectories, split 3: Loaded a model with params of shape torch.Size([2000, 177]) from 4 files.\n",
      "ValueWalk mean log density   : -0.22602613270282745, entropy: 0.29905369877815247\n",
      "7 trajectories, split 0: Loaded a model with params of shape torch.Size([2000, 177]) from 4 files.\n",
      "ValueWalk mean log density   : -0.24773173034191132, entropy: 0.3468765914440155\n",
      "3 trajectories, split 1: Loaded a model with params of shape torch.Size([2000, 177]) from 4 files.\n",
      "ValueWalk mean log density   : -0.3131001591682434, entropy: 0.3721737563610077\n",
      "3 trajectories, split 3: Loaded a model with params of shape torch.Size([2000, 177]) from 4 files.\n",
      "ValueWalk mean log density   : -0.3499540090560913, entropy: 0.3544606864452362\n",
      "3 trajectories, split 0: Loaded a model with params of shape torch.Size([2000, 177]) from 4 files.\n",
      "ValueWalk mean log density   : -0.33212220668792725, entropy: 0.41448158025741577\n",
      "3 trajectories, split 2: Loaded a model with params of shape torch.Size([2000, 177]) from 4 files.\n",
      "ValueWalk mean log density   : -0.308789998292923, entropy: 0.36931538581848145\n",
      "3 trajectories, split 4: Loaded a model with params of shape torch.Size([2000, 177]) from 4 files.\n",
      "ValueWalk mean log density   : -0.33435285091400146, entropy: 0.396627277135849\n",
      "10 trajectories, split 3: Loaded a model with params of shape torch.Size([2000, 177]) from 4 files.\n",
      "ValueWalk mean log density   : -0.22398652136325836, entropy: 0.3071161210536957\n",
      "10 trajectories, split 1: Loaded a model with params of shape torch.Size([2000, 177]) from 4 files.\n",
      "ValueWalk mean log density   : -0.3019275963306427, entropy: 0.27643558382987976\n",
      "10 trajectories, split 0: Loaded a model with params of shape torch.Size([2000, 177]) from 4 files.\n",
      "ValueWalk mean log density   : -0.2436983287334442, entropy: 0.3242238163948059\n",
      "10 trajectories, split 2: Loaded a model with params of shape torch.Size([2000, 177]) from 4 files.\n",
      "ValueWalk mean log density   : -0.23096726834774017, entropy: 0.298843115568161\n",
      "10 trajectories, split 4: Loaded a model with params of shape torch.Size([2000, 177]) from 4 files.\n",
      "ValueWalk mean log density   : -0.24189361929893494, entropy: 0.2926524579524994\n"
     ]
    }
   ],
   "execution_count": 148
  },
  {
   "metadata": {
    "ExecuteTime": {
     "end_time": "2024-06-25T17:32:03.465026Z",
     "start_time": "2024-06-25T17:32:03.425947Z"
    }
   },
   "cell_type": "code",
   "source": [
    "vw_means = []\n",
    "vw_lb = []\n",
    "vw_ub = []\n",
    "vw_entropy_means = []\n",
    "vw_entropy_lb = []\n",
    "vw_entropy_ub = []\n",
    "for num_trajs in traj_nums:\n",
    "    res = scipy.stats.bootstrap((vw_action_log_probs[num_trajs],), statistic=np.mean, confidence_level=0.90)\n",
    "    vw_means.append(np.mean(vw_action_log_probs[num_trajs]))\n",
    "    vw_lb.append(res.confidence_interval[0])\n",
    "    vw_ub.append(res.confidence_interval[1])\n",
    "    \n",
    "    res = scipy.stats.bootstrap((vw_entropies[num_trajs],), statistic=np.mean, confidence_level=0.90)\n",
    "    vw_entropy_means.append(np.mean(vw_entropies[num_trajs]))\n",
    "    vw_entropy_lb.append(res.confidence_interval[0])\n",
    "    vw_entropy_ub.append(res.confidence_interval[1])\n",
    "\n",
    "# Calculate the 90% confidence interval for AVRIL\n",
    "avril_means = []\n",
    "avril_lb = []\n",
    "avril_ub = []\n",
    "avril_entropy_means = []\n",
    "avril_entropy_lb = []\n",
    "avril_entropy_ub = []\n",
    "for num_trajs in traj_nums:\n",
    "    res = scipy.stats.bootstrap((avril_logprobs[num_trajs],), statistic=np.mean, confidence_level=0.90)\n",
    "    avril_means.append(np.mean(avril_logprobs[num_trajs]))\n",
    "    avril_lb.append(res.confidence_interval[0])\n",
    "    avril_ub.append(res.confidence_interval[1])\n",
    "    \n",
    "    res = scipy.stats.bootstrap((avril_entropy[num_trajs],), statistic=np.mean, confidence_level=0.90)\n",
    "    avril_entropy_means.append(np.mean(avril_entropy[num_trajs]))\n",
    "    avril_entropy_lb.append(res.confidence_interval[0])\n",
    "    avril_entropy_ub.append(res.confidence_interval[1])"
   ],
   "id": "98e045a95637c3d2",
   "outputs": [],
   "execution_count": 149
  },
  {
   "metadata": {
    "ExecuteTime": {
     "end_time": "2024-06-25T17:36:13.685204Z",
     "start_time": "2024-06-25T17:36:13.540085Z"
    }
   },
   "cell_type": "code",
   "source": [
    "traj_nums = [1, 3, 7, 10, 15]\n",
    "\n",
    "# Create figure and primary axis\n",
    "fig, ax1 = plt.subplots(figsize=(4, 4))\n",
    "\n",
    "# Plot the means and confidence intervals for action log probabilities on primary axis\n",
    "ax1.plot(traj_nums, vw_means, label=\"ValueWalk\")\n",
    "ax1.fill_between(traj_nums, vw_lb, vw_ub, alpha=0.3)\n",
    "ax1.plot(traj_nums, avril_means, label=\"AVRIL\")\n",
    "ax1.fill_between(traj_nums, avril_lb, avril_ub, alpha=0.3)\n",
    "ax1.set_xlabel(\"Number of demonstration trajectories\")\n",
    "ax1.set_ylabel(\"Mean action log probability\")\n",
    "\n",
    "# Create a secondary axis for entropy values\n",
    "ax2 = ax1.twinx()\n",
    "ax2.plot(traj_nums, vw_entropy_means, label=\"ValueWalk entropy\", color=\"C0\", linestyle=\":\")\n",
    "ax2.fill_between(traj_nums, vw_entropy_lb, vw_entropy_ub, alpha=0.1)\n",
    "ax2.plot(traj_nums, avril_entropy_means, label=\"AVRIL entropy\", color=\"C1\", linestyle=\":\")\n",
    "ax2.fill_between(traj_nums, avril_entropy_lb, avril_entropy_ub, alpha=0.1)\n",
    "ax2.set_ylabel(\"Action entropy\")\n",
    "ax2.set_ylim(0.2, 0.5)\n",
    "\n",
    "# Adding legends\n",
    "lines, labels = ax1.get_legend_handles_labels()\n",
    "lines2, labels2 = ax2.get_legend_handles_labels()\n",
    "# ax1.legend(lines + lines2, labels + labels2, loc='center right')\n",
    "\n",
    "# Set x ticks to the number of demonstration trajectories\n",
    "ax1.set_xticks(traj_nums)\n",
    "\n",
    "plt.title(env_config.env_name)\n",
    "\n",
    "# Save the plot\n",
    "plt.savefig(\"/home/ob/results/irl-torch/birl/acrobot_action_logprobs_and_entropy_new.pdf\")\n",
    "\n",
    "plt.show()"
   ],
   "id": "59ec8209fd6e3226",
   "outputs": [
    {
     "data": {
      "text/plain": [
       "<Figure size 400x400 with 2 Axes>"
      ],
      "image/png": "[encoded data removed]"
     },
     "metadata": {},
     "output_type": "display_data"
    }
   ],
   "execution_count": 151
  },
  {
   "metadata": {},
   "cell_type": "markdown",
   "source": "## 3. Lunar Lander results",
   "id": "46f800e1ead30458"
  },
  {
   "metadata": {
    "ExecuteTime": {
     "end_time": "2024-06-25T10:25:56.856725Z",
     "start_time": "2024-06-25T10:25:56.854509Z"
    }
   },
   "cell_type": "code",
   "source": "env_config = get_lunar_lander_env_config()",
   "id": "39afdb814c144c74",
   "outputs": [],
   "execution_count": 53
  },
  {
   "metadata": {},
   "cell_type": "markdown",
   "source": "Gather result files for Lunar Lander:",
   "id": "d69f7dbca2036df3"
  },
  {
   "metadata": {
    "ExecuteTime": {
     "end_time": "2024-06-25T09:22:19.314423Z",
     "start_time": "2024-06-25T09:22:19.302979Z"
    }
   },
   "cell_type": "code",
   "source": [
    "all_result_files = [file_name for file_name in glob.glob(str(RESULTS_DIR / \"birl/06b_vw_lunar*_paper_*.pt\")) if \n",
    "               \"_10s_\" not in file_name and \n",
    "               \"info\" not in file_name and \n",
    "               \"checkpoint\" not in file_name and\n",
    "               \"evaluation\" not in file_name\n",
    "               ]\n",
    "all_result_files"
   ],
   "id": "6d997914950edc36",
   "outputs": [
    {
     "data": {
      "text/plain": [
       "['/home/ob/results/irl-torch/birl/06b_vw_lunar_lander_gamma0.95_beta3e+00_7t_split4_rep0_hl24_24_scale1_lsp03_c56_paper_240610-234637.pt',\n",
       " '/home/ob/results/irl-torch/birl/06b_vw_lunar_lander_gamma0.95_beta3e+00_15t_split2_rep1_hl24_24_scale1_lsp03_c0_paper_240612-182817.pt',\n",
       " '/home/ob/results/irl-torch/birl/06b_vw_lunar_lander_gamma0.95_beta3e+00_7t_split0_rep0_hl24_24_scale1_lsp03_c32_paper_240610-234637.pt',\n",
       " '/home/ob/results/irl-torch/birl/06b_vw_lunar_lander_gamma0.95_beta3e+00_7t_split4_rep1_hl24_24_scale1_lsp03_c59_paper_240613-151428.pt',\n",
       " '/home/ob/results/irl-torch/birl/06b_vw_lunar_lander_gamma0.95_beta3e+00_10t_split3_rep0_hl24_24_scale1_lsp03_c0_paper_240614-021232.pt',\n",
       " '/home/ob/results/irl-torch/birl/06b_vw_lunar_lander_gamma0.95_beta3e+00_1t_split3_rep0_hl24_24_scale1_lsp03_c48_paper_240610-234637.pt',\n",
       " '/home/ob/results/irl-torch/birl/06b_vw_lunar_lander_gamma0.95_beta3e+00_1t_split4_rep0_hl24_24_scale1_lsp03_c54_paper_240610-234637.pt',\n",
       " '/home/ob/results/irl-torch/birl/06b_vw_lunar_lander_gamma0.95_beta3e+00_10t_split0_rep0_hl24_24_scale1_lsp03_c0_paper_240614-093910.pt',\n",
       " '/home/ob/results/irl-torch/birl/06b_vw_lunar_lander_gamma0.95_beta3e+00_15t_split3_rep1_hl24_24_scale1_lsp03_c0_paper_240613-112853.pt',\n",
       " '/home/ob/results/irl-torch/birl/06b_vw_lunar_lander_gamma0.95_beta3e+00_7t_split3_rep0_hl24_24_scale1_lsp03_c50_paper_240610-234637.pt',\n",
       " '/home/ob/results/irl-torch/birl/06b_vw_lunar_lander_gamma0.95_beta3e+00_15t_split0_rep0_hl24_24_scale1_lsp03_c0_paper_240611-000241.pt',\n",
       " '/home/ob/results/irl-torch/birl/06b_vw_lunar_lander_gamma0.95_beta3e+00_3t_split2_rep0_hl24_24_scale1_lsp03_c46_paper_240610-234637.pt',\n",
       " '/home/ob/results/irl-torch/birl/06b_vw_lunar_lander_gamma0.95_beta3e+00_3t_split1_rep0_hl24_24_scale1_lsp03_c37_paper_240610-234637.pt',\n",
       " '/home/ob/results/irl-torch/birl/06b_vw_lunar_lander_gamma0.95_beta3e+00_7t_split3_rep0_hl24_24_scale1_lsp03_c53_paper_240610-234637.pt',\n",
       " '/home/ob/results/irl-torch/birl/06b_vw_lunar_lander_gamma0.95_beta3e+00_7t_split4_rep1_hl24_24_scale1_lsp03_c56_paper_240613-120307.pt',\n",
       " '/home/ob/results/irl-torch/birl/06b_vw_lunar_lander_gamma0.95_beta3e+00_7t_split3_rep1_hl24_24_scale1_lsp03_c53_paper_240613-190531.pt',\n",
       " '/home/ob/results/irl-torch/birl/06b_vw_lunar_lander_gamma0.95_beta3e+00_7t_split2_rep0_hl24_24_scale1_lsp03_c47_paper_240610-234637.pt',\n",
       " '/home/ob/results/irl-torch/birl/06b_vw_lunar_lander_gamma0.95_beta3e+00_15t_split3_rep0_hl24_24_scale1_lsp03_c0_paper_240613-034654.pt',\n",
       " '/home/ob/results/irl-torch/birl/06b_vw_lunar_lander_gamma0.95_beta3e+00_3t_split4_rep1_hl24_24_scale1_lsp03_c58_paper_240612-184926.pt',\n",
       " '/home/ob/results/irl-torch/birl/06b_vw_lunar_lander_gamma0.95_beta3e+00_1t_split0_rep0_hl24_24_scale1_lsp03_c33_paper_240610-234637.pt',\n",
       " '/home/ob/results/irl-torch/birl/06b_vw_lunar_lander_gamma0.95_beta3e+00_3t_split2_rep0_hl24_24_scale1_lsp03_c43_paper_240610-234637.pt',\n",
       " '/home/ob/results/irl-torch/birl/06b_vw_lunar_lander_gamma0.95_beta3e+00_7t_split0_rep1_hl24_24_scale1_lsp03_c32_paper_240614-014403.pt',\n",
       " '/home/ob/results/irl-torch/birl/06b_vw_lunar_lander_gamma0.95_beta3e+00_1t_split0_rep1_hl24_24_scale1_lsp03_c33_paper_240612-070127.pt',\n",
       " '/home/ob/results/irl-torch/birl/06b_vw_lunar_lander_gamma0.95_beta3e+00_1t_split4_rep1_hl24_24_scale1_lsp03_c54_paper_240612-103912.pt',\n",
       " '/home/ob/results/irl-torch/birl/06b_vw_lunar_lander_gamma0.95_beta3e+00_1t_split2_rep1_hl24_24_scale1_lsp03_c45_paper_240612-022933.pt',\n",
       " '/home/ob/results/irl-torch/birl/06b_vw_lunar_lander_gamma0.95_beta3e+00_1t_split1_rep1_hl24_24_scale1_lsp03_c36_paper_240612-082320.pt',\n",
       " '/home/ob/results/irl-torch/birl/06b_vw_lunar_lander_gamma0.95_beta3e+00_7t_split0_rep0_hl24_24_scale1_lsp03_c35_paper_240610-234637.pt',\n",
       " '/home/ob/results/irl-torch/birl/06b_vw_lunar_lander_gamma0.95_beta3e+00_3t_split4_rep0_hl24_24_scale1_lsp03_c58_paper_240610-234637.pt',\n",
       " '/home/ob/results/irl-torch/birl/06b_vw_lunar_lander_gamma0.95_beta3e+00_1t_split1_rep0_hl24_24_scale1_lsp03_c36_paper_240610-234637.pt',\n",
       " '/home/ob/results/irl-torch/birl/06b_vw_lunar_lander_gamma0.95_beta3e+00_3t_split0_rep1_hl24_24_scale1_lsp03_c31_paper_240611-161750.pt',\n",
       " '/home/ob/results/irl-torch/birl/06b_vw_lunar_lander_gamma0.95_beta3e+00_7t_split1_rep0_hl24_24_scale1_lsp03_c38_paper_240610-234637.pt',\n",
       " '/home/ob/results/irl-torch/birl/06b_vw_lunar_lander_gamma0.95_beta3e+00_3t_split1_rep0_hl24_24_scale1_lsp03_c40_paper_240610-234637.pt',\n",
       " '/home/ob/results/irl-torch/birl/06b_vw_lunar_lander_gamma0.95_beta3e+00_3t_split0_rep0_hl24_24_scale1_lsp03_c31_paper_240610-234637.pt',\n",
       " '/home/ob/results/irl-torch/birl/06b_vw_lunar_lander_gamma0.95_beta3e+00_10t_split0_rep0_hl24_24_scale1_lsp03_c0_paper_240610-235716.pt',\n",
       " '/home/ob/results/irl-torch/birl/06b_vw_lunar_lander_gamma0.95_beta3e+00_7t_split3_rep1_hl24_24_scale1_lsp03_c50_paper_240613-211610.pt',\n",
       " '/home/ob/results/irl-torch/birl/06b_vw_lunar_lander_gamma0.95_beta3e+00_15t_split4_rep0_hl24_24_scale1_lsp03_c0_paper_240613-190106.pt',\n",
       " '/home/ob/results/irl-torch/birl/06b_vw_lunar_lander_gamma0.95_beta3e+00_1t_split4_rep1_hl24_24_scale1_lsp03_c57_paper_240612-015748.pt',\n",
       " '/home/ob/results/irl-torch/birl/06b_vw_lunar_lander_gamma0.95_beta3e+00_3t_split3_rep1_hl24_24_scale1_lsp03_c49_paper_240612-222813.pt',\n",
       " '/home/ob/results/irl-torch/birl/06b_vw_lunar_lander_gamma0.95_beta3e+00_1t_split2_rep1_hl24_24_scale1_lsp03_c42_paper_240612-043335.pt',\n",
       " '/home/ob/results/irl-torch/birl/06b_vw_lunar_lander_gamma0.95_beta3e+00_1t_split3_rep0_hl24_24_scale1_lsp03_c51_paper_240610-234637.pt',\n",
       " '/home/ob/results/irl-torch/birl/06b_vw_lunar_lander_gamma0.95_beta3e+00_15t_split1_rep0_hl24_24_scale1_lsp03_c0_paper_240611-154435.pt',\n",
       " '/home/ob/results/irl-torch/birl/06b_vw_lunar_lander_gamma0.95_beta3e+00_3t_split2_rep1_hl24_24_scale1_lsp03_c46_paper_240612-131831.pt',\n",
       " '/home/ob/results/irl-torch/birl/06b_vw_lunar_lander_gamma0.95_beta3e+00_7t_split2_rep0_hl24_24_scale1_lsp03_c44_paper_240610-234637.pt',\n",
       " '/home/ob/results/irl-torch/birl/06b_vw_lunar_lander_gamma0.95_beta3e+00_10t_split2_rep1_hl24_24_scale1_lsp03_c0_paper_240613-083128.pt',\n",
       " '/home/ob/results/irl-torch/birl/06b_vw_lunar_lander_gamma0.95_beta3e+00_3t_split1_rep1_hl24_24_scale1_lsp03_c40_paper_240612-171341.pt',\n",
       " '/home/ob/results/irl-torch/birl/06b_vw_lunar_lander_gamma0.95_beta3e+00_7t_split0_rep1_hl24_24_scale1_lsp03_c35_paper_240614-015130.pt',\n",
       " '/home/ob/results/irl-torch/birl/06b_vw_lunar_lander_gamma0.95_beta3e+00_7t_split1_rep0_hl24_24_scale1_lsp03_c41_paper_240610-234637.pt',\n",
       " '/home/ob/results/irl-torch/birl/06b_vw_lunar_lander_gamma0.95_beta3e+00_3t_split0_rep0_hl24_24_scale1_lsp03_c34_paper_240610-234637.pt',\n",
       " '/home/ob/results/irl-torch/birl/06b_vw_lunar_lander_gamma0.95_beta3e+00_3t_split4_rep0_hl24_24_scale1_lsp03_c55_paper_240610-234637.pt',\n",
       " '/home/ob/results/irl-torch/birl/06b_vw_lunar_lander_gamma0.95_beta3e+00_10t_split3_rep1_hl24_24_scale1_lsp03_c0_paper_240614-234655.pt',\n",
       " '/home/ob/results/irl-torch/birl/06b_vw_lunar_lander_gamma0.95_beta3e+00_10t_split1_rep0_hl24_24_scale1_lsp03_c0_paper_240611-150536.pt',\n",
       " '/home/ob/results/irl-torch/birl/06b_vw_lunar_lander_gamma0.95_beta3e+00_3t_split1_rep1_hl24_24_scale1_lsp03_c37_paper_240612-163115.pt',\n",
       " '/home/ob/results/irl-torch/birl/06b_vw_lunar_lander_gamma0.95_beta3e+00_10t_split0_rep1_hl24_24_scale1_lsp03_c0_paper_240611-081325.pt',\n",
       " '/home/ob/results/irl-torch/birl/06b_vw_lunar_lander_gamma0.95_beta3e+00_3t_split0_rep1_hl24_24_scale1_lsp03_c34_paper_240612-191424.pt',\n",
       " '/home/ob/results/irl-torch/birl/06b_vw_lunar_lander_gamma0.95_beta3e+00_3t_split3_rep0_hl24_24_scale1_lsp03_c52_paper_240610-234637.pt',\n",
       " '/home/ob/results/irl-torch/birl/06b_vw_lunar_lander_gamma0.95_beta3e+00_15t_split1_rep1_hl24_24_scale1_lsp03_c0_paper_240611-230429.pt',\n",
       " '/home/ob/results/irl-torch/birl/06b_vw_lunar_lander_gamma0.95_beta3e+00_1t_split0_rep1_hl24_24_scale1_lsp03_c30_paper_240611-134654.pt',\n",
       " '/home/ob/results/irl-torch/birl/06b_vw_lunar_lander_gamma0.95_beta3e+00_3t_split3_rep0_hl24_24_scale1_lsp03_c49_paper_240610-234637.pt',\n",
       " '/home/ob/results/irl-torch/birl/06b_vw_lunar_lander_gamma0.95_beta3e+00_15t_split4_rep1_hl24_24_scale1_lsp03_c0_paper_240614-020035.pt',\n",
       " '/home/ob/results/irl-torch/birl/06b_vw_lunar_lander_gamma0.95_beta3e+00_7t_split1_rep1_hl24_24_scale1_lsp03_c41_paper_240614-020810.pt',\n",
       " '/home/ob/results/irl-torch/birl/06b_vw_lunar_lander_gamma0.95_beta3e+00_10t_split2_rep0_hl24_24_scale1_lsp03_c0_paper_240612-141302.pt',\n",
       " '/home/ob/results/irl-torch/birl/06b_vw_lunar_lander_gamma0.95_beta3e+00_1t_split1_rep1_hl24_24_scale1_lsp03_c39_paper_240612-074608.pt',\n",
       " '/home/ob/results/irl-torch/birl/06b_vw_lunar_lander_gamma0.95_beta3e+00_1t_split3_rep1_hl24_24_scale1_lsp03_c48_paper_240612-045221.pt',\n",
       " '/home/ob/results/irl-torch/birl/06b_vw_lunar_lander_gamma0.95_beta3e+00_10t_split1_rep1_hl24_24_scale1_lsp03_c0_paper_240612-025208.pt',\n",
       " '/home/ob/results/irl-torch/birl/06b_vw_lunar_lander_gamma0.95_beta3e+00_7t_split2_rep1_hl24_24_scale1_lsp03_c44_paper_240614-024124.pt',\n",
       " '/home/ob/results/irl-torch/birl/06b_vw_lunar_lander_gamma0.95_beta3e+00_1t_split4_rep0_hl24_24_scale1_lsp03_c57_paper_240610-234637.pt',\n",
       " '/home/ob/results/irl-torch/birl/06b_vw_lunar_lander_gamma0.95_beta3e+00_1t_split2_rep0_hl24_24_scale1_lsp03_c45_paper_240610-234637.pt',\n",
       " '/home/ob/results/irl-torch/birl/06b_vw_lunar_lander_gamma0.95_beta3e+00_1t_split1_rep0_hl24_24_scale1_lsp03_c39_paper_240610-234637.pt',\n",
       " '/home/ob/results/irl-torch/birl/06b_vw_lunar_lander_gamma0.95_beta3e+00_1t_split0_rep0_hl24_24_scale1_lsp03_c30_paper_240610-234637.pt',\n",
       " '/home/ob/results/irl-torch/birl/06b_vw_lunar_lander_gamma0.95_beta3e+00_7t_split2_rep1_hl24_24_scale1_lsp03_c47_paper_240613-225942.pt',\n",
       " '/home/ob/results/irl-torch/birl/06b_vw_lunar_lander_gamma0.95_beta3e+00_1t_split2_rep0_hl24_24_scale1_lsp03_c42_paper_240610-234637.pt',\n",
       " '/home/ob/results/irl-torch/birl/06b_vw_lunar_lander_gamma0.95_beta3e+00_15t_split0_rep1_hl24_24_scale1_lsp03_c0_paper_240611-072723.pt',\n",
       " '/home/ob/results/irl-torch/birl/06b_vw_lunar_lander_gamma0.95_beta3e+00_15t_split2_rep0_hl24_24_scale1_lsp03_c0_paper_240612-064829.pt',\n",
       " '/home/ob/results/irl-torch/birl/06b_vw_lunar_lander_gamma0.95_beta3e+00_7t_split1_rep1_hl24_24_scale1_lsp03_c38_paper_240614-010737.pt',\n",
       " '/home/ob/results/irl-torch/birl/06b_vw_lunar_lander_gamma0.95_beta3e+00_10t_split4_rep0_hl24_24_scale1_lsp03_c0_paper_240616-062030.pt',\n",
       " '/home/ob/results/irl-torch/birl/06b_vw_lunar_lander_gamma0.95_beta3e+00_7t_split4_rep0_hl24_24_scale1_lsp03_c59_paper_240610-234637.pt',\n",
       " '/home/ob/results/irl-torch/birl/06b_vw_lunar_lander_gamma0.95_beta3e+00_3t_split4_rep1_hl24_24_scale1_lsp03_c55_paper_240613-113924.pt',\n",
       " '/home/ob/results/irl-torch/birl/06b_vw_lunar_lander_gamma0.95_beta3e+00_3t_split3_rep1_hl24_24_scale1_lsp03_c52_paper_240612-220608.pt',\n",
       " '/home/ob/results/irl-torch/birl/06b_vw_lunar_lander_gamma0.95_beta3e+00_3t_split2_rep1_hl24_24_scale1_lsp03_c43_paper_240612-155447.pt',\n",
       " '/home/ob/results/irl-torch/birl/06b_vw_lunar_lander_gamma0.95_beta3e+00_1t_split3_rep1_hl24_24_scale1_lsp03_c51_paper_240612-044433.pt']"
      ]
     },
     "execution_count": 21,
     "metadata": {},
     "output_type": "execute_result"
    }
   ],
   "execution_count": 21
  },
  {
   "metadata": {},
   "cell_type": "markdown",
   "source": "Evaluate random policy:",
   "id": "428730bd0e703eb3"
  },
  {
   "metadata": {
    "ExecuteTime": {
     "end_time": "2024-06-25T09:23:12.660633Z",
     "start_time": "2024-06-25T09:23:10.498647Z"
    }
   },
   "cell_type": "code",
   "source": [
    "random_policy_rewards = gym_test_random_policy(env_config.env_name)\n",
    "np.mean(random_policy_rewards)"
   ],
   "id": "750b3994fc85605d",
   "outputs": [
    {
     "name": "stderr",
     "output_type": "stream",
     "text": [
      "Testing: 100%|██████████| 1000/1000 [00:02<00:00, 481.25it/s]"
     ]
    },
    {
     "name": "stdout",
     "output_type": "stream",
     "text": [
      "Mean Reward: -179.53283332604877\n"
     ]
    },
    {
     "name": "stderr",
     "output_type": "stream",
     "text": [
      "\n"
     ]
    },
    {
     "data": {
      "text/plain": [
       "-179.53283332604857"
      ]
     },
     "execution_count": 24,
     "metadata": {},
     "output_type": "execute_result"
    },
    {
     "data": {
      "text/plain": [
       "<Figure size 640x480 with 1 Axes>"
      ],
      "image/png": "[encoded data removed]"
     },
     "metadata": {},
     "output_type": "display_data"
    }
   ],
   "execution_count": 24
  },
  {
   "metadata": {},
   "cell_type": "markdown",
   "source": "### Evaluate merged models",
   "id": "92085a2a2ab7e74b"
  },
  {
   "metadata": {
    "ExecuteTime": {
     "end_time": "2024-06-25T09:49:04.365865Z",
     "start_time": "2024-06-25T09:49:04.359668Z"
    }
   },
   "cell_type": "code",
   "source": [
    "# Separate files by number of trajectories and split\n",
    "result_files = defaultdict(lambda: defaultdict(list))\n",
    "\n",
    "for file_name in all_result_files:            \n",
    "    gamma, beta, n_trajectories, split, hl, scale, ls, series = re.search(r\"gamma([\\d\\.]+)_beta([\\de\\+]+)_(\\d+)t_split(\\d)_rep\\d_hl([\\d_]+)_scale(\\d)_ls(p\\d+)_c\\d+_([^_]+)\", file_name).groups()\n",
    "    result_files[int(n_trajectories)][int(split)].append(file_name)\n",
    "    \n",
    "result_files"
   ],
   "id": "6a6f508144b9a36c",
   "outputs": [
    {
     "data": {
      "text/plain": [
       "defaultdict(<function __main__.<lambda>()>,\n",
       "            {7: defaultdict(list,\n",
       "                         {4: ['/home/ob/results/irl-torch/birl/06b_vw_lunar_lander_gamma0.95_beta3e+00_7t_split4_rep0_hl24_24_scale1_lsp03_c56_paper_240610-234637.pt',\n",
       "                           '/home/ob/results/irl-torch/birl/06b_vw_lunar_lander_gamma0.95_beta3e+00_7t_split4_rep1_hl24_24_scale1_lsp03_c59_paper_240613-151428.pt',\n",
       "                           '/home/ob/results/irl-torch/birl/06b_vw_lunar_lander_gamma0.95_beta3e+00_7t_split4_rep1_hl24_24_scale1_lsp03_c56_paper_240613-120307.pt',\n",
       "                           '/home/ob/results/irl-torch/birl/06b_vw_lunar_lander_gamma0.95_beta3e+00_7t_split4_rep0_hl24_24_scale1_lsp03_c59_paper_240610-234637.pt'],\n",
       "                          0: ['/home/ob/results/irl-torch/birl/06b_vw_lunar_lander_gamma0.95_beta3e+00_7t_split0_rep0_hl24_24_scale1_lsp03_c32_paper_240610-234637.pt',\n",
       "                           '/home/ob/results/irl-torch/birl/06b_vw_lunar_lander_gamma0.95_beta3e+00_7t_split0_rep1_hl24_24_scale1_lsp03_c32_paper_240614-014403.pt',\n",
       "                           '/home/ob/results/irl-torch/birl/06b_vw_lunar_lander_gamma0.95_beta3e+00_7t_split0_rep0_hl24_24_scale1_lsp03_c35_paper_240610-234637.pt',\n",
       "                           '/home/ob/results/irl-torch/birl/06b_vw_lunar_lander_gamma0.95_beta3e+00_7t_split0_rep1_hl24_24_scale1_lsp03_c35_paper_240614-015130.pt'],\n",
       "                          3: ['/home/ob/results/irl-torch/birl/06b_vw_lunar_lander_gamma0.95_beta3e+00_7t_split3_rep0_hl24_24_scale1_lsp03_c50_paper_240610-234637.pt',\n",
       "                           '/home/ob/results/irl-torch/birl/06b_vw_lunar_lander_gamma0.95_beta3e+00_7t_split3_rep0_hl24_24_scale1_lsp03_c53_paper_240610-234637.pt',\n",
       "                           '/home/ob/results/irl-torch/birl/06b_vw_lunar_lander_gamma0.95_beta3e+00_7t_split3_rep1_hl24_24_scale1_lsp03_c53_paper_240613-190531.pt',\n",
       "                           '/home/ob/results/irl-torch/birl/06b_vw_lunar_lander_gamma0.95_beta3e+00_7t_split3_rep1_hl24_24_scale1_lsp03_c50_paper_240613-211610.pt'],\n",
       "                          2: ['/home/ob/results/irl-torch/birl/06b_vw_lunar_lander_gamma0.95_beta3e+00_7t_split2_rep0_hl24_24_scale1_lsp03_c47_paper_240610-234637.pt',\n",
       "                           '/home/ob/results/irl-torch/birl/06b_vw_lunar_lander_gamma0.95_beta3e+00_7t_split2_rep0_hl24_24_scale1_lsp03_c44_paper_240610-234637.pt',\n",
       "                           '/home/ob/results/irl-torch/birl/06b_vw_lunar_lander_gamma0.95_beta3e+00_7t_split2_rep1_hl24_24_scale1_lsp03_c44_paper_240614-024124.pt',\n",
       "                           '/home/ob/results/irl-torch/birl/06b_vw_lunar_lander_gamma0.95_beta3e+00_7t_split2_rep1_hl24_24_scale1_lsp03_c47_paper_240613-225942.pt'],\n",
       "                          1: ['/home/ob/results/irl-torch/birl/06b_vw_lunar_lander_gamma0.95_beta3e+00_7t_split1_rep0_hl24_24_scale1_lsp03_c38_paper_240610-234637.pt',\n",
       "                           '/home/ob/results/irl-torch/birl/06b_vw_lunar_lander_gamma0.95_beta3e+00_7t_split1_rep0_hl24_24_scale1_lsp03_c41_paper_240610-234637.pt',\n",
       "                           '/home/ob/results/irl-torch/birl/06b_vw_lunar_lander_gamma0.95_beta3e+00_7t_split1_rep1_hl24_24_scale1_lsp03_c41_paper_240614-020810.pt',\n",
       "                           '/home/ob/results/irl-torch/birl/06b_vw_lunar_lander_gamma0.95_beta3e+00_7t_split1_rep1_hl24_24_scale1_lsp03_c38_paper_240614-010737.pt']}),\n",
       "             15: defaultdict(list,\n",
       "                         {2: ['/home/ob/results/irl-torch/birl/06b_vw_lunar_lander_gamma0.95_beta3e+00_15t_split2_rep1_hl24_24_scale1_lsp03_c0_paper_240612-182817.pt',\n",
       "                           '/home/ob/results/irl-torch/birl/06b_vw_lunar_lander_gamma0.95_beta3e+00_15t_split2_rep0_hl24_24_scale1_lsp03_c0_paper_240612-064829.pt'],\n",
       "                          3: ['/home/ob/results/irl-torch/birl/06b_vw_lunar_lander_gamma0.95_beta3e+00_15t_split3_rep1_hl24_24_scale1_lsp03_c0_paper_240613-112853.pt',\n",
       "                           '/home/ob/results/irl-torch/birl/06b_vw_lunar_lander_gamma0.95_beta3e+00_15t_split3_rep0_hl24_24_scale1_lsp03_c0_paper_240613-034654.pt'],\n",
       "                          0: ['/home/ob/results/irl-torch/birl/06b_vw_lunar_lander_gamma0.95_beta3e+00_15t_split0_rep0_hl24_24_scale1_lsp03_c0_paper_240611-000241.pt',\n",
       "                           '/home/ob/results/irl-torch/birl/06b_vw_lunar_lander_gamma0.95_beta3e+00_15t_split0_rep1_hl24_24_scale1_lsp03_c0_paper_240611-072723.pt'],\n",
       "                          4: ['/home/ob/results/irl-torch/birl/06b_vw_lunar_lander_gamma0.95_beta3e+00_15t_split4_rep0_hl24_24_scale1_lsp03_c0_paper_240613-190106.pt',\n",
       "                           '/home/ob/results/irl-torch/birl/06b_vw_lunar_lander_gamma0.95_beta3e+00_15t_split4_rep1_hl24_24_scale1_lsp03_c0_paper_240614-020035.pt'],\n",
       "                          1: ['/home/ob/results/irl-torch/birl/06b_vw_lunar_lander_gamma0.95_beta3e+00_15t_split1_rep0_hl24_24_scale1_lsp03_c0_paper_240611-154435.pt',\n",
       "                           '/home/ob/results/irl-torch/birl/06b_vw_lunar_lander_gamma0.95_beta3e+00_15t_split1_rep1_hl24_24_scale1_lsp03_c0_paper_240611-230429.pt']}),\n",
       "             10: defaultdict(list,\n",
       "                         {3: ['/home/ob/results/irl-torch/birl/06b_vw_lunar_lander_gamma0.95_beta3e+00_10t_split3_rep0_hl24_24_scale1_lsp03_c0_paper_240614-021232.pt',\n",
       "                           '/home/ob/results/irl-torch/birl/06b_vw_lunar_lander_gamma0.95_beta3e+00_10t_split3_rep1_hl24_24_scale1_lsp03_c0_paper_240614-234655.pt'],\n",
       "                          0: ['/home/ob/results/irl-torch/birl/06b_vw_lunar_lander_gamma0.95_beta3e+00_10t_split0_rep0_hl24_24_scale1_lsp03_c0_paper_240614-093910.pt',\n",
       "                           '/home/ob/results/irl-torch/birl/06b_vw_lunar_lander_gamma0.95_beta3e+00_10t_split0_rep0_hl24_24_scale1_lsp03_c0_paper_240610-235716.pt',\n",
       "                           '/home/ob/results/irl-torch/birl/06b_vw_lunar_lander_gamma0.95_beta3e+00_10t_split0_rep1_hl24_24_scale1_lsp03_c0_paper_240611-081325.pt'],\n",
       "                          2: ['/home/ob/results/irl-torch/birl/06b_vw_lunar_lander_gamma0.95_beta3e+00_10t_split2_rep1_hl24_24_scale1_lsp03_c0_paper_240613-083128.pt',\n",
       "                           '/home/ob/results/irl-torch/birl/06b_vw_lunar_lander_gamma0.95_beta3e+00_10t_split2_rep0_hl24_24_scale1_lsp03_c0_paper_240612-141302.pt'],\n",
       "                          1: ['/home/ob/results/irl-torch/birl/06b_vw_lunar_lander_gamma0.95_beta3e+00_10t_split1_rep0_hl24_24_scale1_lsp03_c0_paper_240611-150536.pt',\n",
       "                           '/home/ob/results/irl-torch/birl/06b_vw_lunar_lander_gamma0.95_beta3e+00_10t_split1_rep1_hl24_24_scale1_lsp03_c0_paper_240612-025208.pt'],\n",
       "                          4: ['/home/ob/results/irl-torch/birl/06b_vw_lunar_lander_gamma0.95_beta3e+00_10t_split4_rep0_hl24_24_scale1_lsp03_c0_paper_240616-062030.pt']}),\n",
       "             1: defaultdict(list,\n",
       "                         {3: ['/home/ob/results/irl-torch/birl/06b_vw_lunar_lander_gamma0.95_beta3e+00_1t_split3_rep0_hl24_24_scale1_lsp03_c48_paper_240610-234637.pt',\n",
       "                           '/home/ob/results/irl-torch/birl/06b_vw_lunar_lander_gamma0.95_beta3e+00_1t_split3_rep0_hl24_24_scale1_lsp03_c51_paper_240610-234637.pt',\n",
       "                           '/home/ob/results/irl-torch/birl/06b_vw_lunar_lander_gamma0.95_beta3e+00_1t_split3_rep1_hl24_24_scale1_lsp03_c48_paper_240612-045221.pt',\n",
       "                           '/home/ob/results/irl-torch/birl/06b_vw_lunar_lander_gamma0.95_beta3e+00_1t_split3_rep1_hl24_24_scale1_lsp03_c51_paper_240612-044433.pt'],\n",
       "                          4: ['/home/ob/results/irl-torch/birl/06b_vw_lunar_lander_gamma0.95_beta3e+00_1t_split4_rep0_hl24_24_scale1_lsp03_c54_paper_240610-234637.pt',\n",
       "                           '/home/ob/results/irl-torch/birl/06b_vw_lunar_lander_gamma0.95_beta3e+00_1t_split4_rep1_hl24_24_scale1_lsp03_c54_paper_240612-103912.pt',\n",
       "                           '/home/ob/results/irl-torch/birl/06b_vw_lunar_lander_gamma0.95_beta3e+00_1t_split4_rep1_hl24_24_scale1_lsp03_c57_paper_240612-015748.pt',\n",
       "                           '/home/ob/results/irl-torch/birl/06b_vw_lunar_lander_gamma0.95_beta3e+00_1t_split4_rep0_hl24_24_scale1_lsp03_c57_paper_240610-234637.pt'],\n",
       "                          0: ['/home/ob/results/irl-torch/birl/06b_vw_lunar_lander_gamma0.95_beta3e+00_1t_split0_rep0_hl24_24_scale1_lsp03_c33_paper_240610-234637.pt',\n",
       "                           '/home/ob/results/irl-torch/birl/06b_vw_lunar_lander_gamma0.95_beta3e+00_1t_split0_rep1_hl24_24_scale1_lsp03_c33_paper_240612-070127.pt',\n",
       "                           '/home/ob/results/irl-torch/birl/06b_vw_lunar_lander_gamma0.95_beta3e+00_1t_split0_rep1_hl24_24_scale1_lsp03_c30_paper_240611-134654.pt',\n",
       "                           '/home/ob/results/irl-torch/birl/06b_vw_lunar_lander_gamma0.95_beta3e+00_1t_split0_rep0_hl24_24_scale1_lsp03_c30_paper_240610-234637.pt'],\n",
       "                          2: ['/home/ob/results/irl-torch/birl/06b_vw_lunar_lander_gamma0.95_beta3e+00_1t_split2_rep1_hl24_24_scale1_lsp03_c45_paper_240612-022933.pt',\n",
       "                           '/home/ob/results/irl-torch/birl/06b_vw_lunar_lander_gamma0.95_beta3e+00_1t_split2_rep1_hl24_24_scale1_lsp03_c42_paper_240612-043335.pt',\n",
       "                           '/home/ob/results/irl-torch/birl/06b_vw_lunar_lander_gamma0.95_beta3e+00_1t_split2_rep0_hl24_24_scale1_lsp03_c45_paper_240610-234637.pt',\n",
       "                           '/home/ob/results/irl-torch/birl/06b_vw_lunar_lander_gamma0.95_beta3e+00_1t_split2_rep0_hl24_24_scale1_lsp03_c42_paper_240610-234637.pt'],\n",
       "                          1: ['/home/ob/results/irl-torch/birl/06b_vw_lunar_lander_gamma0.95_beta3e+00_1t_split1_rep1_hl24_24_scale1_lsp03_c36_paper_240612-082320.pt',\n",
       "                           '/home/ob/results/irl-torch/birl/06b_vw_lunar_lander_gamma0.95_beta3e+00_1t_split1_rep0_hl24_24_scale1_lsp03_c36_paper_240610-234637.pt',\n",
       "                           '/home/ob/results/irl-torch/birl/06b_vw_lunar_lander_gamma0.95_beta3e+00_1t_split1_rep1_hl24_24_scale1_lsp03_c39_paper_240612-074608.pt',\n",
       "                           '/home/ob/results/irl-torch/birl/06b_vw_lunar_lander_gamma0.95_beta3e+00_1t_split1_rep0_hl24_24_scale1_lsp03_c39_paper_240610-234637.pt']}),\n",
       "             3: defaultdict(list,\n",
       "                         {2: ['/home/ob/results/irl-torch/birl/06b_vw_lunar_lander_gamma0.95_beta3e+00_3t_split2_rep0_hl24_24_scale1_lsp03_c46_paper_240610-234637.pt',\n",
       "                           '/home/ob/results/irl-torch/birl/06b_vw_lunar_lander_gamma0.95_beta3e+00_3t_split2_rep0_hl24_24_scale1_lsp03_c43_paper_240610-234637.pt',\n",
       "                           '/home/ob/results/irl-torch/birl/06b_vw_lunar_lander_gamma0.95_beta3e+00_3t_split2_rep1_hl24_24_scale1_lsp03_c46_paper_240612-131831.pt',\n",
       "                           '/home/ob/results/irl-torch/birl/06b_vw_lunar_lander_gamma0.95_beta3e+00_3t_split2_rep1_hl24_24_scale1_lsp03_c43_paper_240612-155447.pt'],\n",
       "                          1: ['/home/ob/results/irl-torch/birl/06b_vw_lunar_lander_gamma0.95_beta3e+00_3t_split1_rep0_hl24_24_scale1_lsp03_c37_paper_240610-234637.pt',\n",
       "                           '/home/ob/results/irl-torch/birl/06b_vw_lunar_lander_gamma0.95_beta3e+00_3t_split1_rep0_hl24_24_scale1_lsp03_c40_paper_240610-234637.pt',\n",
       "                           '/home/ob/results/irl-torch/birl/06b_vw_lunar_lander_gamma0.95_beta3e+00_3t_split1_rep1_hl24_24_scale1_lsp03_c40_paper_240612-171341.pt',\n",
       "                           '/home/ob/results/irl-torch/birl/06b_vw_lunar_lander_gamma0.95_beta3e+00_3t_split1_rep1_hl24_24_scale1_lsp03_c37_paper_240612-163115.pt'],\n",
       "                          4: ['/home/ob/results/irl-torch/birl/06b_vw_lunar_lander_gamma0.95_beta3e+00_3t_split4_rep1_hl24_24_scale1_lsp03_c58_paper_240612-184926.pt',\n",
       "                           '/home/ob/results/irl-torch/birl/06b_vw_lunar_lander_gamma0.95_beta3e+00_3t_split4_rep0_hl24_24_scale1_lsp03_c58_paper_240610-234637.pt',\n",
       "                           '/home/ob/results/irl-torch/birl/06b_vw_lunar_lander_gamma0.95_beta3e+00_3t_split4_rep0_hl24_24_scale1_lsp03_c55_paper_240610-234637.pt',\n",
       "                           '/home/ob/results/irl-torch/birl/06b_vw_lunar_lander_gamma0.95_beta3e+00_3t_split4_rep1_hl24_24_scale1_lsp03_c55_paper_240613-113924.pt'],\n",
       "                          0: ['/home/ob/results/irl-torch/birl/06b_vw_lunar_lander_gamma0.95_beta3e+00_3t_split0_rep1_hl24_24_scale1_lsp03_c31_paper_240611-161750.pt',\n",
       "                           '/home/ob/results/irl-torch/birl/06b_vw_lunar_lander_gamma0.95_beta3e+00_3t_split0_rep0_hl24_24_scale1_lsp03_c31_paper_240610-234637.pt',\n",
       "                           '/home/ob/results/irl-torch/birl/06b_vw_lunar_lander_gamma0.95_beta3e+00_3t_split0_rep0_hl24_24_scale1_lsp03_c34_paper_240610-234637.pt',\n",
       "                           '/home/ob/results/irl-torch/birl/06b_vw_lunar_lander_gamma0.95_beta3e+00_3t_split0_rep1_hl24_24_scale1_lsp03_c34_paper_240612-191424.pt'],\n",
       "                          3: ['/home/ob/results/irl-torch/birl/06b_vw_lunar_lander_gamma0.95_beta3e+00_3t_split3_rep1_hl24_24_scale1_lsp03_c49_paper_240612-222813.pt',\n",
       "                           '/home/ob/results/irl-torch/birl/06b_vw_lunar_lander_gamma0.95_beta3e+00_3t_split3_rep0_hl24_24_scale1_lsp03_c52_paper_240610-234637.pt',\n",
       "                           '/home/ob/results/irl-torch/birl/06b_vw_lunar_lander_gamma0.95_beta3e+00_3t_split3_rep0_hl24_24_scale1_lsp03_c49_paper_240610-234637.pt',\n",
       "                           '/home/ob/results/irl-torch/birl/06b_vw_lunar_lander_gamma0.95_beta3e+00_3t_split3_rep1_hl24_24_scale1_lsp03_c52_paper_240612-220608.pt']})})"
      ]
     },
     "execution_count": 36,
     "metadata": {},
     "output_type": "execute_result"
    }
   ],
   "execution_count": 36
  },
  {
   "metadata": {
    "ExecuteTime": {
     "end_time": "2024-06-25T09:44:47.460751Z",
     "start_time": "2024-06-25T09:24:25.142367Z"
    }
   },
   "cell_type": "code",
   "source": [
    "test_rewards = defaultdict(lambda: dict())\n",
    "\n",
    "for n_trajectories, split_files in result_files.items():\n",
    "    for split, files in split_files.items():\n",
    "            reward_model = load_and_combine_vw_models(files)\n",
    "            print(f\"{n_trajectories} trajectories, split {split}: Loaded a model with params of shape {reward_model.q_param_samples['theta_q'].shape} from {len(files)} files.\")\n",
    "            test_results = gym_test(reward_model, aggregation_fn=lambda x: torch.median(x, dim=-1)[0])\n",
    "            test_rewards[n_trajectories][split] = test_results"
   ],
   "id": "e5e1f09cba3512eb",
   "outputs": [
    {
     "name": "stdout",
     "output_type": "stream",
     "text": [
      "7 trajectories, split 4: Loaded a model with params of shape torch.Size([2000, 937]) from 4 files.\n"
     ]
    },
    {
     "name": "stderr",
     "output_type": "stream",
     "text": [
      "Testing: 100%|██████████| 300/300 [00:53<00:00,  5.58it/s]\n"
     ]
    },
    {
     "name": "stdout",
     "output_type": "stream",
     "text": [
      "Mean Reward: 266.85979504388274\n",
      "7 trajectories, split 0: Loaded a model with params of shape torch.Size([2000, 937]) from 4 files.\n"
     ]
    },
    {
     "name": "stderr",
     "output_type": "stream",
     "text": [
      "Testing: 100%|██████████| 300/300 [00:59<00:00,  5.08it/s]\n"
     ]
    },
    {
     "name": "stdout",
     "output_type": "stream",
     "text": [
      "Mean Reward: 263.91399893824683\n",
      "7 trajectories, split 3: Loaded a model with params of shape torch.Size([2000, 937]) from 4 files.\n"
     ]
    },
    {
     "name": "stderr",
     "output_type": "stream",
     "text": [
      "Testing: 100%|██████████| 300/300 [00:50<00:00,  5.94it/s]\n"
     ]
    },
    {
     "name": "stdout",
     "output_type": "stream",
     "text": [
      "Mean Reward: 221.10647593353477\n",
      "7 trajectories, split 2: Loaded a model with params of shape torch.Size([2000, 937]) from 4 files.\n"
     ]
    },
    {
     "name": "stderr",
     "output_type": "stream",
     "text": [
      "Testing: 100%|██████████| 300/300 [00:48<00:00,  6.18it/s]\n"
     ]
    },
    {
     "name": "stdout",
     "output_type": "stream",
     "text": [
      "Mean Reward: 253.69048679208217\n",
      "7 trajectories, split 1: Loaded a model with params of shape torch.Size([2000, 937]) from 4 files.\n"
     ]
    },
    {
     "name": "stderr",
     "output_type": "stream",
     "text": [
      "Testing: 100%|██████████| 300/300 [00:50<00:00,  5.97it/s]\n"
     ]
    },
    {
     "name": "stdout",
     "output_type": "stream",
     "text": [
      "Mean Reward: 267.423023445802\n",
      "15 trajectories, split 2: Loaded a model with params of shape torch.Size([2000, 937]) from 2 files.\n"
     ]
    },
    {
     "name": "stderr",
     "output_type": "stream",
     "text": [
      "Testing: 100%|██████████| 300/300 [00:54<00:00,  5.46it/s]\n"
     ]
    },
    {
     "name": "stdout",
     "output_type": "stream",
     "text": [
      "Mean Reward: 260.63746489147235\n",
      "15 trajectories, split 3: Loaded a model with params of shape torch.Size([2000, 937]) from 2 files.\n"
     ]
    },
    {
     "name": "stderr",
     "output_type": "stream",
     "text": [
      "Testing: 100%|██████████| 300/300 [00:59<00:00,  5.03it/s]\n"
     ]
    },
    {
     "name": "stdout",
     "output_type": "stream",
     "text": [
      "Mean Reward: 266.16912618457724\n",
      "15 trajectories, split 0: Loaded a model with params of shape torch.Size([2000, 937]) from 2 files.\n"
     ]
    },
    {
     "name": "stderr",
     "output_type": "stream",
     "text": [
      "Testing: 100%|██████████| 300/300 [00:46<00:00,  6.43it/s]\n"
     ]
    },
    {
     "name": "stdout",
     "output_type": "stream",
     "text": [
      "Mean Reward: 271.12741187092877\n",
      "15 trajectories, split 4: Loaded a model with params of shape torch.Size([2000, 937]) from 2 files.\n"
     ]
    },
    {
     "name": "stderr",
     "output_type": "stream",
     "text": [
      "Testing: 100%|██████████| 300/300 [00:47<00:00,  6.28it/s]\n"
     ]
    },
    {
     "name": "stdout",
     "output_type": "stream",
     "text": [
      "Mean Reward: 249.83943198187097\n",
      "15 trajectories, split 1: Loaded a model with params of shape torch.Size([2000, 937]) from 2 files.\n"
     ]
    },
    {
     "name": "stderr",
     "output_type": "stream",
     "text": [
      "Testing: 100%|██████████| 300/300 [00:53<00:00,  5.60it/s]\n"
     ]
    },
    {
     "name": "stdout",
     "output_type": "stream",
     "text": [
      "Mean Reward: 267.56971811912433\n",
      "10 trajectories, split 3: Loaded a model with params of shape torch.Size([2000, 937]) from 2 files.\n"
     ]
    },
    {
     "name": "stderr",
     "output_type": "stream",
     "text": [
      "Testing: 100%|██████████| 300/300 [00:50<00:00,  5.94it/s]\n"
     ]
    },
    {
     "name": "stdout",
     "output_type": "stream",
     "text": [
      "Mean Reward: 233.90630177632542\n",
      "10 trajectories, split 0: Loaded a model with params of shape torch.Size([2000, 937]) from 3 files.\n"
     ]
    },
    {
     "name": "stderr",
     "output_type": "stream",
     "text": [
      "Testing: 100%|██████████| 300/300 [00:43<00:00,  6.90it/s]\n"
     ]
    },
    {
     "name": "stdout",
     "output_type": "stream",
     "text": [
      "Mean Reward: 271.0436635447382\n",
      "10 trajectories, split 2: Loaded a model with params of shape torch.Size([2000, 937]) from 2 files.\n"
     ]
    },
    {
     "name": "stderr",
     "output_type": "stream",
     "text": [
      "Testing: 100%|██████████| 300/300 [00:42<00:00,  7.08it/s]\n"
     ]
    },
    {
     "name": "stdout",
     "output_type": "stream",
     "text": [
      "Mean Reward: 275.15875669871485\n",
      "10 trajectories, split 1: Loaded a model with params of shape torch.Size([2000, 937]) from 2 files.\n"
     ]
    },
    {
     "name": "stderr",
     "output_type": "stream",
     "text": [
      "Testing: 100%|██████████| 300/300 [00:46<00:00,  6.43it/s]\n"
     ]
    },
    {
     "name": "stdout",
     "output_type": "stream",
     "text": [
      "Mean Reward: 267.31685153363753\n",
      "1 trajectories, split 3: Loaded a model with params of shape torch.Size([2000, 937]) from 4 files.\n"
     ]
    },
    {
     "name": "stderr",
     "output_type": "stream",
     "text": [
      "Testing: 100%|██████████| 300/300 [00:54<00:00,  5.46it/s]\n"
     ]
    },
    {
     "name": "stdout",
     "output_type": "stream",
     "text": [
      "Mean Reward: -362.8694760282321\n",
      "1 trajectories, split 4: Loaded a model with params of shape torch.Size([2000, 937]) from 4 files.\n"
     ]
    },
    {
     "name": "stderr",
     "output_type": "stream",
     "text": [
      "Testing: 100%|██████████| 300/300 [00:35<00:00,  8.49it/s]\n"
     ]
    },
    {
     "name": "stdout",
     "output_type": "stream",
     "text": [
      "Mean Reward: -163.1173516951143\n",
      "1 trajectories, split 0: Loaded a model with params of shape torch.Size([2000, 937]) from 4 files.\n"
     ]
    },
    {
     "name": "stderr",
     "output_type": "stream",
     "text": [
      "Testing: 100%|██████████| 300/300 [01:16<00:00,  3.94it/s]\n"
     ]
    },
    {
     "name": "stdout",
     "output_type": "stream",
     "text": [
      "Mean Reward: -1.533592705111564\n",
      "1 trajectories, split 2: Loaded a model with params of shape torch.Size([2000, 937]) from 4 files.\n"
     ]
    },
    {
     "name": "stderr",
     "output_type": "stream",
     "text": [
      "Testing: 100%|██████████| 300/300 [00:36<00:00,  8.28it/s]\n"
     ]
    },
    {
     "name": "stdout",
     "output_type": "stream",
     "text": [
      "Mean Reward: -14.432406883660217\n",
      "1 trajectories, split 1: Loaded a model with params of shape torch.Size([2000, 937]) from 4 files.\n"
     ]
    },
    {
     "name": "stderr",
     "output_type": "stream",
     "text": [
      "Testing: 100%|██████████| 300/300 [00:51<00:00,  5.87it/s]\n"
     ]
    },
    {
     "name": "stdout",
     "output_type": "stream",
     "text": [
      "Mean Reward: -314.244601141074\n",
      "3 trajectories, split 2: Loaded a model with params of shape torch.Size([2000, 937]) from 4 files.\n"
     ]
    },
    {
     "name": "stderr",
     "output_type": "stream",
     "text": [
      "Testing: 100%|██████████| 300/300 [00:37<00:00,  7.95it/s]\n"
     ]
    },
    {
     "name": "stdout",
     "output_type": "stream",
     "text": [
      "Mean Reward: 102.28754901491406\n",
      "3 trajectories, split 1: Loaded a model with params of shape torch.Size([2000, 937]) from 4 files.\n"
     ]
    },
    {
     "name": "stderr",
     "output_type": "stream",
     "text": [
      "Testing: 100%|██████████| 300/300 [00:47<00:00,  6.35it/s]\n"
     ]
    },
    {
     "name": "stdout",
     "output_type": "stream",
     "text": [
      "Mean Reward: 207.16464184099533\n",
      "3 trajectories, split 4: Loaded a model with params of shape torch.Size([2000, 937]) from 4 files.\n"
     ]
    },
    {
     "name": "stderr",
     "output_type": "stream",
     "text": [
      "Testing: 100%|██████████| 300/300 [01:13<00:00,  4.09it/s]\n"
     ]
    },
    {
     "name": "stdout",
     "output_type": "stream",
     "text": [
      "Mean Reward: 207.26318547102298\n",
      "3 trajectories, split 0: Loaded a model with params of shape torch.Size([2000, 937]) from 4 files.\n"
     ]
    },
    {
     "name": "stderr",
     "output_type": "stream",
     "text": [
      "Testing: 100%|██████████| 300/300 [00:57<00:00,  5.23it/s]\n"
     ]
    },
    {
     "name": "stdout",
     "output_type": "stream",
     "text": [
      "Mean Reward: 206.82878451765373\n",
      "3 trajectories, split 3: Loaded a model with params of shape torch.Size([2000, 937]) from 4 files.\n"
     ]
    },
    {
     "name": "stderr",
     "output_type": "stream",
     "text": [
      "Testing: 100%|██████████| 300/300 [00:39<00:00,  7.52it/s]"
     ]
    },
    {
     "name": "stdout",
     "output_type": "stream",
     "text": [
      "Mean Reward: -45.4386729722265\n"
     ]
    },
    {
     "name": "stderr",
     "output_type": "stream",
     "text": [
      "\n"
     ]
    },
    {
     "data": {
      "text/plain": [
       "<Figure size 640x480 with 1 Axes>"
      ],
      "image/png": "[encoded data removed]"
     },
     "metadata": {},
     "output_type": "display_data"
    }
   ],
   "execution_count": 27
  },
  {
   "metadata": {
    "ExecuteTime": {
     "end_time": "2024-06-25T09:56:00.422206Z",
     "start_time": "2024-06-25T09:56:00.417399Z"
    }
   },
   "cell_type": "code",
   "source": [
    "split_mean_rewards = {n_trajs: {split: np.mean(rewards) for split, rewards in split_dict.items()} for n_trajs, split_dict in test_rewards.items()}\n",
    "split_mean_rewards"
   ],
   "id": "ad4143869e42849b",
   "outputs": [
    {
     "data": {
      "text/plain": [
       "{7: {4: 266.85979504388274,\n",
       "  0: 263.91399893824683,\n",
       "  3: 221.10647593353463,\n",
       "  2: 253.69048679208228,\n",
       "  1: 267.423023445802},\n",
       " 15: {2: 260.6374648914722,\n",
       "  3: 266.1691261845772,\n",
       "  0: 271.1274118709286,\n",
       "  4: 249.83943198187083,\n",
       "  1: 267.5697181191243},\n",
       " 10: {3: 233.90630177632542,\n",
       "  0: 271.0436635447381,\n",
       "  2: 275.1587566987144,\n",
       "  1: 267.3168515336375},\n",
       " 1: {3: -362.8694760282324,\n",
       "  4: -163.1173516951144,\n",
       "  0: -1.5335927051115634,\n",
       "  2: -14.432406883660217,\n",
       "  1: -314.244601141074},\n",
       " 3: {2: 102.2875490149141,\n",
       "  1: 207.16464184099533,\n",
       "  4: 207.26318547102306,\n",
       "  0: 206.8287845176537,\n",
       "  3: -45.4386729722265}}"
      ]
     },
     "execution_count": 37,
     "metadata": {},
     "output_type": "execute_result"
    }
   ],
   "execution_count": 37
  },
  {
   "metadata": {
    "ExecuteTime": {
     "end_time": "2024-06-25T09:56:02.803521Z",
     "start_time": "2024-06-25T09:56:02.799178Z"
    }
   },
   "cell_type": "code",
   "source": "{n_trajs: np.mean(list(split_files.values())) for n_trajs, split_files in split_mean_rewards.items()}",
   "id": "5f3ec5fd72db56e1",
   "outputs": [
    {
     "data": {
      "text/plain": [
       "{7: 254.5987560307097,\n",
       " 15: 263.0686306095946,\n",
       " 10: 261.8563933883538,\n",
       " 1: -171.2394856906385,\n",
       " 3: 135.62109757447195}"
      ]
     },
     "execution_count": 38,
     "metadata": {},
     "output_type": "execute_result"
    }
   ],
   "execution_count": 38
  },
  {
   "metadata": {},
   "cell_type": "markdown",
   "source": "### Plotting",
   "id": "56c66daee115140f"
  },
  {
   "metadata": {
    "ExecuteTime": {
     "end_time": "2024-06-25T09:45:07.201745Z",
     "start_time": "2024-06-25T09:45:07.197736Z"
    }
   },
   "cell_type": "code",
   "source": [
    "vw_means = np.array([np.mean(list(split_mean_rewards[t].values())) for t in traj_nums])\n",
    "vw_means"
   ],
   "id": "107cf7a9f23c58b1",
   "outputs": [
    {
     "data": {
      "text/plain": [
       "array([-171.23948569,  135.62109757,  254.59875603,  261.85639339,\n",
       "        263.06863061])"
      ]
     },
     "execution_count": 31,
     "metadata": {},
     "output_type": "execute_result"
    }
   ],
   "execution_count": 31
  },
  {
   "metadata": {
    "ExecuteTime": {
     "end_time": "2024-06-25T09:45:08.161385Z",
     "start_time": "2024-06-25T09:45:08.156458Z"
    }
   },
   "cell_type": "code",
   "source": [
    "vw_stds = np.array([np.std(np.concatenate(list(test_rewards[t].values()))) for t in traj_nums])\n",
    "vw_stds"
   ],
   "id": "2df120174baba04d",
   "outputs": [
    {
     "data": {
      "text/plain": [
       "array([265.3906206 , 198.63128919,  82.58343109,  63.38540973,\n",
       "        66.61282606])"
      ]
     },
     "execution_count": 32,
     "metadata": {},
     "output_type": "execute_result"
    }
   ],
   "execution_count": 32
  },
  {
   "metadata": {
    "ExecuteTime": {
     "end_time": "2024-06-25T09:45:11.621423Z",
     "start_time": "2024-06-25T09:45:11.617967Z"
    }
   },
   "cell_type": "code",
   "source": [
    "vw_lb = vw_means - vw_stds\n",
    "vw_ub = vw_means + vw_stds"
   ],
   "id": "33064581ef578f52",
   "outputs": [],
   "execution_count": 33
  },
  {
   "metadata": {
    "ExecuteTime": {
     "end_time": "2024-06-25T09:45:18.037803Z",
     "start_time": "2024-06-25T09:45:18.033453Z"
    }
   },
   "cell_type": "code",
   "source": [
    "# Results of previous methods from the AVRIL paper:\n",
    "def conv(val: float):\n",
    "    return 300. - val\n",
    "\n",
    "avril_reported_means = [conv(val) for val in [421., 191., 99., 74., 61.]]\n",
    "avril_reported_ubs = [conv(val) for val in [284., 55., 7., 3., 0.]]\n",
    "avril_reported_lbs = [mean-(ub-mean) for mean, ub in zip(avril_reported_means, avril_reported_ubs)]\n",
    "\n",
    "bc_means = [conv(val) for val in [335., 126., 73., 58., 59.]]\n",
    "bc_ubs = [conv(val) for val in [272., 87.5, 46., 39., 39.]]\n",
    "bc_lbs = [mean-(ub-mean) for mean, ub in zip(bc_means, bc_ubs)]\n",
    "\n",
    "edm_means = [6., 190., 240., 255., 248.]\n",
    "edm_ubs = [63., 213., 253., 262., 261.]\n",
    "edm_lbs = [-48., 167., 227., 239., 241.]\n",
    "\n",
    "expert_performance = 269. "
   ],
   "id": "57fd68e08099b60c",
   "outputs": [],
   "execution_count": 34
  },
  {
   "metadata": {
    "ExecuteTime": {
     "end_time": "2024-06-25T09:45:20.138581Z",
     "start_time": "2024-06-25T09:45:19.854631Z"
    }
   },
   "cell_type": "code",
   "source": [
    "plt.figure(figsize=(3.5, 4))\n",
    "\n",
    "plt.plot(traj_nums, vw_means, label=\"ValueWalk\", marker=\"o\")\n",
    "\n",
    "plt.plot(traj_nums, avril_reported_means, label=\"AVRIL\", marker=\"o\")\n",
    "\n",
    "plt.plot(traj_nums, edm_means, label=\"EDM\", marker=\"o\")\n",
    "plt.plot(traj_nums, bc_means, label=\"BC\", marker=\"o\")\n",
    "\n",
    "plt.plot(traj_nums, [np.mean(random_policy_rewards)]*len(traj_nums), label=\"Random policy\", linestyle=\"--\")\n",
    "plt.plot(traj_nums, [expert_performance]*len(traj_nums), label=\"Expert\", linestyle=\"--\")\n",
    "\n",
    "plt.fill_between(traj_nums, vw_lb, vw_ub, alpha=0.3)\n",
    "plt.fill_between(traj_nums, avril_reported_lbs, avril_reported_ubs, alpha=0.3)\n",
    "plt.fill_between(traj_nums, edm_lbs, edm_ubs, alpha=0.3)\n",
    "plt.fill_between(traj_nums, bc_lbs, bc_ubs, alpha=0.3)\n",
    "\n",
    "# Set x ticks to be the number of demonstration trajectories\n",
    "plt.xticks(traj_nums)\n",
    "\n",
    "# plt.xlim(0,15.5)\n",
    "plt.ylim(-200, 300)\n",
    "\n",
    "plt.xlabel(\"Number of demonstration trajectories\")\n",
    "plt.ylabel(\"Mean reward\")\n",
    "plt.title(env_config.env_name)\n",
    "plt.legend(loc=\"lower right\")\n",
    "\n",
    "plt.savefig(\"/home/ob/results/irl-torch/birl/lander_num_trajs_new.pdf\")"
   ],
   "id": "21ae202ceb8cf865",
   "outputs": [
    {
     "data": {
      "text/plain": [
       "<Figure size 350x400 with 1 Axes>"
      ],
      "image/png": "[encoded data removed]"
     },
     "metadata": {},
     "output_type": "display_data"
    }
   ],
   "execution_count": 35
  },
  {
   "metadata": {},
   "cell_type": "markdown",
   "source": "### Posterior predictive",
   "id": "ec997fce756bb37b"
  },
  {
   "metadata": {
    "ExecuteTime": {
     "end_time": "2024-06-25T10:31:22.029148Z",
     "start_time": "2024-06-25T10:31:22.026160Z"
    }
   },
   "cell_type": "code",
   "source": "env_config.env_name",
   "id": "75b6dc5fa0a53ca3",
   "outputs": [
    {
     "data": {
      "text/plain": [
       "'LunarLander-v2'"
      ]
     },
     "execution_count": 58,
     "metadata": {},
     "output_type": "execute_result"
    }
   ],
   "execution_count": 58
  },
  {
   "metadata": {
    "ExecuteTime": {
     "end_time": "2024-06-25T10:31:28.330794Z",
     "start_time": "2024-06-25T10:31:27.553008Z"
    }
   },
   "cell_type": "code",
   "source": [
    "D_test = load_avril_demonstrations(env_config.env_name, split=\"test\", to_onehot=True)\n",
    "\n",
    "plot_actions = torch.eye(4, dtype=torch.float)\n",
    "plot_states = D_test.states_tensor"
   ],
   "id": "8086bcfcdd1cf12d",
   "outputs": [
    {
     "name": "stdout",
     "output_type": "stream",
     "text": [
      "Loaded 100 demonstrations\n"
     ]
    }
   ],
   "execution_count": 59
  },
  {
   "metadata": {
    "ExecuteTime": {
     "end_time": "2024-06-25T13:50:49.315325Z",
     "start_time": "2024-06-25T13:50:48.408008Z"
    }
   },
   "cell_type": "code",
   "source": [
    "model_name = \"avril\"\n",
    "\n",
    "avril_logprobs = {}\n",
    "avril_entropy = {}\n",
    "avril_top_action_logprobs = {}\n",
    "\n",
    "for num_trajs in [1, 3, 7, 10, 15]:\n",
    "    avril_model_files = glob.glob(str(RESULTS_DIR / f\"birl/06a3_avril_lunar_lander_loop_{num_trajs}t_split*\"))\n",
    "    avril_model_files = [f for f in avril_model_files if \"info\" not in f]\n",
    "\n",
    "    logprobs = []\n",
    "    entropies = []\n",
    "    top_action_logprobs = []\n",
    "\n",
    "    for f in avril_model_files:\n",
    "        model = torch.load(f)\n",
    "        avril_action_logprobs = model.boltzmann_action_probs(D_test.states_tensor.float(), plot_actions, beta,\n",
    "                                                             discrete_actions=True, return_logprobs=True).detach()\n",
    "        entropy = -torch.sum(avril_action_logprobs * torch.exp(avril_action_logprobs), dim=-1)\n",
    "        top_action_logprobs.append(float(torch.max(avril_action_logprobs, dim=-1)[0].mean().item()))\n",
    "\n",
    "        avril_action_logprobs = avril_action_logprobs.gather(1, torch.argmax(D_test.actions_tensor, dim=-1).unsqueeze(\n",
    "            -1)).squeeze(-1)\n",
    "\n",
    "        print(f\"{num_trajs}t mean logprob : {avril_action_logprobs.mean()}, entropy: {entropy.mean()}\")\n",
    "        entropies.append(float(entropy.mean().item()))\n",
    "\n",
    "        logprobs.append(float(avril_action_logprobs.mean().item()))\n",
    "        # print(f\"{model_name} mean log action density: {torch.log(avril_action_logprobs).mean()}\")\n",
    "    avril_logprobs[num_trajs] = logprobs\n",
    "    avril_entropy[num_trajs] = entropies\n",
    "    avril_top_action_logprobs[num_trajs] = top_action_logprobs"
   ],
   "id": "38eef88b1fb731c0",
   "outputs": [
    {
     "name": "stdout",
     "output_type": "stream",
     "text": [
      "1t mean logprob : -7.103645324707031, entropy: 0.14732179045677185\n",
      "1t mean logprob : -10.68213939666748, entropy: 0.16529326140880585\n",
      "1t mean logprob : -5.348207950592041, entropy: 0.2718144655227661\n",
      "1t mean logprob : -9.45484733581543, entropy: 0.18542899191379547\n",
      "1t mean logprob : -8.051855087280273, entropy: 0.20823681354522705\n",
      "1t mean logprob : -17.60118293762207, entropy: 0.07710173726081848\n",
      "1t mean logprob : -14.567254066467285, entropy: 0.16955755650997162\n",
      "1t mean logprob : -2.3036978244781494, entropy: 0.6244148015975952\n",
      "1t mean logprob : -5.893759727478027, entropy: 0.23920628428459167\n",
      "1t mean logprob : -5.843641757965088, entropy: 0.32360655069351196\n",
      "1t mean logprob : -21.37376594543457, entropy: 0.06422871351242065\n",
      "3t mean logprob : -1.3490104675292969, entropy: 0.4994262158870697\n",
      "3t mean logprob : -1.7115298509597778, entropy: 0.5032340884208679\n",
      "3t mean logprob : -2.210205316543579, entropy: 0.4030427038669586\n",
      "3t mean logprob : -4.082785129547119, entropy: 0.42914721369743347\n",
      "3t mean logprob : -3.2889111042022705, entropy: 0.47563692927360535\n",
      "7t mean logprob : -0.9877132773399353, entropy: 0.5903869271278381\n",
      "7t mean logprob : -1.049129843711853, entropy: 0.6306419968605042\n",
      "7t mean logprob : -1.0626872777938843, entropy: 0.5350657105445862\n",
      "7t mean logprob : -1.037156343460083, entropy: 0.6286899447441101\n",
      "7t mean logprob : -1.1329776048660278, entropy: 0.5443536639213562\n",
      "10t mean logprob : -1.0900095701217651, entropy: 0.5871213674545288\n",
      "10t mean logprob : -1.1077663898468018, entropy: 0.627277672290802\n",
      "10t mean logprob : -0.8592087030410767, entropy: 0.5691759586334229\n",
      "10t mean logprob : -0.857124924659729, entropy: 0.5907197594642639\n",
      "10t mean logprob : -1.0029339790344238, entropy: 0.6348720788955688\n",
      "15t mean logprob : -0.7716396450996399, entropy: 0.6168399453163147\n",
      "15t mean logprob : -0.7821078300476074, entropy: 0.5935049653053284\n",
      "15t mean logprob : -0.8204922080039978, entropy: 0.62568199634552\n",
      "15t mean logprob : -0.7139673233032227, entropy: 0.5818595290184021\n",
      "15t mean logprob : -0.725257158279419, entropy: 0.6468968391418457\n"
     ]
    }
   ],
   "execution_count": 63
  },
  {
   "metadata": {
    "ExecuteTime": {
     "end_time": "2024-06-25T14:30:04.606188Z",
     "start_time": "2024-06-25T14:10:35.559391Z"
    }
   },
   "cell_type": "code",
   "source": [
    "vw_action_log_probs = {num_trajs: [] for num_trajs in traj_nums}\n",
    "vw_entropies = {num_trajs: [] for num_trajs in traj_nums}\n",
    "\n",
    "model_name = \"ValueWalk\"\n",
    "\n",
    "for n_trajectories, split_files in result_files.items():\n",
    "    for split, files in split_files.items():\n",
    "        model = load_and_combine_vw_models(files)\n",
    "        print(f\"{n_trajectories} trajectories, split {split}: Loaded a model with params of shape {reward_model.q_param_samples['theta_q'].shape} from {len(files)} files.\")\n",
    "        \n",
    "        subset_logprobs = []\n",
    "        subset_entropies = []\n",
    "        for i in range(10):\n",
    "            D_test_small = D_test[(10*i):(10*(i+1))]\n",
    "            action_ints = torch.argmax(D_test_small.actions_tensor, dim=-1)\n",
    "            action_logprobs_ba = model.boltzmann_action_probs(D_test_small.states_tensor.float(), plot_actions, beta, return_logprobs=True).detach()\n",
    "            entropy = -torch.sum(action_logprobs_ba * torch.exp(action_logprobs_ba), dim=-1)\n",
    "            action_logprobs_ba = action_logprobs_ba.gather(1, action_ints.unsqueeze(-1)).squeeze(-1)\n",
    "            mean_log_prob = torch.mean(action_logprobs_ba)\n",
    "            \n",
    "                    \n",
    "            subset_logprobs.append(mean_log_prob)\n",
    "            subset_entropies.append(torch.mean(entropy).item())\n",
    "            \n",
    "        vw_action_log_probs[n_trajectories].append(np.mean(subset_logprobs))\n",
    "        vw_entropies[n_trajectories].append(np.mean(subset_entropies))\n",
    "        print(f\"{model_name} mean log density   : {mean_log_prob}, entropy: {torch.mean(entropy)}\")\n"
   ],
   "id": "679b21075e309800",
   "outputs": [
    {
     "name": "stdout",
     "output_type": "stream",
     "text": [
      "7 trajectories, split 4: Loaded a model with params of shape torch.Size([2000, 937]) from 4 files.\n",
      "ValueWalk mean log density   : -0.5149522423744202, entropy: 0.5078274011611938\n",
      "7 trajectories, split 0: Loaded a model with params of shape torch.Size([2000, 937]) from 4 files.\n",
      "ValueWalk mean log density   : -0.4552973210811615, entropy: 0.5687806010246277\n",
      "7 trajectories, split 3: Loaded a model with params of shape torch.Size([2000, 937]) from 4 files.\n",
      "ValueWalk mean log density   : -0.5056448578834534, entropy: 0.514598548412323\n",
      "7 trajectories, split 2: Loaded a model with params of shape torch.Size([2000, 937]) from 4 files.\n",
      "ValueWalk mean log density   : -0.5806600451469421, entropy: 0.6707218289375305\n",
      "7 trajectories, split 1: Loaded a model with params of shape torch.Size([2000, 937]) from 4 files.\n",
      "ValueWalk mean log density   : -0.5620625019073486, entropy: 0.6620789766311646\n",
      "15 trajectories, split 2: Loaded a model with params of shape torch.Size([2000, 937]) from 2 files.\n",
      "ValueWalk mean log density   : -0.40516531467437744, entropy: 0.4541712701320648\n",
      "15 trajectories, split 3: Loaded a model with params of shape torch.Size([2000, 937]) from 2 files.\n",
      "ValueWalk mean log density   : -0.4021490514278412, entropy: 0.5294758081436157\n",
      "15 trajectories, split 0: Loaded a model with params of shape torch.Size([2000, 937]) from 2 files.\n",
      "ValueWalk mean log density   : -0.4711102843284607, entropy: 0.43290653824806213\n",
      "15 trajectories, split 4: Loaded a model with params of shape torch.Size([2000, 937]) from 2 files.\n",
      "ValueWalk mean log density   : -0.308369904756546, entropy: 0.4081462621688843\n",
      "15 trajectories, split 1: Loaded a model with params of shape torch.Size([2000, 937]) from 2 files.\n",
      "ValueWalk mean log density   : -0.4124358892440796, entropy: 0.5664571523666382\n",
      "10 trajectories, split 3: Loaded a model with params of shape torch.Size([2000, 937]) from 2 files.\n",
      "ValueWalk mean log density   : -0.5087361335754395, entropy: 0.4431942105293274\n",
      "10 trajectories, split 0: Loaded a model with params of shape torch.Size([2000, 937]) from 3 files.\n",
      "ValueWalk mean log density   : -0.46493399143218994, entropy: 0.5033193230628967\n",
      "10 trajectories, split 2: Loaded a model with params of shape torch.Size([2000, 937]) from 2 files.\n",
      "ValueWalk mean log density   : -0.7018855214118958, entropy: 0.6052941679954529\n",
      "10 trajectories, split 1: Loaded a model with params of shape torch.Size([2000, 937]) from 2 files.\n",
      "ValueWalk mean log density   : -0.6560435891151428, entropy: 0.6310566663742065\n",
      "10 trajectories, split 4: Loaded a model with params of shape torch.Size([2000, 937]) from 1 files.\n",
      "ValueWalk mean log density   : -0.41608354449272156, entropy: 0.4104708135128021\n",
      "1 trajectories, split 3: Loaded a model with params of shape torch.Size([2000, 937]) from 4 files.\n",
      "ValueWalk mean log density   : -1.1451860666275024, entropy: 1.1547620296478271\n",
      "1 trajectories, split 4: Loaded a model with params of shape torch.Size([2000, 937]) from 4 files.\n",
      "ValueWalk mean log density   : -0.9926055073738098, entropy: 0.9089173078536987\n",
      "1 trajectories, split 0: Loaded a model with params of shape torch.Size([2000, 937]) from 4 files.\n",
      "ValueWalk mean log density   : -1.1492500305175781, entropy: 0.9794597625732422\n",
      "1 trajectories, split 2: Loaded a model with params of shape torch.Size([2000, 937]) from 4 files.\n",
      "ValueWalk mean log density   : -1.0320560932159424, entropy: 0.8314327001571655\n",
      "1 trajectories, split 1: Loaded a model with params of shape torch.Size([2000, 937]) from 4 files.\n",
      "ValueWalk mean log density   : -1.2716354131698608, entropy: 1.0514453649520874\n",
      "3 trajectories, split 2: Loaded a model with params of shape torch.Size([2000, 937]) from 4 files.\n",
      "ValueWalk mean log density   : -1.0021085739135742, entropy: 0.7362211346626282\n",
      "3 trajectories, split 1: Loaded a model with params of shape torch.Size([2000, 937]) from 4 files.\n",
      "ValueWalk mean log density   : -0.7110640406608582, entropy: 0.8144441843032837\n",
      "3 trajectories, split 4: Loaded a model with params of shape torch.Size([2000, 937]) from 4 files.\n",
      "ValueWalk mean log density   : -0.8152205944061279, entropy: 0.6706628203392029\n",
      "3 trajectories, split 0: Loaded a model with params of shape torch.Size([2000, 937]) from 4 files.\n",
      "ValueWalk mean log density   : -0.6451483964920044, entropy: 0.6508628129959106\n",
      "3 trajectories, split 3: Loaded a model with params of shape torch.Size([2000, 937]) from 4 files.\n",
      "ValueWalk mean log density   : -0.7979274988174438, entropy: 0.7229617238044739\n"
     ]
    }
   ],
   "execution_count": 68
  },
  {
   "metadata": {
    "ExecuteTime": {
     "end_time": "2024-06-25T14:34:28.879777Z",
     "start_time": "2024-06-25T14:34:28.876445Z"
    }
   },
   "cell_type": "code",
   "source": "vw_action_log_probs",
   "id": "94f0fb78c9b3f98c",
   "outputs": [
    {
     "data": {
      "text/plain": [
       "{1: [-1.2515008, -1.1195505, -1.0998213, -1.169246, -1.3260069],\n",
       " 3: [-1.1069769, -0.75469804, -0.93705094, -0.7819993, -0.90452206],\n",
       " 7: [-0.59595835, -0.5519339, -0.6183099, -0.6381919, -0.5891495],\n",
       " 10: [-0.7125202, -0.55403733, -0.7148139, -0.6491734, -0.6633841],\n",
       " 15: [-0.5271952, -0.46562713, -0.4930641, -0.41778547, -0.5503043]}"
      ]
     },
     "execution_count": 69,
     "metadata": {},
     "output_type": "execute_result"
    }
   ],
   "execution_count": 69
  },
  {
   "metadata": {
    "ExecuteTime": {
     "end_time": "2024-06-25T14:34:33.763094Z",
     "start_time": "2024-06-25T14:34:33.722287Z"
    }
   },
   "cell_type": "code",
   "source": [
    "import scipy\n",
    "\n",
    "vw_means = []\n",
    "vw_lb = []\n",
    "vw_ub = []\n",
    "vw_entropy_means = []\n",
    "vw_entropy_lb = []\n",
    "vw_entropy_ub = []\n",
    "for num_trajs in traj_nums:\n",
    "    res = scipy.stats.bootstrap((vw_action_log_probs[num_trajs],), statistic=np.mean, confidence_level=0.90)\n",
    "    vw_means.append(np.mean(vw_action_log_probs[num_trajs]))\n",
    "    vw_lb.append(res.confidence_interval[0])\n",
    "    vw_ub.append(res.confidence_interval[1])\n",
    "    \n",
    "    res = scipy.stats.bootstrap((vw_entropies[num_trajs],), statistic=np.mean, confidence_level=0.90)\n",
    "    vw_entropy_means.append(np.mean(vw_entropies[num_trajs]))\n",
    "    vw_entropy_lb.append(res.confidence_interval[0])\n",
    "    vw_entropy_ub.append(res.confidence_interval[1])\n",
    "\n",
    "# Calculate the 90% confidence interval for AVRIL\n",
    "avril_means = []\n",
    "avril_lb = []\n",
    "avril_ub = []\n",
    "avril_entropy_means = []\n",
    "avril_entropy_lb = []\n",
    "avril_entropy_ub = []\n",
    "for num_trajs in traj_nums:\n",
    "    res = scipy.stats.bootstrap((avril_logprobs[num_trajs],), statistic=np.mean, confidence_level=0.90)\n",
    "    avril_means.append(np.mean(avril_logprobs[num_trajs]))\n",
    "    avril_lb.append(res.confidence_interval[0])\n",
    "    avril_ub.append(res.confidence_interval[1])\n",
    "    \n",
    "    res = scipy.stats.bootstrap((avril_entropy[num_trajs],), statistic=np.mean, confidence_level=0.90)\n",
    "    avril_entropy_means.append(np.mean(avril_entropy[num_trajs]))\n",
    "    avril_entropy_lb.append(res.confidence_interval[0])\n",
    "    avril_entropy_ub.append(res.confidence_interval[1])"
   ],
   "id": "6a4df8350e4345dc",
   "outputs": [],
   "execution_count": 70
  },
  {
   "metadata": {
    "ExecuteTime": {
     "end_time": "2024-06-25T14:35:43.077728Z",
     "start_time": "2024-06-25T14:35:42.627425Z"
    }
   },
   "cell_type": "code",
   "source": [
    "traj_nums = [1, 3, 7, 10, 15]\n",
    "# Assuming vw_means, vw_lb, vw_ub, avril_means, avril_lb, avril_ub, \n",
    "# vw_entropy_means, vw_entropy_lb, vw_entropy_ub, avril_entropy_means, avril_entropy_lb, avril_entropy_ub\n",
    "# are already calculated as in your code snippet\n",
    "\n",
    "# Create figure and primary axis\n",
    "fig, ax1 = plt.subplots(figsize=(4, 4))\n",
    "\n",
    "# Plot the means and confidence intervals for action log probabilities on primary axis\n",
    "ax1.plot(traj_nums, vw_means, label=\"ValueWalk\")\n",
    "ax1.fill_between(traj_nums, vw_lb, vw_ub, alpha=0.3)\n",
    "ax1.plot(traj_nums, avril_means, label=\"AVRIL\")\n",
    "ax1.fill_between(traj_nums, avril_lb, avril_ub, alpha=0.3)\n",
    "ax1.set_xlabel(\"Number of demonstration trajectories\")\n",
    "ax1.set_ylabel(\"Mean action log probability\")\n",
    "ax1.set_ylim(-12, 0)\n",
    "\n",
    "\n",
    "# Create a secondary axis for entropy values\n",
    "ax2 = ax1.twinx()\n",
    "ax2.plot(traj_nums, vw_entropy_means, label=\"ValueWalk entropy\", color=\"C0\", linestyle=\":\")\n",
    "ax2.fill_between(traj_nums, vw_entropy_lb, vw_entropy_ub, alpha=0.1)\n",
    "ax2.plot(traj_nums, avril_entropy_means, label=\"AVRIL entropy\", color=\"C1\", linestyle=\":\")\n",
    "ax2.fill_between(traj_nums, avril_entropy_lb, avril_entropy_ub, alpha=0.1)\n",
    "ax2.set_ylabel(\"Action entropy\")\n",
    "ax2.set_ylim(0, 1.3)\n",
    "\n",
    "# Adding legends\n",
    "lines, labels = ax1.get_legend_handles_labels()\n",
    "lines2, labels2 = ax2.get_legend_handles_labels()\n",
    "# ax1.legend(lines + lines2, labels + labels2, loc='center right')\n",
    "\n",
    "# Set x ticks to the number of demonstration trajectoriescartpole\n",
    "ax1.set_xticks(traj_nums)\n",
    "\n",
    "plt.title(env_config.env_name)\n",
    "\n",
    "# Save the plot\n",
    "plt.savefig(\"/home/ob/results/irl-torch/birl/lunar_lander_action_logprobs_and_entropy_new.pdf\")\n",
    "\n",
    "plt.show()"
   ],
   "id": "8361dea34260857f",
   "outputs": [
    {
     "data": {
      "text/plain": [
       "<Figure size 400x400 with 2 Axes>"
      ],
      "image/png": "[encoded data removed]"
     },
     "metadata": {},
     "output_type": "display_data"
    }
   ],
   "execution_count": 73
  },
  {
   "metadata": {},
   "cell_type": "code",
   "outputs": [],
   "execution_count": null,
   "source": "",
   "id": "d09998a24d1f32b9"
  }
 ],
 "metadata": {
  "kernelspec": {
   "display_name": "Python 3",
   "language": "python",
   "name": "python3"
  },
  "language_info": {
   "codemirror_mode": {
    "name": "ipython",
    "version": 2
   },
   "file_extension": ".py",
   "mimetype": "text/x-python",
   "name": "python",
   "nbconvert_exporter": "python",
   "pygments_lexer": "ipython2",
   "version": "2.7.6"
  }
 },
 "nbformat": 4,
 "nbformat_minor": 5
}
